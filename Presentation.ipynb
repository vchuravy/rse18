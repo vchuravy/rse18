{
 "cells": [
  {
   "cell_type": "markdown",
   "metadata": {
    "slideshow": {
     "slide_type": "slide"
    }
   },
   "source": [
    "## An introduction to Julia (RSE 2018)\n",
    "#### by Valentin Churavy, JuliaLab, CSAIL, MIT\n",
    "\n",
    "```\n",
    "               _\n",
    "   _       _ _(_)_     \n",
    "  (_)     | (_) (_)    \n",
    "   _ _   _| |_  __ _   \n",
    "  | | | | | | |/ _` |\n",
    "  | | |_| | | | (_| |\n",
    " _/ |\\__'_|_|_|\\__'_|\n",
    "|__/                 \n",
    "```\n",
    "\n"
   ]
  },
  {
   "cell_type": "markdown",
   "metadata": {
    "slideshow": {
     "slide_type": "slide"
    }
   },
   "source": [
    "# Following along!\n",
    "1. Use https://juliabox.org to get a cloud instance of Jupyter with Julia\n",
    "2. Follow the instructions on https://julialang.org/downloads/\n",
    "3. To use Jupyter install IJulia.jl https://github.com/JuliaLang/IJulia.jl\n",
    "4. VSCode has great Julia support"
   ]
  },
  {
   "cell_type": "markdown",
   "metadata": {
    "slideshow": {
     "slide_type": "slide"
    }
   },
   "source": [
    "# What is Julia?\n",
    "*Walks like Python, talks like Lips, runs like Fortran*\n",
    "- Modern high-level dynamic programming language\n",
    "- Engineered with performance in mind\n",
    "- n-based array access (but opinionated about 1-based)\n",
    "- Julia Manifesto: https://julialang.org/blog/2012/02/why-we-created-julia\n",
    "- Noteworthy differences: https://docs.julialang.org/en/latest/manual/noteworthy-differences/\n",
    "- The Julia promise: Within 2x of C at the ease of Python"
   ]
  },
  {
   "cell_type": "markdown",
   "metadata": {
    "slideshow": {
     "slide_type": "slide"
    }
   },
   "source": [
    "# Why Julia?\n",
    "\n",
    "*Come for the speed, stay for the productivity*\n",
    "\n",
    "- Elegant\n",
    "- Explorable & Understandable\n",
    "- No privileged types/code\n",
    "- No need to switch languages\n",
    "- Code that is close to the mathematics"
   ]
  },
  {
   "cell_type": "markdown",
   "metadata": {
    "slideshow": {
     "slide_type": "slide"
    }
   },
   "source": [
    "# What is the 2 language problem?\n",
    "You start out proto-typing in one language (high-level, dynamic),\n",
    "but performance forces you to switch to a different one (low-level, static).\n"
   ]
  },
  {
   "cell_type": "markdown",
   "metadata": {
    "slideshow": {
     "slide_type": "subslide"
    }
   },
   "source": [
    "- For **convinience** use a scripting language (Python, R, Matlab, ...)\n",
    "- but do all the **hard stuff** in a systems language (C, C++, Fortran)"
   ]
  },
  {
   "cell_type": "markdown",
   "metadata": {
    "slideshow": {
     "slide_type": "subslide"
    }
   },
   "source": [
    "Pragmatic for many applications, but has drawbacks\n",
    "- aren't the **hard parts** exactly where you need an **easier** language\n",
    "- creates a **social barrier** -- a wall between users and developers\n",
    "- **\"sandwich problem\"** -- layering of system & user code is expensive\n",
    "- **prohibits** full stack optimisations"
   ]
  },
  {
   "cell_type": "markdown",
   "metadata": {
    "slideshow": {
     "slide_type": "slide"
    }
   },
   "source": [
    "# Julia for RSEs?\n",
    "*Tearing down barriers of collaboration*\n",
    "\n",
    "- Fostering collaboration\n",
    "- Low-barrier from package user to package developer\n",
    "- One codebase to rule them all\n",
    "- Poster child: Celeste.jl\n",
    "- Understandable and explorable performance"
   ]
  },
  {
   "cell_type": "markdown",
   "metadata": {
    "slideshow": {
     "slide_type": "slide"
    }
   },
   "source": [
    "# Julia now!\n",
    "- v\"1.0.0\" tagged and released August 8th, 2018\n",
    "- stable foundation to build tools upon\n",
    "- we promise less breakage\n",
    "- comes with a new package manager that focuses on reproducibility\n",
    "- JuliaCon >350 attendees, sold-out, all talks available and live-streamed.\n",
    "- Excellent native GPU computing support"
   ]
  },
  {
   "cell_type": "markdown",
   "metadata": {
    "slideshow": {
     "slide_type": "slide"
    }
   },
   "source": [
    "# The future!\n",
    "- Improvements for parallel, heterogeous, and distributed computing (ask me later!)\n",
    "- Composable machine learning\n",
    "  - Model is a program, not data\n",
    "  - Differentiable programming"
   ]
  },
  {
   "cell_type": "markdown",
   "metadata": {
    "slideshow": {
     "slide_type": "slide"
    }
   },
   "source": [
    "# Resources\n",
    "- Documentation: https://docs.julialang.org/en/stable/\n",
    "- Forum: https://discourse.julialang.org/\n",
    "- Issue tracker: https://github.com/JuliaLang/julia\n",
    "- Join us on Slack: https://slackinvite.julialang.org/\n",
    "- Pkgs: https://juliaobserver.com/ and https://pkg.julialang.org/pulse\n",
    "- https://benlauwens.github.io/ThinkJulia.jl/latest/book.html\n",
    "- https://www.youtube.com/channel/UC9IuUwwE2xdjQUT_LMLONoA"
   ]
  },
  {
   "cell_type": "markdown",
   "metadata": {
    "slideshow": {
     "slide_type": "slide"
    }
   },
   "source": [
    "# Is Julia fast?\n",
    "*Enough talk -- let's code*\n",
    "\n",
    "$$\n",
    "sum(a) = \\sum_i^n a_i\n",
    "$$\n"
   ]
  },
  {
   "cell_type": "markdown",
   "metadata": {
    "slideshow": {
     "slide_type": "fragment"
    }
   },
   "source": [
    "- This material began life as a wonderful [lecture by Steven Johnson at MIT](https://github.com/stevengj/18S096-iap17/blob/master/lecture1/Boxes-and-registers.ipynb).\n",
    "- With apologies to the numerical computing folks, this is not the algorithm you should use!\n"
   ]
  },
  {
   "cell_type": "code",
   "execution_count": 1,
   "metadata": {
    "slideshow": {
     "slide_type": "fragment"
    }
   },
   "outputs": [],
   "source": [
    "# pick a large N to not measure call-overhead\n",
    "data = rand(10_000_000);"
   ]
  },
  {
   "cell_type": "code",
   "execution_count": 2,
   "metadata": {
    "scrolled": true,
    "slideshow": {
     "slide_type": "skip"
    }
   },
   "outputs": [
    {
     "name": "stdout",
     "output_type": "stream",
     "text": [
      "\u001b[32m\u001b[1m  Updating\u001b[22m\u001b[39m registry at `~/.julia/registries/General`\n",
      "\u001b[32m\u001b[1m  Updating\u001b[22m\u001b[39m git-repo `https://github.com/JuliaRegistries/General.git`\n",
      "\u001b[2K\u001b[?25h[1mFetching:\u001b[22m\u001b[39m [========================================>]  100.0 %.0 %\u001b[32m\u001b[1mPrecompiling\u001b[22m\u001b[39m project...\n"
     ]
    }
   ],
   "source": [
    "using Pkg\n",
    "Pkg.activate(@__DIR__)\n",
    "Pkg.instantiate()\n",
    "pkg\"precompile\""
   ]
  },
  {
   "cell_type": "code",
   "execution_count": 3,
   "metadata": {
    "slideshow": {
     "slide_type": "subslide"
    }
   },
   "outputs": [],
   "source": [
    "C_code =  \"\"\"\n",
    "#include <stddef.h>\n",
    "double c_sum(size_t n, double *X) {\n",
    "    double s = 0.0;\n",
    "    for (size_t i = 0; i < n; ++i) {\n",
    "        s += X[i];\n",
    "    }\n",
    "    return s;\n",
    "}\n",
    "\"\"\";"
   ]
  },
  {
   "cell_type": "code",
   "execution_count": 4,
   "metadata": {
    "slideshow": {
     "slide_type": "skip"
    }
   },
   "outputs": [],
   "source": [
    "using Libdl\n",
    "const Clib = tempname()   # make a temporary file\n",
    "\n",
    "# compile to a shared library by piping C_code to gcc\n",
    "# (works only if you have gcc installed):\n",
    "\n",
    "open(`gcc -fPIC -O3 -msse3 -xc -shared -o $(Clib * \".\" * Libdl.dlext) -`, \"w\") do f\n",
    "    print(f, C_code) \n",
    "end"
   ]
  },
  {
   "cell_type": "code",
   "execution_count": 5,
   "metadata": {
    "slideshow": {
     "slide_type": "subslide"
    }
   },
   "outputs": [
    {
     "data": {
      "text/plain": [
       "c_sum (generic function with 1 method)"
      ]
     },
     "execution_count": 5,
     "metadata": {},
     "output_type": "execute_result"
    }
   ],
   "source": [
    "function c_sum(X::Array{Float64})\n",
    "    ccall((\"c_sum\", Clib), \n",
    "          Float64,\n",
    "          (Csize_t, Ref{Float64}),\n",
    "          length(X), X)\n",
    "end"
   ]
  },
  {
   "cell_type": "code",
   "execution_count": 6,
   "metadata": {
    "slideshow": {
     "slide_type": "subslide"
    }
   },
   "outputs": [],
   "source": [
    "using PyCall\n",
    "\n",
    "# Get two python objects that represent data\n",
    "# First a list and then a numpy array\n",
    "# We do this to cut down conversion overhead\n",
    "apy_list = PyCall.array2py(data, 1, 1)\n",
    "apy_numpy = PyObject(data)\n",
    "\n",
    "# get the Python built-in \"sum\" function:\n",
    "pysum = pybuiltin(\"sum\");\n",
    "# get the Numpy \"sum\" function:\n",
    "numpy_sum = pyimport(\"numpy\")[\"sum\"];"
   ]
  },
  {
   "cell_type": "code",
   "execution_count": 7,
   "metadata": {
    "slideshow": {
     "slide_type": "subslide"
    }
   },
   "outputs": [],
   "source": [
    "py\"\"\"\n",
    "def py_sum(a):\n",
    "    s = 0.0\n",
    "    for x in a:\n",
    "        s = s + x\n",
    "    return s\n",
    "\"\"\"\n",
    "\n",
    "sum_py = py\"py_sum\";"
   ]
  },
  {
   "cell_type": "code",
   "execution_count": 8,
   "metadata": {
    "slideshow": {
     "slide_type": "subslide"
    }
   },
   "outputs": [
    {
     "data": {
      "text/plain": [
       "mysum (generic function with 1 method)"
      ]
     },
     "execution_count": 8,
     "metadata": {},
     "output_type": "execute_result"
    }
   ],
   "source": [
    "function mysum(data)\n",
    "  acc = zero(eltype(data))\n",
    "  for x in data\n",
    "      acc += x\n",
    "  end\n",
    "  return acc\n",
    "end"
   ]
  },
  {
   "cell_type": "code",
   "execution_count": 9,
   "metadata": {
    "slideshow": {
     "slide_type": "fragment"
    }
   },
   "outputs": [
    {
     "data": {
      "text/html": [
       "sum(a::<b>AbstractArray</b>) in Base at <a href=\"https://github.com/JuliaLang/julia/tree/5d4eaca0c9fa3d555c79dbacdccb9169fdf64b65/base/reducedim.jl#L645\" target=\"_blank\">reducedim.jl:645</a>"
      ],
      "text/plain": [
       "sum(a::AbstractArray) in Base at reducedim.jl:645"
      ]
     },
     "execution_count": 9,
     "metadata": {},
     "output_type": "execute_result"
    }
   ],
   "source": [
    "@which sum(data)"
   ]
  },
  {
   "cell_type": "code",
   "execution_count": 10,
   "metadata": {
    "slideshow": {
     "slide_type": "skip"
    }
   },
   "outputs": [
    {
     "data": {
      "text/plain": [
       "6-element BenchmarkTools.BenchmarkGroup:\n",
       "  tags: []\n",
       "  \"Julia builtin\" => Benchmark(evals=1, seconds=5.0, samples=10000)\n",
       "  \"Julia handwritten\" => Benchmark(evals=1, seconds=5.0, samples=10000)\n",
       "  \"Simple C function\" => Benchmark(evals=1, seconds=5.0, samples=10000)\n",
       "  \"Python builtin (list)\" => Benchmark(evals=1, seconds=5.0, samples=10000)\n",
       "  \"Python builtin (numpy)\" => Benchmark(evals=1, seconds=5.0, samples=10000)\n",
       "  \"Python handwritten\" => Benchmark(evals=1, seconds=5.0, samples=10000)"
      ]
     },
     "execution_count": 10,
     "metadata": {},
     "output_type": "execute_result"
    }
   ],
   "source": [
    "using BenchmarkTools\n",
    "\n",
    "suite = BenchmarkGroup()\n",
    "suite[\"Julia handwritten\"]       = @benchmarkable mysum($data)\n",
    "suite[\"Julia builtin\"]           = @benchmarkable sum($data)\n",
    "suite[\"Simple C function\"]       = @benchmarkable c_sum($data)\n",
    "suite[\"Python builtin (list)\"]   = @benchmarkable $pysum($apy_list)\n",
    "suite[\"Python builtin (numpy)\"]  = @benchmarkable $numpy_sum($apy_numpy)\n",
    "suite[\"Python handwritten\"]      = @benchmarkable $sum_py($apy_list)\n",
    "\n",
    "# If a cache of tuned parameters already exists, use it, otherwise, tune and cache\n",
    "# the benchmark parameters. Reusing cached parameters is faster and more reliable\n",
    "# than re-tuning `suite` every time the file is included.\n",
    "paramspath = joinpath(@__DIR__, \"sum_bench.json\")\n",
    "\n",
    "if isfile(paramspath)\n",
    "    loadparams!(suite, BenchmarkTools.load(paramspath)[1], :evals);\n",
    "else\n",
    "    tune!(suite)\n",
    "    BenchmarkTools.save(paramspath, params(suite));\n",
    "end"
   ]
  },
  {
   "cell_type": "code",
   "execution_count": 11,
   "metadata": {
    "slideshow": {
     "slide_type": "skip"
    }
   },
   "outputs": [
    {
     "data": {
      "text/plain": [
       "6-element BenchmarkTools.BenchmarkGroup:\n",
       "  tags: []\n",
       "  \"Julia builtin\" => Trial(4.354 ms)\n",
       "  \"Julia handwritten\" => Trial(10.301 ms)\n",
       "  \"Simple C function\" => Trial(10.393 ms)\n",
       "  \"Python builtin (list)\" => Trial(38.724 ms)\n",
       "  \"Python builtin (numpy)\" => Trial(4.235 ms)\n",
       "  \"Python handwritten\" => Trial(224.656 ms)"
      ]
     },
     "execution_count": 11,
     "metadata": {},
     "output_type": "execute_result"
    }
   ],
   "source": [
    "results = run(suite)"
   ]
  },
  {
   "cell_type": "code",
   "execution_count": 12,
   "metadata": {
    "scrolled": true,
    "slideshow": {
     "slide_type": "subslide"
    }
   },
   "outputs": [
    {
     "name": "stdout",
     "output_type": "stream",
     "text": [
      "Python builtin (numpy)................4.24 ms\n",
      "Julia builtin.........................4.35 ms\n",
      "Julia handwritten.....................10.3 ms\n",
      "Simple C function....................10.39 ms\n",
      "Python builtin (list)................38.72 ms\n",
      "Python handwritten..................224.66 ms\n"
     ]
    }
   ],
   "source": [
    "for (name, trial) in sort(collect(results), by=x->time(x[2]))\n",
    "    t = time(trial) / 1e6\n",
    "    println(rpad(name, 25, \".\"), lpad(string(round(t, digits=2), \" ms\"), 20, \".\"))\n",
    "end"
   ]
  },
  {
   "cell_type": "markdown",
   "metadata": {
    "slideshow": {
     "slide_type": "notes"
    }
   },
   "source": [
    "# In conclusion:\n",
    "The point is not that Julia has the fasted sum, the point is that a simple Julia implementation (that looks and feels like Python) is as fast as simple C, and that well optimised Julia code can be even faster.\n",
    "\n",
    "We can improve performance by giving the compiler more information `@inbounds` and `@simd`"
   ]
  },
  {
   "cell_type": "markdown",
   "metadata": {
    "slideshow": {
     "slide_type": "subslide"
    }
   },
   "source": [
    "# Improving performance"
   ]
  },
  {
   "cell_type": "code",
   "execution_count": 13,
   "metadata": {
    "slideshow": {
     "slide_type": "fragment"
    }
   },
   "outputs": [
    {
     "data": {
      "text/plain": [
       "mysum2 (generic function with 1 method)"
      ]
     },
     "execution_count": 13,
     "metadata": {},
     "output_type": "execute_result"
    }
   ],
   "source": [
    "function mysum2(data)\n",
    "    acc = zero(eltype(data))\n",
    "    @simd for x in data\n",
    "        acc += x\n",
    "    end\n",
    "    acc\n",
    "end"
   ]
  },
  {
   "cell_type": "code",
   "execution_count": 14,
   "metadata": {
    "slideshow": {
     "slide_type": "fragment"
    }
   },
   "outputs": [
    {
     "data": {
      "text/plain": [
       "BenchmarkTools.Trial: \n",
       "  memory estimate:  0 bytes\n",
       "  allocs estimate:  0\n",
       "  --------------\n",
       "  minimum time:     4.518 ms (0.00% GC)\n",
       "  median time:      5.235 ms (0.00% GC)\n",
       "  mean time:        5.550 ms (0.00% GC)\n",
       "  maximum time:     15.395 ms (0.00% GC)\n",
       "  --------------\n",
       "  samples:          899\n",
       "  evals/sample:     1"
      ]
     },
     "execution_count": 14,
     "metadata": {},
     "output_type": "execute_result"
    }
   ],
   "source": [
    "@benchmark mysum2($data)"
   ]
  },
  {
   "cell_type": "markdown",
   "metadata": {
    "slideshow": {
     "slide_type": "subslide"
    }
   },
   "source": [
    "# Aside: Which method"
   ]
  },
  {
   "cell_type": "code",
   "execution_count": 15,
   "metadata": {
    "slideshow": {
     "slide_type": "fragment"
    }
   },
   "outputs": [
    {
     "data": {
      "text/html": [
       "sum(a::<b>AbstractArray</b>) in Base at <a href=\"https://github.com/JuliaLang/julia/tree/5d4eaca0c9fa3d555c79dbacdccb9169fdf64b65/base/reducedim.jl#L645\" target=\"_blank\">reducedim.jl:645</a>"
      ],
      "text/plain": [
       "sum(a::AbstractArray) in Base at reducedim.jl:645"
      ]
     },
     "execution_count": 15,
     "metadata": {},
     "output_type": "execute_result"
    }
   ],
   "source": [
    "@which sum(data)"
   ]
  },
  {
   "cell_type": "code",
   "execution_count": 16,
   "metadata": {
    "slideshow": {
     "slide_type": "fragment"
    }
   },
   "outputs": [
    {
     "data": {
      "text/html": [
       "mapreduce(f, op, A::<b>AbstractArray</b>) in Base at <a href=\"https://github.com/JuliaLang/julia/tree/5d4eaca0c9fa3d555c79dbacdccb9169fdf64b65/base/reducedim.jl#L301\" target=\"_blank\">reducedim.jl:301</a>"
      ],
      "text/plain": [
       "mapreduce(f, op, A::AbstractArray) in Base at reducedim.jl:301"
      ]
     },
     "execution_count": 16,
     "metadata": {},
     "output_type": "execute_result"
    }
   ],
   "source": [
    "@which mapreduce(identity, Base.add_sum, data)"
   ]
  },
  {
   "cell_type": "code",
   "execution_count": 17,
   "metadata": {
    "slideshow": {
     "slide_type": "fragment"
    }
   },
   "outputs": [
    {
     "data": {
      "text/html": [
       "_mapreduce<i>{T}</i>(f, op, ::<b>IndexLinear</b>, A::<b>AbstractArray{T,N} where N</b>) in Base at <a href=\"https://github.com/JuliaLang/julia/tree/5d4eaca0c9fa3d555c79dbacdccb9169fdf64b65/base/reduce.jl#L300\" target=\"_blank\">reduce.jl:300</a>"
      ],
      "text/plain": [
       "_mapreduce(f, op, ::IndexLinear, A::AbstractArray{T,N} where N) where T in Base at reduce.jl:300"
      ]
     },
     "execution_count": 17,
     "metadata": {},
     "output_type": "execute_result"
    }
   ],
   "source": [
    "@which Base._mapreduce(identity, Base.add_sum, IndexStyle(data), data)"
   ]
  },
  {
   "cell_type": "code",
   "execution_count": 18,
   "metadata": {
    "slideshow": {
     "slide_type": "subslide"
    }
   },
   "outputs": [
    {
     "data": {
      "text/html": [
       "mapreduce_impl(f, op, A::<b>AbstractArray</b>, ifirst::<b>Integer</b>, ilast::<b>Integer</b>) in Base at <a href=\"https://github.com/JuliaLang/julia/tree/5d4eaca0c9fa3d555c79dbacdccb9169fdf64b65/base/reduce.jl#L176\" target=\"_blank\">reduce.jl:176</a>"
      ],
      "text/plain": [
       "mapreduce_impl(f, op, A::AbstractArray, ifirst::Integer, ilast::Integer) in Base at reduce.jl:176"
      ]
     },
     "execution_count": 18,
     "metadata": {},
     "output_type": "execute_result"
    }
   ],
   "source": [
    "inds = LinearIndices(data)\n",
    "@which Base.mapreduce_impl(identity, Base.add_sum, data, first(inds), last(inds))"
   ]
  },
  {
   "cell_type": "code",
   "execution_count": 19,
   "metadata": {
    "slideshow": {
     "slide_type": "fragment"
    }
   },
   "outputs": [
    {
     "name": "stdout",
     "output_type": "stream",
     "text": [
      "blksize = Base.pairwise_blocksize(identity, Base.add_sum) = 1024\n"
     ]
    },
    {
     "data": {
      "text/html": [
       "mapreduce_impl(f, op, A::<b>AbstractArray</b>, ifirst::<b>Integer</b>, ilast::<b>Integer</b>, blksize::<b>Int64</b>) in Base at <a href=\"https://github.com/JuliaLang/julia/tree/5d4eaca0c9fa3d555c79dbacdccb9169fdf64b65/base/reduce.jl#L154\" target=\"_blank\">reduce.jl:154</a>"
      ],
      "text/plain": [
       "mapreduce_impl(f, op, A::AbstractArray, ifirst::Integer, ilast::Integer, blksize::Int64) in Base at reduce.jl:154"
      ]
     },
     "execution_count": 19,
     "metadata": {},
     "output_type": "execute_result"
    }
   ],
   "source": [
    "@show blksize = Base.pairwise_blocksize(identity, Base.add_sum)\n",
    "@which Base.mapreduce_impl(identity, Base.add_sum, data, first(inds), last(inds),blksize)"
   ]
  },
  {
   "cell_type": "markdown",
   "metadata": {
    "slideshow": {
     "slide_type": "slide"
    }
   },
   "source": [
    "# Basic Julia\n",
    "- We have seen how to define a function\n",
    "- We gotten a hint of FFI support\n",
    "- Important syntax/concepts\n",
    "    - multiple dispatch\n",
    "    - macros\n",
    "    - broadcasting"
   ]
  },
  {
   "cell_type": "markdown",
   "metadata": {
    "slideshow": {
     "slide_type": "subslide"
    }
   },
   "source": [
    "# Multiple dispatch in a nutshell\n",
    "*think templates/method overloading but more powerful*"
   ]
  },
  {
   "cell_type": "code",
   "execution_count": 20,
   "metadata": {
    "slideshow": {
     "slide_type": "fragment"
    }
   },
   "outputs": [
    {
     "data": {
      "text/plain": [
       "f (generic function with 3 methods)"
      ]
     },
     "execution_count": 20,
     "metadata": {},
     "output_type": "execute_result"
    }
   ],
   "source": [
    "f(x) = \"x is Any\"\n",
    "f(x::Number) = \"x is a Number\"\n",
    "f(x::Float32) = \"x is a Float32\""
   ]
  },
  {
   "cell_type": "code",
   "execution_count": 21,
   "metadata": {
    "slideshow": {
     "slide_type": "fragment"
    }
   },
   "outputs": [
    {
     "data": {
      "text/html": [
       "3 methods for generic function <b>f</b>:<ul><li> f(x::<b>Float32</b>) in Main at In[20]:3</li> <li> f(x::<b>Number</b>) in Main at In[20]:2</li> <li> f(x) in Main at In[20]:1</li> </ul>"
      ],
      "text/plain": [
       "# 3 methods for generic function \"f\":\n",
       "[1] f(x::Float32) in Main at In[20]:3\n",
       "[2] f(x::Number) in Main at In[20]:2\n",
       "[3] f(x) in Main at In[20]:1"
      ]
     },
     "execution_count": 21,
     "metadata": {},
     "output_type": "execute_result"
    }
   ],
   "source": [
    "methods(f)"
   ]
  },
  {
   "cell_type": "code",
   "execution_count": 22,
   "metadata": {
    "slideshow": {
     "slide_type": "fragment"
    }
   },
   "outputs": [
    {
     "data": {
      "text/plain": [
       "f (generic function with 4 methods)"
      ]
     },
     "execution_count": 22,
     "metadata": {},
     "output_type": "execute_result"
    }
   ],
   "source": [
    "f(x::Float64, y::Float64) = 2x + y"
   ]
  },
  {
   "cell_type": "code",
   "execution_count": 23,
   "metadata": {
    "slideshow": {
     "slide_type": "fragment"
    }
   },
   "outputs": [
    {
     "data": {
      "text/plain": [
       "4.0"
      ]
     },
     "execution_count": 23,
     "metadata": {},
     "output_type": "execute_result"
    }
   ],
   "source": [
    "f(1.0, 2.0)"
   ]
  },
  {
   "cell_type": "code",
   "execution_count": 24,
   "metadata": {
    "slideshow": {
     "slide_type": "subslide"
    }
   },
   "outputs": [
    {
     "ename": "LoadError",
     "evalue": "MethodError: no method matching f(::Float64, ::Int64)\nClosest candidates are:\n  f(::Float64, !Matched::Float64) at In[22]:1\n  f(::Number) at In[20]:2\n  f(::Any) at In[20]:1",
     "output_type": "error",
     "traceback": [
      "MethodError: no method matching f(::Float64, ::Int64)\nClosest candidates are:\n  f(::Float64, !Matched::Float64) at In[22]:1\n  f(::Number) at In[20]:2\n  f(::Any) at In[20]:1",
      "",
      "Stacktrace:",
      " [1] top-level scope at none:0"
     ]
    }
   ],
   "source": [
    "f(1.0, 1)"
   ]
  },
  {
   "cell_type": "code",
   "execution_count": 25,
   "metadata": {
    "slideshow": {
     "slide_type": "fragment"
    }
   },
   "outputs": [
    {
     "data": {
      "text/plain": [
       "f (generic function with 5 methods)"
      ]
     },
     "execution_count": 25,
     "metadata": {},
     "output_type": "execute_result"
    }
   ],
   "source": [
    "f(x::Number, y::Number) = 2x + y"
   ]
  },
  {
   "cell_type": "code",
   "execution_count": 26,
   "metadata": {
    "slideshow": {
     "slide_type": "fragment"
    }
   },
   "outputs": [
    {
     "data": {
      "text/plain": [
       "3.0"
      ]
     },
     "execution_count": 26,
     "metadata": {},
     "output_type": "execute_result"
    }
   ],
   "source": [
    "f(1.0, 1)"
   ]
  },
  {
   "cell_type": "code",
   "execution_count": 27,
   "metadata": {
    "slideshow": {
     "slide_type": "subslide"
    }
   },
   "outputs": [
    {
     "data": {
      "text/html": [
       "167 methods for generic function <b>+</b>:<ul><li> +(x::<b>Bool</b>, z::<b>Complex{Bool}</b>) in Base at <a href=\"https://github.com/JuliaLang/julia/tree/5d4eaca0c9fa3d555c79dbacdccb9169fdf64b65/base/complex.jl#L277\" target=\"_blank\">complex.jl:277</a></li> <li> +(x::<b>Bool</b>, y::<b>Bool</b>) in Base at <a href=\"https://github.com/JuliaLang/julia/tree/5d4eaca0c9fa3d555c79dbacdccb9169fdf64b65/base/bool.jl#L104\" target=\"_blank\">bool.jl:104</a></li> <li> +(x::<b>Bool</b>) in Base at <a href=\"https://github.com/JuliaLang/julia/tree/5d4eaca0c9fa3d555c79dbacdccb9169fdf64b65/base/bool.jl#L101\" target=\"_blank\">bool.jl:101</a></li> <li> +<i>{T<:AbstractFloat}</i>(x::<b>Bool</b>, y::<b>T</b>) in Base at <a href=\"https://github.com/JuliaLang/julia/tree/5d4eaca0c9fa3d555c79dbacdccb9169fdf64b65/base/bool.jl#L112\" target=\"_blank\">bool.jl:112</a></li> <li> +(x::<b>Bool</b>, z::<b>Complex</b>) in Base at <a href=\"https://github.com/JuliaLang/julia/tree/5d4eaca0c9fa3d555c79dbacdccb9169fdf64b65/base/complex.jl#L284\" target=\"_blank\">complex.jl:284</a></li> <li> +(a::<b>Float16</b>, b::<b>Float16</b>) in Base at <a href=\"https://github.com/JuliaLang/julia/tree/5d4eaca0c9fa3d555c79dbacdccb9169fdf64b65/base/float.jl#L392\" target=\"_blank\">float.jl:392</a></li> <li> +(x::<b>Float32</b>, y::<b>Float32</b>) in Base at <a href=\"https://github.com/JuliaLang/julia/tree/5d4eaca0c9fa3d555c79dbacdccb9169fdf64b65/base/float.jl#L394\" target=\"_blank\">float.jl:394</a></li> <li> +(x::<b>Float64</b>, y::<b>Float64</b>) in Base at <a href=\"https://github.com/JuliaLang/julia/tree/5d4eaca0c9fa3d555c79dbacdccb9169fdf64b65/base/float.jl#L395\" target=\"_blank\">float.jl:395</a></li> <li> +(z::<b>Complex{Bool}</b>, x::<b>Bool</b>) in Base at <a href=\"https://github.com/JuliaLang/julia/tree/5d4eaca0c9fa3d555c79dbacdccb9169fdf64b65/base/complex.jl#L278\" target=\"_blank\">complex.jl:278</a></li> <li> +(z::<b>Complex{Bool}</b>, x::<b>Real</b>) in Base at <a href=\"https://github.com/JuliaLang/julia/tree/5d4eaca0c9fa3d555c79dbacdccb9169fdf64b65/base/complex.jl#L292\" target=\"_blank\">complex.jl:292</a></li> <li> +(::<b>Missing</b>, ::<b>Missing</b>) in Base at <a href=\"https://github.com/JuliaLang/julia/tree/5d4eaca0c9fa3d555c79dbacdccb9169fdf64b65/base/missing.jl#L92\" target=\"_blank\">missing.jl:92</a></li> <li> +(::<b>Missing</b>) in Base at <a href=\"https://github.com/JuliaLang/julia/tree/5d4eaca0c9fa3d555c79dbacdccb9169fdf64b65/base/missing.jl#L79\" target=\"_blank\">missing.jl:79</a></li> <li> +(::<b>Missing</b>, ::<b>Number</b>) in Base at <a href=\"https://github.com/JuliaLang/julia/tree/5d4eaca0c9fa3d555c79dbacdccb9169fdf64b65/base/missing.jl#L93\" target=\"_blank\">missing.jl:93</a></li> <li> +(level::<b>Base.CoreLogging.LogLevel</b>, inc::<b>Integer</b>) in Base.CoreLogging at <a href=\"https://github.com/JuliaLang/julia/tree/5d4eaca0c9fa3d555c79dbacdccb9169fdf64b65/base/logging.jl#L106\" target=\"_blank\">logging.jl:106</a></li> <li> +(c::<b>BigInt</b>, x::<b>BigFloat</b>) in Base.MPFR at <a href=\"https://github.com/JuliaLang/julia/tree/5d4eaca0c9fa3d555c79dbacdccb9169fdf64b65/base/mpfr.jl#L353\" target=\"_blank\">mpfr.jl:353</a></li> <li> +(a::<b>BigInt</b>, b::<b>BigInt</b>, c::<b>BigInt</b>, d::<b>BigInt</b>, e::<b>BigInt</b>) in Base.GMP at <a href=\"https://github.com/JuliaLang/julia/tree/5d4eaca0c9fa3d555c79dbacdccb9169fdf64b65/base/gmp.jl#L443\" target=\"_blank\">gmp.jl:443</a></li> <li> +(a::<b>BigInt</b>, b::<b>BigInt</b>, c::<b>BigInt</b>, d::<b>BigInt</b>) in Base.GMP at <a href=\"https://github.com/JuliaLang/julia/tree/5d4eaca0c9fa3d555c79dbacdccb9169fdf64b65/base/gmp.jl#L442\" target=\"_blank\">gmp.jl:442</a></li> <li> +(a::<b>BigInt</b>, b::<b>BigInt</b>, c::<b>BigInt</b>) in Base.GMP at <a href=\"https://github.com/JuliaLang/julia/tree/5d4eaca0c9fa3d555c79dbacdccb9169fdf64b65/base/gmp.jl#L441\" target=\"_blank\">gmp.jl:441</a></li> <li> +(x::<b>BigInt</b>, y::<b>BigInt</b>) in Base.GMP at <a href=\"https://github.com/JuliaLang/julia/tree/5d4eaca0c9fa3d555c79dbacdccb9169fdf64b65/base/gmp.jl#L412\" target=\"_blank\">gmp.jl:412</a></li> <li> +(x::<b>BigInt</b>, c::<b>Union{UInt16, UInt32, UInt64, UInt8}</b>) in Base.GMP at <a href=\"https://github.com/JuliaLang/julia/tree/5d4eaca0c9fa3d555c79dbacdccb9169fdf64b65/base/gmp.jl#L449\" target=\"_blank\">gmp.jl:449</a></li> <li> +(x::<b>BigInt</b>, c::<b>Union{Int16, Int32, Int64, Int8}</b>) in Base.GMP at <a href=\"https://github.com/JuliaLang/julia/tree/5d4eaca0c9fa3d555c79dbacdccb9169fdf64b65/base/gmp.jl#L455\" target=\"_blank\">gmp.jl:455</a></li> <li> +(a::<b>BigFloat</b>, b::<b>BigFloat</b>, c::<b>BigFloat</b>, d::<b>BigFloat</b>, e::<b>BigFloat</b>) in Base.MPFR at <a href=\"https://github.com/JuliaLang/julia/tree/5d4eaca0c9fa3d555c79dbacdccb9169fdf64b65/base/mpfr.jl#L503\" target=\"_blank\">mpfr.jl:503</a></li> <li> +(a::<b>BigFloat</b>, b::<b>BigFloat</b>, c::<b>BigFloat</b>, d::<b>BigFloat</b>) in Base.MPFR at <a href=\"https://github.com/JuliaLang/julia/tree/5d4eaca0c9fa3d555c79dbacdccb9169fdf64b65/base/mpfr.jl#L496\" target=\"_blank\">mpfr.jl:496</a></li> <li> +(a::<b>BigFloat</b>, b::<b>BigFloat</b>, c::<b>BigFloat</b>) in Base.MPFR at <a href=\"https://github.com/JuliaLang/julia/tree/5d4eaca0c9fa3d555c79dbacdccb9169fdf64b65/base/mpfr.jl#L490\" target=\"_blank\">mpfr.jl:490</a></li> <li> +(x::<b>BigFloat</b>, c::<b>BigInt</b>) in Base.MPFR at <a href=\"https://github.com/JuliaLang/julia/tree/5d4eaca0c9fa3d555c79dbacdccb9169fdf64b65/base/mpfr.jl#L349\" target=\"_blank\">mpfr.jl:349</a></li> <li> +(x::<b>BigFloat</b>, y::<b>BigFloat</b>) in Base.MPFR at <a href=\"https://github.com/JuliaLang/julia/tree/5d4eaca0c9fa3d555c79dbacdccb9169fdf64b65/base/mpfr.jl#L318\" target=\"_blank\">mpfr.jl:318</a></li> <li> +(x::<b>BigFloat</b>, c::<b>Union{UInt16, UInt32, UInt64, UInt8}</b>) in Base.MPFR at <a href=\"https://github.com/JuliaLang/julia/tree/5d4eaca0c9fa3d555c79dbacdccb9169fdf64b65/base/mpfr.jl#L325\" target=\"_blank\">mpfr.jl:325</a></li> <li> +(x::<b>BigFloat</b>, c::<b>Union{Int16, Int32, Int64, Int8}</b>) in Base.MPFR at <a href=\"https://github.com/JuliaLang/julia/tree/5d4eaca0c9fa3d555c79dbacdccb9169fdf64b65/base/mpfr.jl#L333\" target=\"_blank\">mpfr.jl:333</a></li> <li> +(x::<b>BigFloat</b>, c::<b>Union{Float16, Float32, Float64}</b>) in Base.MPFR at <a href=\"https://github.com/JuliaLang/julia/tree/5d4eaca0c9fa3d555c79dbacdccb9169fdf64b65/base/mpfr.jl#L341\" target=\"_blank\">mpfr.jl:341</a></li> <li> +(x::<b>Dates.CompoundPeriod</b>, y::<b>Dates.CompoundPeriod</b>) in Dates at <a href=\"https://github.com/JuliaLang/julia/tree/8ba726e44e1739f3cd16677f685ef4d298d4dc28//usr/share/julia/stdlib/v1.0/Dates/src/periods.jl#L349\" target=\"_blank\">/home/vchuravy/src/julia/usr/share/julia/stdlib/v1.0/Dates/src/periods.jl:349</a></li> <li> +(x::<b>Dates.CompoundPeriod</b>, y::<b>Dates.Period</b>) in Dates at <a href=\"https://github.com/JuliaLang/julia/tree/8ba726e44e1739f3cd16677f685ef4d298d4dc28//usr/share/julia/stdlib/v1.0/Dates/src/periods.jl#L347\" target=\"_blank\">/home/vchuravy/src/julia/usr/share/julia/stdlib/v1.0/Dates/src/periods.jl:347</a></li> <li> +(x::<b>Dates.CompoundPeriod</b>, y::<b>Dates.TimeType</b>) in Dates at <a href=\"https://github.com/JuliaLang/julia/tree/8ba726e44e1739f3cd16677f685ef4d298d4dc28//usr/share/julia/stdlib/v1.0/Dates/src/periods.jl#L385\" target=\"_blank\">/home/vchuravy/src/julia/usr/share/julia/stdlib/v1.0/Dates/src/periods.jl:385</a></li> <li> +(x::<b>Dates.Date</b>, y::<b>Dates.Day</b>) in Dates at <a href=\"https://github.com/JuliaLang/julia/tree/8ba726e44e1739f3cd16677f685ef4d298d4dc28//usr/share/julia/stdlib/v1.0/Dates/src/arithmetic.jl#L78\" target=\"_blank\">/home/vchuravy/src/julia/usr/share/julia/stdlib/v1.0/Dates/src/arithmetic.jl:78</a></li> <li> +(x::<b>Dates.Date</b>, y::<b>Dates.Week</b>) in Dates at <a href=\"https://github.com/JuliaLang/julia/tree/8ba726e44e1739f3cd16677f685ef4d298d4dc28//usr/share/julia/stdlib/v1.0/Dates/src/arithmetic.jl#L76\" target=\"_blank\">/home/vchuravy/src/julia/usr/share/julia/stdlib/v1.0/Dates/src/arithmetic.jl:76</a></li> <li> +(dt::<b>Dates.Date</b>, z::<b>Dates.Month</b>) in Dates at <a href=\"https://github.com/JuliaLang/julia/tree/8ba726e44e1739f3cd16677f685ef4d298d4dc28//usr/share/julia/stdlib/v1.0/Dates/src/arithmetic.jl#L59\" target=\"_blank\">/home/vchuravy/src/julia/usr/share/julia/stdlib/v1.0/Dates/src/arithmetic.jl:59</a></li> <li> +(dt::<b>Dates.Date</b>, y::<b>Dates.Year</b>) in Dates at <a href=\"https://github.com/JuliaLang/julia/tree/8ba726e44e1739f3cd16677f685ef4d298d4dc28//usr/share/julia/stdlib/v1.0/Dates/src/arithmetic.jl#L32\" target=\"_blank\">/home/vchuravy/src/julia/usr/share/julia/stdlib/v1.0/Dates/src/arithmetic.jl:32</a></li> <li> +(dt::<b>Dates.Date</b>, t::<b>Dates.Time</b>) in Dates at <a href=\"https://github.com/JuliaLang/julia/tree/8ba726e44e1739f3cd16677f685ef4d298d4dc28//usr/share/julia/stdlib/v1.0/Dates/src/arithmetic.jl#L20\" target=\"_blank\">/home/vchuravy/src/julia/usr/share/julia/stdlib/v1.0/Dates/src/arithmetic.jl:20</a></li> <li> +(t::<b>Dates.Time</b>, dt::<b>Dates.Date</b>) in Dates at <a href=\"https://github.com/JuliaLang/julia/tree/8ba726e44e1739f3cd16677f685ef4d298d4dc28//usr/share/julia/stdlib/v1.0/Dates/src/arithmetic.jl#L24\" target=\"_blank\">/home/vchuravy/src/julia/usr/share/julia/stdlib/v1.0/Dates/src/arithmetic.jl:24</a></li> <li> +(x::<b>Dates.Time</b>, y::<b>Dates.TimePeriod</b>) in Dates at <a href=\"https://github.com/JuliaLang/julia/tree/8ba726e44e1739f3cd16677f685ef4d298d4dc28//usr/share/julia/stdlib/v1.0/Dates/src/arithmetic.jl#L82\" target=\"_blank\">/home/vchuravy/src/julia/usr/share/julia/stdlib/v1.0/Dates/src/arithmetic.jl:82</a></li> <li> +(dt::<b>Dates.DateTime</b>, z::<b>Dates.Month</b>) in Dates at <a href=\"https://github.com/JuliaLang/julia/tree/8ba726e44e1739f3cd16677f685ef4d298d4dc28//usr/share/julia/stdlib/v1.0/Dates/src/arithmetic.jl#L52\" target=\"_blank\">/home/vchuravy/src/julia/usr/share/julia/stdlib/v1.0/Dates/src/arithmetic.jl:52</a></li> <li> +(dt::<b>Dates.DateTime</b>, y::<b>Dates.Year</b>) in Dates at <a href=\"https://github.com/JuliaLang/julia/tree/8ba726e44e1739f3cd16677f685ef4d298d4dc28//usr/share/julia/stdlib/v1.0/Dates/src/arithmetic.jl#L28\" target=\"_blank\">/home/vchuravy/src/julia/usr/share/julia/stdlib/v1.0/Dates/src/arithmetic.jl:28</a></li> <li> +(x::<b>Dates.DateTime</b>, y::<b>Dates.Period</b>) in Dates at <a href=\"https://github.com/JuliaLang/julia/tree/8ba726e44e1739f3cd16677f685ef4d298d4dc28//usr/share/julia/stdlib/v1.0/Dates/src/arithmetic.jl#L80\" target=\"_blank\">/home/vchuravy/src/julia/usr/share/julia/stdlib/v1.0/Dates/src/arithmetic.jl:80</a></li> <li> +(B::<b>BitArray{2}</b>, J::<b>LinearAlgebra.UniformScaling</b>) in LinearAlgebra at <a href=\"https://github.com/JuliaLang/julia/tree/8ba726e44e1739f3cd16677f685ef4d298d4dc28//usr/share/julia/stdlib/v1.0/LinearAlgebra/src/uniformscaling.jl#L88\" target=\"_blank\">/home/vchuravy/src/julia/usr/share/julia/stdlib/v1.0/LinearAlgebra/src/uniformscaling.jl:88</a></li> <li> +(a::<b>Pkg.Resolve.VersionWeights.VersionWeight</b>, b::<b>Pkg.Resolve.VersionWeights.VersionWeight</b>) in Pkg.Resolve.VersionWeights at <a href=\"https://github.com/JuliaLang/julia/tree/8ba726e44e1739f3cd16677f685ef4d298d4dc28//usr/share/julia/stdlib/v1.0/Pkg/src/resolve/VersionWeights.jl#L26\" target=\"_blank\">/home/vchuravy/src/julia/usr/share/julia/stdlib/v1.0/Pkg/src/resolve/VersionWeights.jl:26</a></li> <li> +(a::<b>Pkg.Resolve.MaxSum.FieldValues.FieldValue</b>, b::<b>Pkg.Resolve.MaxSum.FieldValues.FieldValue</b>) in Pkg.Resolve.MaxSum.FieldValues at <a href=\"https://github.com/JuliaLang/julia/tree/8ba726e44e1739f3cd16677f685ef4d298d4dc28//usr/share/julia/stdlib/v1.0/Pkg/src/resolve/FieldValues.jl#L49\" target=\"_blank\">/home/vchuravy/src/julia/usr/share/julia/stdlib/v1.0/Pkg/src/resolve/FieldValues.jl:49</a></li> <li> +(a::<b>PyObject</b>, b::<b>PyObject</b>) in PyCall at <a href=\"file:///home/vchuravy/.julia/packages/PyCall/WcrLS/src/pyoperators.jl\" target=\"_blank\">/home/vchuravy/.julia/packages/PyCall/WcrLS/src/pyoperators.jl:12</a></li> <li> +(a::<b>PyObject</b>) in PyCall at <a href=\"file:///home/vchuravy/.julia/packages/PyCall/WcrLS/src/pyoperators.jl\" target=\"_blank\">/home/vchuravy/.julia/packages/PyCall/WcrLS/src/pyoperators.jl:42</a></li> <li> +(a::<b>PyObject</b>, b) in PyCall at <a href=\"file:///home/vchuravy/.julia/packages/PyCall/WcrLS/src/pyoperators.jl\" target=\"_blank\">/home/vchuravy/.julia/packages/PyCall/WcrLS/src/pyoperators.jl:14</a></li> <li> +(y::<b>AbstractFloat</b>, x::<b>Bool</b>) in Base at <a href=\"https://github.com/JuliaLang/julia/tree/5d4eaca0c9fa3d555c79dbacdccb9169fdf64b65/base/bool.jl#L114\" target=\"_blank\">bool.jl:114</a></li> <li> +<i>{T<:Union{Int128, Int16, Int32, Int64, Int8, UInt128, UInt16, UInt32, UInt64, UInt8}}</i>(x::<b>T</b>, y::<b>T</b>) in Base at <a href=\"https://github.com/JuliaLang/julia/tree/5d4eaca0c9fa3d555c79dbacdccb9169fdf64b65/base/int.jl#L53\" target=\"_blank\">int.jl:53</a></li> <li> +(c::<b>Union{UInt16, UInt32, UInt64, UInt8}</b>, x::<b>BigInt</b>) in Base.GMP at <a href=\"https://github.com/JuliaLang/julia/tree/5d4eaca0c9fa3d555c79dbacdccb9169fdf64b65/base/gmp.jl#L450\" target=\"_blank\">gmp.jl:450</a></li> <li> +(c::<b>Union{Int16, Int32, Int64, Int8}</b>, x::<b>BigInt</b>) in Base.GMP at <a href=\"https://github.com/JuliaLang/julia/tree/5d4eaca0c9fa3d555c79dbacdccb9169fdf64b65/base/gmp.jl#L456\" target=\"_blank\">gmp.jl:456</a></li> <li> +(a::<b>Integer</b>, b::<b>Integer</b>) in Base at <a href=\"https://github.com/JuliaLang/julia/tree/5d4eaca0c9fa3d555c79dbacdccb9169fdf64b65/base/int.jl#L791\" target=\"_blank\">int.jl:791</a></li> <li> +(x::<b>Integer</b>, y::<b>Ptr</b>) in Base at <a href=\"https://github.com/JuliaLang/julia/tree/5d4eaca0c9fa3d555c79dbacdccb9169fdf64b65/base/pointer.jl#L157\" target=\"_blank\">pointer.jl:157</a></li> <li> +(z::<b>Complex</b>, w::<b>Complex</b>) in Base at <a href=\"https://github.com/JuliaLang/julia/tree/5d4eaca0c9fa3d555c79dbacdccb9169fdf64b65/base/complex.jl#L266\" target=\"_blank\">complex.jl:266</a></li> <li> +(z::<b>Complex</b>, x::<b>Bool</b>) in Base at <a href=\"https://github.com/JuliaLang/julia/tree/5d4eaca0c9fa3d555c79dbacdccb9169fdf64b65/base/complex.jl#L285\" target=\"_blank\">complex.jl:285</a></li> <li> +(x::<b>Real</b>, z::<b>Complex{Bool}</b>) in Base at <a href=\"https://github.com/JuliaLang/julia/tree/5d4eaca0c9fa3d555c79dbacdccb9169fdf64b65/base/complex.jl#L291\" target=\"_blank\">complex.jl:291</a></li> <li> +(x::<b>Real</b>, z::<b>Complex</b>) in Base at <a href=\"https://github.com/JuliaLang/julia/tree/5d4eaca0c9fa3d555c79dbacdccb9169fdf64b65/base/complex.jl#L303\" target=\"_blank\">complex.jl:303</a></li> <li> +(z::<b>Complex</b>, x::<b>Real</b>) in Base at <a href=\"https://github.com/JuliaLang/julia/tree/5d4eaca0c9fa3d555c79dbacdccb9169fdf64b65/base/complex.jl#L304\" target=\"_blank\">complex.jl:304</a></li> <li> +(x::<b>Rational</b>, y::<b>Rational</b>) in Base at <a href=\"https://github.com/JuliaLang/julia/tree/5d4eaca0c9fa3d555c79dbacdccb9169fdf64b65/base/rational.jl#L248\" target=\"_blank\">rational.jl:248</a></li> <li> +(x::<b>Integer</b>, y::<b>AbstractChar</b>) in Base at <a href=\"https://github.com/JuliaLang/julia/tree/5d4eaca0c9fa3d555c79dbacdccb9169fdf64b65/base/char.jl#L208\" target=\"_blank\">char.jl:208</a></li> <li> +(c::<b>Union{UInt16, UInt32, UInt64, UInt8}</b>, x::<b>BigFloat</b>) in Base.MPFR at <a href=\"https://github.com/JuliaLang/julia/tree/5d4eaca0c9fa3d555c79dbacdccb9169fdf64b65/base/mpfr.jl#L329\" target=\"_blank\">mpfr.jl:329</a></li> <li> +(c::<b>Union{Int16, Int32, Int64, Int8}</b>, x::<b>BigFloat</b>) in Base.MPFR at <a href=\"https://github.com/JuliaLang/julia/tree/5d4eaca0c9fa3d555c79dbacdccb9169fdf64b65/base/mpfr.jl#L337\" target=\"_blank\">mpfr.jl:337</a></li> <li> +(c::<b>Union{Float16, Float32, Float64}</b>, x::<b>BigFloat</b>) in Base.MPFR at <a href=\"https://github.com/JuliaLang/julia/tree/5d4eaca0c9fa3d555c79dbacdccb9169fdf64b65/base/mpfr.jl#L345\" target=\"_blank\">mpfr.jl:345</a></li> <li> +(x::<b>AbstractIrrational</b>, y::<b>AbstractIrrational</b>) in Base at <a href=\"https://github.com/JuliaLang/julia/tree/5d4eaca0c9fa3d555c79dbacdccb9169fdf64b65/base/irrationals.jl#L133\" target=\"_blank\">irrationals.jl:133</a></li> <li> +(x::<b>Number</b>) in Base at <a href=\"https://github.com/JuliaLang/julia/tree/5d4eaca0c9fa3d555c79dbacdccb9169fdf64b65/base/operators.jl#L477\" target=\"_blank\">operators.jl:477</a></li> <li> +<i>{T<:Number}</i>(x::<b>T</b>, y::<b>T</b>) in Base at <a href=\"https://github.com/JuliaLang/julia/tree/5d4eaca0c9fa3d555c79dbacdccb9169fdf64b65/base/promotion.jl#L411\" target=\"_blank\">promotion.jl:411</a></li> <li> +(x::<b>Number</b>, y::<b>Number</b>) in Base at <a href=\"https://github.com/JuliaLang/julia/tree/5d4eaca0c9fa3d555c79dbacdccb9169fdf64b65/base/promotion.jl#L313\" target=\"_blank\">promotion.jl:313</a></li> <li> +(r1::<b>OrdinalRange</b>, r2::<b>OrdinalRange</b>) in Base at <a href=\"https://github.com/JuliaLang/julia/tree/5d4eaca0c9fa3d555c79dbacdccb9169fdf64b65/base/range.jl#L978\" target=\"_blank\">range.jl:978</a></li> <li> +<i>{T}</i>(r1::<b>LinRange{T}</b>, r2::<b>LinRange{T}</b>) in Base at <a href=\"https://github.com/JuliaLang/julia/tree/5d4eaca0c9fa3d555c79dbacdccb9169fdf64b65/base/range.jl#L985\" target=\"_blank\">range.jl:985</a></li> <li> +<i>{R<:TwicePrecision, T}</i>(r1::<b>StepRangeLen{T,R,S} where S</b>, r2::<b>StepRangeLen{T,R,S} where S</b>) in Base at <a href=\"https://github.com/JuliaLang/julia/tree/5d4eaca0c9fa3d555c79dbacdccb9169fdf64b65/base/twiceprecision.jl#L554\" target=\"_blank\">twiceprecision.jl:554</a></li> <li> +<i>{T, S}</i>(r1::<b>StepRangeLen{T,S,S1} where S1</b>, r2::<b>StepRangeLen{T,S,S1} where S1</b>) in Base at <a href=\"https://github.com/JuliaLang/julia/tree/5d4eaca0c9fa3d555c79dbacdccb9169fdf64b65/base/range.jl#L1001\" target=\"_blank\">range.jl:1001</a></li> <li> +(r1::<b>Union{LinRange, OrdinalRange, StepRangeLen}</b>, r2::<b>Union{LinRange, OrdinalRange, StepRangeLen}</b>) in Base at <a href=\"https://github.com/JuliaLang/julia/tree/5d4eaca0c9fa3d555c79dbacdccb9169fdf64b65/base/range.jl#L993\" target=\"_blank\">range.jl:993</a></li> <li> +(x::<b>Ptr</b>, y::<b>Integer</b>) in Base at <a href=\"https://github.com/JuliaLang/julia/tree/5d4eaca0c9fa3d555c79dbacdccb9169fdf64b65/base/pointer.jl#L155\" target=\"_blank\">pointer.jl:155</a></li> <li> +(x::<b>Base.TwicePrecision</b>, y::<b>Number</b>) in Base at <a href=\"https://github.com/JuliaLang/julia/tree/5d4eaca0c9fa3d555c79dbacdccb9169fdf64b65/base/twiceprecision.jl#L265\" target=\"_blank\">twiceprecision.jl:265</a></li> <li> +(x::<b>Number</b>, y::<b>Base.TwicePrecision</b>) in Base at <a href=\"https://github.com/JuliaLang/julia/tree/5d4eaca0c9fa3d555c79dbacdccb9169fdf64b65/base/twiceprecision.jl#L268\" target=\"_blank\">twiceprecision.jl:268</a></li> <li> +<i>{T}</i>(x::<b>Base.TwicePrecision{T}</b>, y::<b>Base.TwicePrecision{T}</b>) in Base at <a href=\"https://github.com/JuliaLang/julia/tree/5d4eaca0c9fa3d555c79dbacdccb9169fdf64b65/base/twiceprecision.jl#L271\" target=\"_blank\">twiceprecision.jl:271</a></li> <li> +(x::<b>Base.TwicePrecision</b>, y::<b>Base.TwicePrecision</b>) in Base at <a href=\"https://github.com/JuliaLang/julia/tree/5d4eaca0c9fa3d555c79dbacdccb9169fdf64b65/base/twiceprecision.jl#L275\" target=\"_blank\">twiceprecision.jl:275</a></li> <li> +(A::<b>Array</b>, Bs::<b>Array...</b>) in Base at <a href=\"https://github.com/JuliaLang/julia/tree/5d4eaca0c9fa3d555c79dbacdccb9169fdf64b65/base/arraymath.jl#L44\" target=\"_blank\">arraymath.jl:44</a></li> <li> +(A::<b>BitArray</b>, B::<b>BitArray</b>) in Base at <a href=\"https://github.com/JuliaLang/julia/tree/5d4eaca0c9fa3d555c79dbacdccb9169fdf64b65/base/bitarray.jl#L1074\" target=\"_blank\">bitarray.jl:1074</a></li> <li> +(A::<b>Array{T,2} where T</b>, B::<b>LinearAlgebra.Diagonal</b>) in LinearAlgebra at <a href=\"https://github.com/JuliaLang/julia/tree/8ba726e44e1739f3cd16677f685ef4d298d4dc28//usr/share/julia/stdlib/v1.0/LinearAlgebra/src/special.jl#L88\" target=\"_blank\">/home/vchuravy/src/julia/usr/share/julia/stdlib/v1.0/LinearAlgebra/src/special.jl:88</a></li> <li> +(A::<b>Array{T,2} where T</b>, B::<b>LinearAlgebra.Bidiagonal</b>) in LinearAlgebra at <a href=\"https://github.com/JuliaLang/julia/tree/8ba726e44e1739f3cd16677f685ef4d298d4dc28//usr/share/julia/stdlib/v1.0/LinearAlgebra/src/special.jl#L88\" target=\"_blank\">/home/vchuravy/src/julia/usr/share/julia/stdlib/v1.0/LinearAlgebra/src/special.jl:88</a></li> <li> +(A::<b>Array{T,2} where T</b>, B::<b>LinearAlgebra.Tridiagonal</b>) in LinearAlgebra at <a href=\"https://github.com/JuliaLang/julia/tree/8ba726e44e1739f3cd16677f685ef4d298d4dc28//usr/share/julia/stdlib/v1.0/LinearAlgebra/src/special.jl#L88\" target=\"_blank\">/home/vchuravy/src/julia/usr/share/julia/stdlib/v1.0/LinearAlgebra/src/special.jl:88</a></li> <li> +(A::<b>Array{T,2} where T</b>, B::<b>LinearAlgebra.SymTridiagonal</b>) in LinearAlgebra at <a href=\"https://github.com/JuliaLang/julia/tree/8ba726e44e1739f3cd16677f685ef4d298d4dc28//usr/share/julia/stdlib/v1.0/LinearAlgebra/src/special.jl#L97\" target=\"_blank\">/home/vchuravy/src/julia/usr/share/julia/stdlib/v1.0/LinearAlgebra/src/special.jl:97</a></li> <li> +(A::<b>Array{T,2} where T</b>, B::<b>LinearAlgebra.AbstractTriangular</b>) in LinearAlgebra at <a href=\"https://github.com/JuliaLang/julia/tree/8ba726e44e1739f3cd16677f685ef4d298d4dc28//usr/share/julia/stdlib/v1.0/LinearAlgebra/src/special.jl#L125\" target=\"_blank\">/home/vchuravy/src/julia/usr/share/julia/stdlib/v1.0/LinearAlgebra/src/special.jl:125</a></li> <li> +(A::<b>Array</b>, B::<b>SparseArrays.SparseMatrixCSC</b>) in SparseArrays at <a href=\"https://github.com/JuliaLang/julia/tree/8ba726e44e1739f3cd16677f685ef4d298d4dc28//usr/share/julia/stdlib/v1.0/SparseArrays/src/sparsematrix.jl#L1563\" target=\"_blank\">/home/vchuravy/src/julia/usr/share/julia/stdlib/v1.0/SparseArrays/src/sparsematrix.jl:1563</a></li> <li> +(x::<b>Union{DenseArray{#s549,N}, ReinterpretArray{#s549,N,S,A} where S where A<:Union{SubArray{T,N,A,I,true} where I<:Tuple{AbstractUnitRange,Vararg{Any,N} where N} where A<:DenseArray where N where T, DenseArray}, ReshapedArray{#s549,N,A,MI} where MI<:Tuple{Vararg{SignedMultiplicativeInverse{Int64},N} where N} where A<:Union{ReinterpretArray{T,N,S,A} where S where A<:Union{SubArray{T,N,A,I,true} where I<:Tuple{AbstractUnitRange,Vararg{Any,N} where N} where A<:DenseArray where N where T, DenseArray} where N where T, SubArray{T,N,A,I,true} where I<:Tuple{AbstractUnitRange,Vararg{Any,N} where N} where A<:DenseArray where N where T, DenseArray}, SubArray{#s549,N,A,I,L} where L where I<:Tuple{Vararg{Union{Int64, AbstractRange{Int64}, AbstractCartesianIndex},N} where N} where A<:Union{ReinterpretArray{T,N,S,A} where S where A<:Union{SubArray{T,N,A,I,true} where I<:Tuple{AbstractUnitRange,Vararg{Any,N} where N} where A<:DenseArray where N where T, DenseArray} where N where T, ReshapedArray{T,N,A,MI} where MI<:Tuple{Vararg{SignedMultiplicativeInverse{Int64},N} where N} where A<:Union{ReinterpretArray{T,N,S,A} where S where A<:Union{SubArray{T,N,A,I,true} where I<:Tuple{AbstractUnitRange,Vararg{Any,N} where N} where A<:DenseArray where N where T, DenseArray} where N where T, SubArray{T,N,A,I,true} where I<:Tuple{AbstractUnitRange,Vararg{Any,N} where N} where A<:DenseArray where N where T, DenseArray} where N where T, DenseArray}} where N where #s549<:Union{CompoundPeriod, Period}</b>) in Dates at <a href=\"https://github.com/JuliaLang/julia/tree/8ba726e44e1739f3cd16677f685ef4d298d4dc28//usr/share/julia/stdlib/v1.0/Dates/src/periods.jl#L358\" target=\"_blank\">/home/vchuravy/src/julia/usr/share/julia/stdlib/v1.0/Dates/src/periods.jl:358</a></li> <li> +(X::<b>Union{DenseArray{#s549,N}, ReinterpretArray{#s549,N,S,A} where S where A<:Union{SubArray{T,N,A,I,true} where I<:Tuple{AbstractUnitRange,Vararg{Any,N} where N} where A<:DenseArray where N where T, DenseArray}, ReshapedArray{#s549,N,A,MI} where MI<:Tuple{Vararg{SignedMultiplicativeInverse{Int64},N} where N} where A<:Union{ReinterpretArray{T,N,S,A} where S where A<:Union{SubArray{T,N,A,I,true} where I<:Tuple{AbstractUnitRange,Vararg{Any,N} where N} where A<:DenseArray where N where T, DenseArray} where N where T, SubArray{T,N,A,I,true} where I<:Tuple{AbstractUnitRange,Vararg{Any,N} where N} where A<:DenseArray where N where T, DenseArray}, SubArray{#s549,N,A,I,L} where L where I<:Tuple{Vararg{Union{Int64, AbstractRange{Int64}, AbstractCartesianIndex},N} where N} where A<:Union{ReinterpretArray{T,N,S,A} where S where A<:Union{SubArray{T,N,A,I,true} where I<:Tuple{AbstractUnitRange,Vararg{Any,N} where N} where A<:DenseArray where N where T, DenseArray} where N where T, ReshapedArray{T,N,A,MI} where MI<:Tuple{Vararg{SignedMultiplicativeInverse{Int64},N} where N} where A<:Union{ReinterpretArray{T,N,S,A} where S where A<:Union{SubArray{T,N,A,I,true} where I<:Tuple{AbstractUnitRange,Vararg{Any,N} where N} where A<:DenseArray where N where T, DenseArray} where N where T, SubArray{T,N,A,I,true} where I<:Tuple{AbstractUnitRange,Vararg{Any,N} where N} where A<:DenseArray where N where T, DenseArray} where N where T, DenseArray}} where N where #s549<:Union{CompoundPeriod, Period}</b>, Y::<b>Union{DenseArray{#s548,N}, ReinterpretArray{#s548,N,S,A} where S where A<:Union{SubArray{T,N,A,I,true} where I<:Tuple{AbstractUnitRange,Vararg{Any,N} where N} where A<:DenseArray where N where T, DenseArray}, ReshapedArray{#s548,N,A,MI} where MI<:Tuple{Vararg{SignedMultiplicativeInverse{Int64},N} where N} where A<:Union{ReinterpretArray{T,N,S,A} where S where A<:Union{SubArray{T,N,A,I,true} where I<:Tuple{AbstractUnitRange,Vararg{Any,N} where N} where A<:DenseArray where N where T, DenseArray} where N where T, SubArray{T,N,A,I,true} where I<:Tuple{AbstractUnitRange,Vararg{Any,N} where N} where A<:DenseArray where N where T, DenseArray}, SubArray{#s548,N,A,I,L} where L where I<:Tuple{Vararg{Union{Int64, AbstractRange{Int64}, AbstractCartesianIndex},N} where N} where A<:Union{ReinterpretArray{T,N,S,A} where S where A<:Union{SubArray{T,N,A,I,true} where I<:Tuple{AbstractUnitRange,Vararg{Any,N} where N} where A<:DenseArray where N where T, DenseArray} where N where T, ReshapedArray{T,N,A,MI} where MI<:Tuple{Vararg{SignedMultiplicativeInverse{Int64},N} where N} where A<:Union{ReinterpretArray{T,N,S,A} where S where A<:Union{SubArray{T,N,A,I,true} where I<:Tuple{AbstractUnitRange,Vararg{Any,N} where N} where A<:DenseArray where N where T, DenseArray} where N where T, SubArray{T,N,A,I,true} where I<:Tuple{AbstractUnitRange,Vararg{Any,N} where N} where A<:DenseArray where N where T, DenseArray} where N where T, DenseArray}} where N where #s548<:Union{CompoundPeriod, Period}</b>) in Dates at <a href=\"https://github.com/JuliaLang/julia/tree/8ba726e44e1739f3cd16677f685ef4d298d4dc28//usr/share/julia/stdlib/v1.0/Dates/src/periods.jl#L362\" target=\"_blank\">/home/vchuravy/src/julia/usr/share/julia/stdlib/v1.0/Dates/src/periods.jl:362</a></li> <li> +(x::<b>Union{DenseArray{#s549,N}, ReinterpretArray{#s549,N,S,A} where S where A<:Union{SubArray{T,N,A,I,true} where I<:Tuple{AbstractUnitRange,Vararg{Any,N} where N} where A<:DenseArray where N where T, DenseArray}, ReshapedArray{#s549,N,A,MI} where MI<:Tuple{Vararg{SignedMultiplicativeInverse{Int64},N} where N} where A<:Union{ReinterpretArray{T,N,S,A} where S where A<:Union{SubArray{T,N,A,I,true} where I<:Tuple{AbstractUnitRange,Vararg{Any,N} where N} where A<:DenseArray where N where T, DenseArray} where N where T, SubArray{T,N,A,I,true} where I<:Tuple{AbstractUnitRange,Vararg{Any,N} where N} where A<:DenseArray where N where T, DenseArray}, SubArray{#s549,N,A,I,L} where L where I<:Tuple{Vararg{Union{Int64, AbstractRange{Int64}, AbstractCartesianIndex},N} where N} where A<:Union{ReinterpretArray{T,N,S,A} where S where A<:Union{SubArray{T,N,A,I,true} where I<:Tuple{AbstractUnitRange,Vararg{Any,N} where N} where A<:DenseArray where N where T, DenseArray} where N where T, ReshapedArray{T,N,A,MI} where MI<:Tuple{Vararg{SignedMultiplicativeInverse{Int64},N} where N} where A<:Union{ReinterpretArray{T,N,S,A} where S where A<:Union{SubArray{T,N,A,I,true} where I<:Tuple{AbstractUnitRange,Vararg{Any,N} where N} where A<:DenseArray where N where T, DenseArray} where N where T, SubArray{T,N,A,I,true} where I<:Tuple{AbstractUnitRange,Vararg{Any,N} where N} where A<:DenseArray where N where T, DenseArray} where N where T, DenseArray}} where N where #s549<:Union{CompoundPeriod, Period}</b>, y::<b>Dates.TimeType</b>) in Dates at <a href=\"https://github.com/JuliaLang/julia/tree/8ba726e44e1739f3cd16677f685ef4d298d4dc28//usr/share/julia/stdlib/v1.0/Dates/src/arithmetic.jl#L87\" target=\"_blank\">/home/vchuravy/src/julia/usr/share/julia/stdlib/v1.0/Dates/src/arithmetic.jl:87</a></li> <li> +(r::<b>AbstractRange{#s549} where #s549<:Dates.TimeType</b>, x::<b>Dates.Period</b>) in Dates at <a href=\"https://github.com/JuliaLang/julia/tree/8ba726e44e1739f3cd16677f685ef4d298d4dc28//usr/share/julia/stdlib/v1.0/Dates/src/ranges.jl#L58\" target=\"_blank\">/home/vchuravy/src/julia/usr/share/julia/stdlib/v1.0/Dates/src/ranges.jl:58</a></li> <li> +(A::<b>LinearAlgebra.SymTridiagonal</b>, B::<b>LinearAlgebra.SymTridiagonal</b>) in LinearAlgebra at <a href=\"https://github.com/JuliaLang/julia/tree/8ba726e44e1739f3cd16677f685ef4d298d4dc28//usr/share/julia/stdlib/v1.0/LinearAlgebra/src/tridiag.jl#L158\" target=\"_blank\">/home/vchuravy/src/julia/usr/share/julia/stdlib/v1.0/LinearAlgebra/src/tridiag.jl:158</a></li> <li> +(A::<b>LinearAlgebra.Tridiagonal</b>, B::<b>LinearAlgebra.Tridiagonal</b>) in LinearAlgebra at <a href=\"https://github.com/JuliaLang/julia/tree/8ba726e44e1739f3cd16677f685ef4d298d4dc28//usr/share/julia/stdlib/v1.0/LinearAlgebra/src/tridiag.jl#L644\" target=\"_blank\">/home/vchuravy/src/julia/usr/share/julia/stdlib/v1.0/LinearAlgebra/src/tridiag.jl:644</a></li> <li> +(A::<b>LinearAlgebra.UpperTriangular</b>, B::<b>LinearAlgebra.UpperTriangular</b>) in LinearAlgebra at <a href=\"https://github.com/JuliaLang/julia/tree/8ba726e44e1739f3cd16677f685ef4d298d4dc28//usr/share/julia/stdlib/v1.0/LinearAlgebra/src/triangular.jl#L487\" target=\"_blank\">/home/vchuravy/src/julia/usr/share/julia/stdlib/v1.0/LinearAlgebra/src/triangular.jl:487</a></li> <li> +(A::<b>LinearAlgebra.LowerTriangular</b>, B::<b>LinearAlgebra.LowerTriangular</b>) in LinearAlgebra at <a href=\"https://github.com/JuliaLang/julia/tree/8ba726e44e1739f3cd16677f685ef4d298d4dc28//usr/share/julia/stdlib/v1.0/LinearAlgebra/src/triangular.jl#L488\" target=\"_blank\">/home/vchuravy/src/julia/usr/share/julia/stdlib/v1.0/LinearAlgebra/src/triangular.jl:488</a></li> <li> +(A::<b>LinearAlgebra.UpperTriangular</b>, B::<b>LinearAlgebra.UnitUpperTriangular</b>) in LinearAlgebra at <a href=\"https://github.com/JuliaLang/julia/tree/8ba726e44e1739f3cd16677f685ef4d298d4dc28//usr/share/julia/stdlib/v1.0/LinearAlgebra/src/triangular.jl#L489\" target=\"_blank\">/home/vchuravy/src/julia/usr/share/julia/stdlib/v1.0/LinearAlgebra/src/triangular.jl:489</a></li> <li> +(A::<b>LinearAlgebra.LowerTriangular</b>, B::<b>LinearAlgebra.UnitLowerTriangular</b>) in LinearAlgebra at <a href=\"https://github.com/JuliaLang/julia/tree/8ba726e44e1739f3cd16677f685ef4d298d4dc28//usr/share/julia/stdlib/v1.0/LinearAlgebra/src/triangular.jl#L490\" target=\"_blank\">/home/vchuravy/src/julia/usr/share/julia/stdlib/v1.0/LinearAlgebra/src/triangular.jl:490</a></li> <li> +(A::<b>LinearAlgebra.UnitUpperTriangular</b>, B::<b>LinearAlgebra.UpperTriangular</b>) in LinearAlgebra at <a href=\"https://github.com/JuliaLang/julia/tree/8ba726e44e1739f3cd16677f685ef4d298d4dc28//usr/share/julia/stdlib/v1.0/LinearAlgebra/src/triangular.jl#L491\" target=\"_blank\">/home/vchuravy/src/julia/usr/share/julia/stdlib/v1.0/LinearAlgebra/src/triangular.jl:491</a></li> <li> +(A::<b>LinearAlgebra.UnitLowerTriangular</b>, B::<b>LinearAlgebra.LowerTriangular</b>) in LinearAlgebra at <a href=\"https://github.com/JuliaLang/julia/tree/8ba726e44e1739f3cd16677f685ef4d298d4dc28//usr/share/julia/stdlib/v1.0/LinearAlgebra/src/triangular.jl#L492\" target=\"_blank\">/home/vchuravy/src/julia/usr/share/julia/stdlib/v1.0/LinearAlgebra/src/triangular.jl:492</a></li> <li> +(A::<b>LinearAlgebra.UnitUpperTriangular</b>, B::<b>LinearAlgebra.UnitUpperTriangular</b>) in LinearAlgebra at <a href=\"https://github.com/JuliaLang/julia/tree/8ba726e44e1739f3cd16677f685ef4d298d4dc28//usr/share/julia/stdlib/v1.0/LinearAlgebra/src/triangular.jl#L493\" target=\"_blank\">/home/vchuravy/src/julia/usr/share/julia/stdlib/v1.0/LinearAlgebra/src/triangular.jl:493</a></li> <li> +(A::<b>LinearAlgebra.UnitLowerTriangular</b>, B::<b>LinearAlgebra.UnitLowerTriangular</b>) in LinearAlgebra at <a href=\"https://github.com/JuliaLang/julia/tree/8ba726e44e1739f3cd16677f685ef4d298d4dc28//usr/share/julia/stdlib/v1.0/LinearAlgebra/src/triangular.jl#L494\" target=\"_blank\">/home/vchuravy/src/julia/usr/share/julia/stdlib/v1.0/LinearAlgebra/src/triangular.jl:494</a></li> <li> +(A::<b>LinearAlgebra.AbstractTriangular</b>, B::<b>LinearAlgebra.AbstractTriangular</b>) in LinearAlgebra at <a href=\"https://github.com/JuliaLang/julia/tree/8ba726e44e1739f3cd16677f685ef4d298d4dc28//usr/share/julia/stdlib/v1.0/LinearAlgebra/src/triangular.jl#L495\" target=\"_blank\">/home/vchuravy/src/julia/usr/share/julia/stdlib/v1.0/LinearAlgebra/src/triangular.jl:495</a></li> <li> +(Da::<b>LinearAlgebra.Diagonal</b>, Db::<b>LinearAlgebra.Diagonal</b>) in LinearAlgebra at <a href=\"https://github.com/JuliaLang/julia/tree/8ba726e44e1739f3cd16677f685ef4d298d4dc28//usr/share/julia/stdlib/v1.0/LinearAlgebra/src/diagonal.jl#L152\" target=\"_blank\">/home/vchuravy/src/julia/usr/share/julia/stdlib/v1.0/LinearAlgebra/src/diagonal.jl:152</a></li> <li> +(A::<b>LinearAlgebra.Bidiagonal</b>, B::<b>LinearAlgebra.Bidiagonal</b>) in LinearAlgebra at <a href=\"https://github.com/JuliaLang/julia/tree/8ba726e44e1739f3cd16677f685ef4d298d4dc28//usr/share/julia/stdlib/v1.0/LinearAlgebra/src/bidiag.jl#L304\" target=\"_blank\">/home/vchuravy/src/julia/usr/share/julia/stdlib/v1.0/LinearAlgebra/src/bidiag.jl:304</a></li> <li> +(UL::<b>LinearAlgebra.UnitUpperTriangular</b>, J::<b>LinearAlgebra.UniformScaling</b>) in LinearAlgebra at <a href=\"https://github.com/JuliaLang/julia/tree/8ba726e44e1739f3cd16677f685ef4d298d4dc28//usr/share/julia/stdlib/v1.0/LinearAlgebra/src/uniformscaling.jl#L104\" target=\"_blank\">/home/vchuravy/src/julia/usr/share/julia/stdlib/v1.0/LinearAlgebra/src/uniformscaling.jl:104</a></li> <li> +(UL::<b>LinearAlgebra.UnitLowerTriangular</b>, J::<b>LinearAlgebra.UniformScaling</b>) in LinearAlgebra at <a href=\"https://github.com/JuliaLang/julia/tree/8ba726e44e1739f3cd16677f685ef4d298d4dc28//usr/share/julia/stdlib/v1.0/LinearAlgebra/src/uniformscaling.jl#L104\" target=\"_blank\">/home/vchuravy/src/julia/usr/share/julia/stdlib/v1.0/LinearAlgebra/src/uniformscaling.jl:104</a></li> <li> +(A::<b>SparseArrays.SparseMatrixCSC</b>, J::<b>LinearAlgebra.UniformScaling</b>) in SparseArrays at <a href=\"https://github.com/JuliaLang/julia/tree/8ba726e44e1739f3cd16677f685ef4d298d4dc28//usr/share/julia/stdlib/v1.0/SparseArrays/src/sparsematrix.jl#L3465\" target=\"_blank\">/home/vchuravy/src/julia/usr/share/julia/stdlib/v1.0/SparseArrays/src/sparsematrix.jl:3465</a></li> <li> +(A::<b>AbstractArray{T,2} where T</b>, J::<b>LinearAlgebra.UniformScaling</b>) in LinearAlgebra at <a href=\"https://github.com/JuliaLang/julia/tree/8ba726e44e1739f3cd16677f685ef4d298d4dc28//usr/share/julia/stdlib/v1.0/LinearAlgebra/src/uniformscaling.jl#L114\" target=\"_blank\">/home/vchuravy/src/julia/usr/share/julia/stdlib/v1.0/LinearAlgebra/src/uniformscaling.jl:114</a></li> <li> +(A::<b>LinearAlgebra.Diagonal</b>, B::<b>LinearAlgebra.Bidiagonal</b>) in LinearAlgebra at <a href=\"https://github.com/JuliaLang/julia/tree/8ba726e44e1739f3cd16677f685ef4d298d4dc28//usr/share/julia/stdlib/v1.0/LinearAlgebra/src/special.jl#L87\" target=\"_blank\">/home/vchuravy/src/julia/usr/share/julia/stdlib/v1.0/LinearAlgebra/src/special.jl:87</a></li> <li> +(A::<b>LinearAlgebra.Bidiagonal</b>, B::<b>LinearAlgebra.Diagonal</b>) in LinearAlgebra at <a href=\"https://github.com/JuliaLang/julia/tree/8ba726e44e1739f3cd16677f685ef4d298d4dc28//usr/share/julia/stdlib/v1.0/LinearAlgebra/src/special.jl#L88\" target=\"_blank\">/home/vchuravy/src/julia/usr/share/julia/stdlib/v1.0/LinearAlgebra/src/special.jl:88</a></li> <li> +(A::<b>LinearAlgebra.Diagonal</b>, B::<b>LinearAlgebra.Tridiagonal</b>) in LinearAlgebra at <a href=\"https://github.com/JuliaLang/julia/tree/8ba726e44e1739f3cd16677f685ef4d298d4dc28//usr/share/julia/stdlib/v1.0/LinearAlgebra/src/special.jl#L87\" target=\"_blank\">/home/vchuravy/src/julia/usr/share/julia/stdlib/v1.0/LinearAlgebra/src/special.jl:87</a></li> <li> +(A::<b>LinearAlgebra.Tridiagonal</b>, B::<b>LinearAlgebra.Diagonal</b>) in LinearAlgebra at <a href=\"https://github.com/JuliaLang/julia/tree/8ba726e44e1739f3cd16677f685ef4d298d4dc28//usr/share/julia/stdlib/v1.0/LinearAlgebra/src/special.jl#L88\" target=\"_blank\">/home/vchuravy/src/julia/usr/share/julia/stdlib/v1.0/LinearAlgebra/src/special.jl:88</a></li> <li> +(A::<b>LinearAlgebra.Diagonal</b>, B::<b>Array{T,2} where T</b>) in LinearAlgebra at <a href=\"https://github.com/JuliaLang/julia/tree/8ba726e44e1739f3cd16677f685ef4d298d4dc28//usr/share/julia/stdlib/v1.0/LinearAlgebra/src/special.jl#L87\" target=\"_blank\">/home/vchuravy/src/julia/usr/share/julia/stdlib/v1.0/LinearAlgebra/src/special.jl:87</a></li> <li> +(A::<b>LinearAlgebra.Bidiagonal</b>, B::<b>LinearAlgebra.Tridiagonal</b>) in LinearAlgebra at <a href=\"https://github.com/JuliaLang/julia/tree/8ba726e44e1739f3cd16677f685ef4d298d4dc28//usr/share/julia/stdlib/v1.0/LinearAlgebra/src/special.jl#L87\" target=\"_blank\">/home/vchuravy/src/julia/usr/share/julia/stdlib/v1.0/LinearAlgebra/src/special.jl:87</a></li> <li> +(A::<b>LinearAlgebra.Tridiagonal</b>, B::<b>LinearAlgebra.Bidiagonal</b>) in LinearAlgebra at <a href=\"https://github.com/JuliaLang/julia/tree/8ba726e44e1739f3cd16677f685ef4d298d4dc28//usr/share/julia/stdlib/v1.0/LinearAlgebra/src/special.jl#L88\" target=\"_blank\">/home/vchuravy/src/julia/usr/share/julia/stdlib/v1.0/LinearAlgebra/src/special.jl:88</a></li> <li> +(A::<b>LinearAlgebra.Bidiagonal</b>, B::<b>Array{T,2} where T</b>) in LinearAlgebra at <a href=\"https://github.com/JuliaLang/julia/tree/8ba726e44e1739f3cd16677f685ef4d298d4dc28//usr/share/julia/stdlib/v1.0/LinearAlgebra/src/special.jl#L87\" target=\"_blank\">/home/vchuravy/src/julia/usr/share/julia/stdlib/v1.0/LinearAlgebra/src/special.jl:87</a></li> <li> +(A::<b>LinearAlgebra.Tridiagonal</b>, B::<b>Array{T,2} where T</b>) in LinearAlgebra at <a href=\"https://github.com/JuliaLang/julia/tree/8ba726e44e1739f3cd16677f685ef4d298d4dc28//usr/share/julia/stdlib/v1.0/LinearAlgebra/src/special.jl#L87\" target=\"_blank\">/home/vchuravy/src/julia/usr/share/julia/stdlib/v1.0/LinearAlgebra/src/special.jl:87</a></li> <li> +(A::<b>LinearAlgebra.SymTridiagonal</b>, B::<b>LinearAlgebra.Tridiagonal</b>) in LinearAlgebra at <a href=\"https://github.com/JuliaLang/julia/tree/8ba726e44e1739f3cd16677f685ef4d298d4dc28//usr/share/julia/stdlib/v1.0/LinearAlgebra/src/special.jl#L96\" target=\"_blank\">/home/vchuravy/src/julia/usr/share/julia/stdlib/v1.0/LinearAlgebra/src/special.jl:96</a></li> <li> +(A::<b>LinearAlgebra.Tridiagonal</b>, B::<b>LinearAlgebra.SymTridiagonal</b>) in LinearAlgebra at <a href=\"https://github.com/JuliaLang/julia/tree/8ba726e44e1739f3cd16677f685ef4d298d4dc28//usr/share/julia/stdlib/v1.0/LinearAlgebra/src/special.jl#L97\" target=\"_blank\">/home/vchuravy/src/julia/usr/share/julia/stdlib/v1.0/LinearAlgebra/src/special.jl:97</a></li> <li> +(A::<b>LinearAlgebra.SymTridiagonal</b>, B::<b>Array{T,2} where T</b>) in LinearAlgebra at <a href=\"https://github.com/JuliaLang/julia/tree/8ba726e44e1739f3cd16677f685ef4d298d4dc28//usr/share/julia/stdlib/v1.0/LinearAlgebra/src/special.jl#L96\" target=\"_blank\">/home/vchuravy/src/julia/usr/share/julia/stdlib/v1.0/LinearAlgebra/src/special.jl:96</a></li> <li> +(A::<b>LinearAlgebra.Diagonal</b>, B::<b>LinearAlgebra.SymTridiagonal</b>) in LinearAlgebra at <a href=\"https://github.com/JuliaLang/julia/tree/8ba726e44e1739f3cd16677f685ef4d298d4dc28//usr/share/julia/stdlib/v1.0/LinearAlgebra/src/special.jl#L105\" target=\"_blank\">/home/vchuravy/src/julia/usr/share/julia/stdlib/v1.0/LinearAlgebra/src/special.jl:105</a></li> <li> +(A::<b>LinearAlgebra.SymTridiagonal</b>, B::<b>LinearAlgebra.Diagonal</b>) in LinearAlgebra at <a href=\"https://github.com/JuliaLang/julia/tree/8ba726e44e1739f3cd16677f685ef4d298d4dc28//usr/share/julia/stdlib/v1.0/LinearAlgebra/src/special.jl#L106\" target=\"_blank\">/home/vchuravy/src/julia/usr/share/julia/stdlib/v1.0/LinearAlgebra/src/special.jl:106</a></li> <li> +(A::<b>LinearAlgebra.Bidiagonal</b>, B::<b>LinearAlgebra.SymTridiagonal</b>) in LinearAlgebra at <a href=\"https://github.com/JuliaLang/julia/tree/8ba726e44e1739f3cd16677f685ef4d298d4dc28//usr/share/julia/stdlib/v1.0/LinearAlgebra/src/special.jl#L105\" target=\"_blank\">/home/vchuravy/src/julia/usr/share/julia/stdlib/v1.0/LinearAlgebra/src/special.jl:105</a></li> <li> +(A::<b>LinearAlgebra.SymTridiagonal</b>, B::<b>LinearAlgebra.Bidiagonal</b>) in LinearAlgebra at <a href=\"https://github.com/JuliaLang/julia/tree/8ba726e44e1739f3cd16677f685ef4d298d4dc28//usr/share/julia/stdlib/v1.0/LinearAlgebra/src/special.jl#L106\" target=\"_blank\">/home/vchuravy/src/julia/usr/share/julia/stdlib/v1.0/LinearAlgebra/src/special.jl:106</a></li> <li> +(A::<b>LinearAlgebra.Diagonal</b>, B::<b>LinearAlgebra.UpperTriangular</b>) in LinearAlgebra at <a href=\"https://github.com/JuliaLang/julia/tree/8ba726e44e1739f3cd16677f685ef4d298d4dc28//usr/share/julia/stdlib/v1.0/LinearAlgebra/src/special.jl#L117\" target=\"_blank\">/home/vchuravy/src/julia/usr/share/julia/stdlib/v1.0/LinearAlgebra/src/special.jl:117</a></li> <li> +(A::<b>LinearAlgebra.UpperTriangular</b>, B::<b>LinearAlgebra.Diagonal</b>) in LinearAlgebra at <a href=\"https://github.com/JuliaLang/julia/tree/8ba726e44e1739f3cd16677f685ef4d298d4dc28//usr/share/julia/stdlib/v1.0/LinearAlgebra/src/special.jl#L118\" target=\"_blank\">/home/vchuravy/src/julia/usr/share/julia/stdlib/v1.0/LinearAlgebra/src/special.jl:118</a></li> <li> +(A::<b>LinearAlgebra.Diagonal</b>, B::<b>LinearAlgebra.UnitUpperTriangular</b>) in LinearAlgebra at <a href=\"https://github.com/JuliaLang/julia/tree/8ba726e44e1739f3cd16677f685ef4d298d4dc28//usr/share/julia/stdlib/v1.0/LinearAlgebra/src/special.jl#L117\" target=\"_blank\">/home/vchuravy/src/julia/usr/share/julia/stdlib/v1.0/LinearAlgebra/src/special.jl:117</a></li> <li> +(A::<b>LinearAlgebra.UnitUpperTriangular</b>, B::<b>LinearAlgebra.Diagonal</b>) in LinearAlgebra at <a href=\"https://github.com/JuliaLang/julia/tree/8ba726e44e1739f3cd16677f685ef4d298d4dc28//usr/share/julia/stdlib/v1.0/LinearAlgebra/src/special.jl#L118\" target=\"_blank\">/home/vchuravy/src/julia/usr/share/julia/stdlib/v1.0/LinearAlgebra/src/special.jl:118</a></li> <li> +(A::<b>LinearAlgebra.Diagonal</b>, B::<b>LinearAlgebra.LowerTriangular</b>) in LinearAlgebra at <a href=\"https://github.com/JuliaLang/julia/tree/8ba726e44e1739f3cd16677f685ef4d298d4dc28//usr/share/julia/stdlib/v1.0/LinearAlgebra/src/special.jl#L117\" target=\"_blank\">/home/vchuravy/src/julia/usr/share/julia/stdlib/v1.0/LinearAlgebra/src/special.jl:117</a></li> <li> +(A::<b>LinearAlgebra.LowerTriangular</b>, B::<b>LinearAlgebra.Diagonal</b>) in LinearAlgebra at <a href=\"https://github.com/JuliaLang/julia/tree/8ba726e44e1739f3cd16677f685ef4d298d4dc28//usr/share/julia/stdlib/v1.0/LinearAlgebra/src/special.jl#L118\" target=\"_blank\">/home/vchuravy/src/julia/usr/share/julia/stdlib/v1.0/LinearAlgebra/src/special.jl:118</a></li> <li> +(A::<b>LinearAlgebra.Diagonal</b>, B::<b>LinearAlgebra.UnitLowerTriangular</b>) in LinearAlgebra at <a href=\"https://github.com/JuliaLang/julia/tree/8ba726e44e1739f3cd16677f685ef4d298d4dc28//usr/share/julia/stdlib/v1.0/LinearAlgebra/src/special.jl#L117\" target=\"_blank\">/home/vchuravy/src/julia/usr/share/julia/stdlib/v1.0/LinearAlgebra/src/special.jl:117</a></li> <li> +(A::<b>LinearAlgebra.UnitLowerTriangular</b>, B::<b>LinearAlgebra.Diagonal</b>) in LinearAlgebra at <a href=\"https://github.com/JuliaLang/julia/tree/8ba726e44e1739f3cd16677f685ef4d298d4dc28//usr/share/julia/stdlib/v1.0/LinearAlgebra/src/special.jl#L118\" target=\"_blank\">/home/vchuravy/src/julia/usr/share/julia/stdlib/v1.0/LinearAlgebra/src/special.jl:118</a></li> <li> +(A::<b>LinearAlgebra.AbstractTriangular</b>, B::<b>LinearAlgebra.SymTridiagonal</b>) in LinearAlgebra at <a href=\"https://github.com/JuliaLang/julia/tree/8ba726e44e1739f3cd16677f685ef4d298d4dc28//usr/share/julia/stdlib/v1.0/LinearAlgebra/src/special.jl#L124\" target=\"_blank\">/home/vchuravy/src/julia/usr/share/julia/stdlib/v1.0/LinearAlgebra/src/special.jl:124</a></li> <li> +(A::<b>LinearAlgebra.SymTridiagonal</b>, B::<b>LinearAlgebra.AbstractTriangular</b>) in LinearAlgebra at <a href=\"https://github.com/JuliaLang/julia/tree/8ba726e44e1739f3cd16677f685ef4d298d4dc28//usr/share/julia/stdlib/v1.0/LinearAlgebra/src/special.jl#L125\" target=\"_blank\">/home/vchuravy/src/julia/usr/share/julia/stdlib/v1.0/LinearAlgebra/src/special.jl:125</a></li> <li> +(A::<b>LinearAlgebra.AbstractTriangular</b>, B::<b>LinearAlgebra.Tridiagonal</b>) in LinearAlgebra at <a href=\"https://github.com/JuliaLang/julia/tree/8ba726e44e1739f3cd16677f685ef4d298d4dc28//usr/share/julia/stdlib/v1.0/LinearAlgebra/src/special.jl#L124\" target=\"_blank\">/home/vchuravy/src/julia/usr/share/julia/stdlib/v1.0/LinearAlgebra/src/special.jl:124</a></li> <li> +(A::<b>LinearAlgebra.Tridiagonal</b>, B::<b>LinearAlgebra.AbstractTriangular</b>) in LinearAlgebra at <a href=\"https://github.com/JuliaLang/julia/tree/8ba726e44e1739f3cd16677f685ef4d298d4dc28//usr/share/julia/stdlib/v1.0/LinearAlgebra/src/special.jl#L125\" target=\"_blank\">/home/vchuravy/src/julia/usr/share/julia/stdlib/v1.0/LinearAlgebra/src/special.jl:125</a></li> <li> +(A::<b>LinearAlgebra.AbstractTriangular</b>, B::<b>LinearAlgebra.Bidiagonal</b>) in LinearAlgebra at <a href=\"https://github.com/JuliaLang/julia/tree/8ba726e44e1739f3cd16677f685ef4d298d4dc28//usr/share/julia/stdlib/v1.0/LinearAlgebra/src/special.jl#L124\" target=\"_blank\">/home/vchuravy/src/julia/usr/share/julia/stdlib/v1.0/LinearAlgebra/src/special.jl:124</a></li> <li> +(A::<b>LinearAlgebra.Bidiagonal</b>, B::<b>LinearAlgebra.AbstractTriangular</b>) in LinearAlgebra at <a href=\"https://github.com/JuliaLang/julia/tree/8ba726e44e1739f3cd16677f685ef4d298d4dc28//usr/share/julia/stdlib/v1.0/LinearAlgebra/src/special.jl#L125\" target=\"_blank\">/home/vchuravy/src/julia/usr/share/julia/stdlib/v1.0/LinearAlgebra/src/special.jl:125</a></li> <li> +(A::<b>LinearAlgebra.AbstractTriangular</b>, B::<b>Array{T,2} where T</b>) in LinearAlgebra at <a href=\"https://github.com/JuliaLang/julia/tree/8ba726e44e1739f3cd16677f685ef4d298d4dc28//usr/share/julia/stdlib/v1.0/LinearAlgebra/src/special.jl#L124\" target=\"_blank\">/home/vchuravy/src/julia/usr/share/julia/stdlib/v1.0/LinearAlgebra/src/special.jl:124</a></li> <li> +(A::<b>SparseArrays.SparseMatrixCSC</b>, B::<b>SparseArrays.SparseMatrixCSC</b>) in SparseArrays at <a href=\"https://github.com/JuliaLang/julia/tree/8ba726e44e1739f3cd16677f685ef4d298d4dc28//usr/share/julia/stdlib/v1.0/SparseArrays/src/sparsematrix.jl#L1559\" target=\"_blank\">/home/vchuravy/src/julia/usr/share/julia/stdlib/v1.0/SparseArrays/src/sparsematrix.jl:1559</a></li> <li> +(A::<b>SparseArrays.SparseMatrixCSC</b>, B::<b>Array</b>) in SparseArrays at <a href=\"https://github.com/JuliaLang/julia/tree/8ba726e44e1739f3cd16677f685ef4d298d4dc28//usr/share/julia/stdlib/v1.0/SparseArrays/src/sparsematrix.jl#L1562\" target=\"_blank\">/home/vchuravy/src/julia/usr/share/julia/stdlib/v1.0/SparseArrays/src/sparsematrix.jl:1562</a></li> <li> +(x::<b>SparseArrays.AbstractSparseArray{Tv,Ti,1} where Ti where Tv</b>, y::<b>SparseArrays.AbstractSparseArray{Tv,Ti,1} where Ti where Tv</b>) in SparseArrays at <a href=\"https://github.com/JuliaLang/julia/tree/8ba726e44e1739f3cd16677f685ef4d298d4dc28//usr/share/julia/stdlib/v1.0/SparseArrays/src/sparsevector.jl#L1290\" target=\"_blank\">/home/vchuravy/src/julia/usr/share/julia/stdlib/v1.0/SparseArrays/src/sparsevector.jl:1290</a></li> <li> +(x::<b>AbstractArray{#s57,N} where N where #s57<:Number</b>) in Base at <a href=\"https://github.com/JuliaLang/julia/tree/5d4eaca0c9fa3d555c79dbacdccb9169fdf64b65/base/abstractarraymath.jl#L98\" target=\"_blank\">abstractarraymath.jl:98</a></li> <li> +(A::<b>AbstractArray</b>, B::<b>AbstractArray</b>) in Base at <a href=\"https://github.com/JuliaLang/julia/tree/5d4eaca0c9fa3d555c79dbacdccb9169fdf64b65/base/arraymath.jl#L38\" target=\"_blank\">arraymath.jl:38</a></li> <li> +<i>{T<:AbstractChar}</i>(x::<b>T</b>, y::<b>Integer</b>) in Base at <a href=\"https://github.com/JuliaLang/julia/tree/5d4eaca0c9fa3d555c79dbacdccb9169fdf64b65/base/char.jl#L207\" target=\"_blank\">char.jl:207</a></li> <li> +<i>{N}</i>(index1::<b>CartesianIndex{N}</b>, index2::<b>CartesianIndex{N}</b>) in Base.IteratorsMD at <a href=\"https://github.com/JuliaLang/julia/tree/5d4eaca0c9fa3d555c79dbacdccb9169fdf64b65/base/multidimensional.jl#L106\" target=\"_blank\">multidimensional.jl:106</a></li> <li> +(::<b>Number</b>, ::<b>Missing</b>) in Base at <a href=\"https://github.com/JuliaLang/julia/tree/5d4eaca0c9fa3d555c79dbacdccb9169fdf64b65/base/missing.jl#L94\" target=\"_blank\">missing.jl:94</a></li> <li> +<i>{P<:Period}</i>(x::<b>P</b>, y::<b>P</b>) in Dates at <a href=\"https://github.com/JuliaLang/julia/tree/8ba726e44e1739f3cd16677f685ef4d298d4dc28//usr/share/julia/stdlib/v1.0/Dates/src/periods.jl#L69\" target=\"_blank\">/home/vchuravy/src/julia/usr/share/julia/stdlib/v1.0/Dates/src/periods.jl:69</a></li> <li> +(x::<b>Dates.Period</b>, y::<b>Dates.Period</b>) in Dates at <a href=\"https://github.com/JuliaLang/julia/tree/8ba726e44e1739f3cd16677f685ef4d298d4dc28//usr/share/julia/stdlib/v1.0/Dates/src/periods.jl#L346\" target=\"_blank\">/home/vchuravy/src/julia/usr/share/julia/stdlib/v1.0/Dates/src/periods.jl:346</a></li> <li> +(y::<b>Dates.Period</b>, x::<b>Dates.CompoundPeriod</b>) in Dates at <a href=\"https://github.com/JuliaLang/julia/tree/8ba726e44e1739f3cd16677f685ef4d298d4dc28//usr/share/julia/stdlib/v1.0/Dates/src/periods.jl#L348\" target=\"_blank\">/home/vchuravy/src/julia/usr/share/julia/stdlib/v1.0/Dates/src/periods.jl:348</a></li> <li> +(x::<b>Union{CompoundPeriod, Period}</b>) in Dates at <a href=\"https://github.com/JuliaLang/julia/tree/8ba726e44e1739f3cd16677f685ef4d298d4dc28//usr/share/julia/stdlib/v1.0/Dates/src/periods.jl#L357\" target=\"_blank\">/home/vchuravy/src/julia/usr/share/julia/stdlib/v1.0/Dates/src/periods.jl:357</a></li> <li> +(x::<b>Dates.TimeType</b>) in Dates at <a href=\"https://github.com/JuliaLang/julia/tree/8ba726e44e1739f3cd16677f685ef4d298d4dc28//usr/share/julia/stdlib/v1.0/Dates/src/arithmetic.jl#L8\" target=\"_blank\">/home/vchuravy/src/julia/usr/share/julia/stdlib/v1.0/Dates/src/arithmetic.jl:8</a></li> <li> +(a::<b>Dates.TimeType</b>, b::<b>Dates.Period</b>, c::<b>Dates.Period</b>) in Dates at <a href=\"https://github.com/JuliaLang/julia/tree/8ba726e44e1739f3cd16677f685ef4d298d4dc28//usr/share/julia/stdlib/v1.0/Dates/src/periods.jl#L376\" target=\"_blank\">/home/vchuravy/src/julia/usr/share/julia/stdlib/v1.0/Dates/src/periods.jl:376</a></li> <li> +(a::<b>Dates.TimeType</b>, b::<b>Dates.Period</b>, c::<b>Dates.Period</b>, d::<b>Dates.Period...</b>) in Dates at <a href=\"https://github.com/JuliaLang/julia/tree/8ba726e44e1739f3cd16677f685ef4d298d4dc28//usr/share/julia/stdlib/v1.0/Dates/src/periods.jl#L377\" target=\"_blank\">/home/vchuravy/src/julia/usr/share/julia/stdlib/v1.0/Dates/src/periods.jl:377</a></li> <li> +(x::<b>Dates.TimeType</b>, y::<b>Dates.CompoundPeriod</b>) in Dates at <a href=\"https://github.com/JuliaLang/julia/tree/8ba726e44e1739f3cd16677f685ef4d298d4dc28//usr/share/julia/stdlib/v1.0/Dates/src/periods.jl#L380\" target=\"_blank\">/home/vchuravy/src/julia/usr/share/julia/stdlib/v1.0/Dates/src/periods.jl:380</a></li> <li> +(x::<b>Dates.Instant</b>) in Dates at <a href=\"https://github.com/JuliaLang/julia/tree/8ba726e44e1739f3cd16677f685ef4d298d4dc28//usr/share/julia/stdlib/v1.0/Dates/src/arithmetic.jl#L4\" target=\"_blank\">/home/vchuravy/src/julia/usr/share/julia/stdlib/v1.0/Dates/src/arithmetic.jl:4</a></li> <li> +(y::<b>Dates.Period</b>, x::<b>Dates.TimeType</b>) in Dates at <a href=\"https://github.com/JuliaLang/julia/tree/8ba726e44e1739f3cd16677f685ef4d298d4dc28//usr/share/julia/stdlib/v1.0/Dates/src/arithmetic.jl#L84\" target=\"_blank\">/home/vchuravy/src/julia/usr/share/julia/stdlib/v1.0/Dates/src/arithmetic.jl:84</a></li> <li> +(x::<b>AbstractArray{#s549,N} where N where #s549<:Dates.TimeType</b>, y::<b>Union{CompoundPeriod, Period}</b>) in Dates at <a href=\"https://github.com/JuliaLang/julia/tree/8ba726e44e1739f3cd16677f685ef4d298d4dc28//usr/share/julia/stdlib/v1.0/Dates/src/arithmetic.jl#L86\" target=\"_blank\">/home/vchuravy/src/julia/usr/share/julia/stdlib/v1.0/Dates/src/arithmetic.jl:86</a></li> <li> +(x::<b>Dates.Period</b>, r::<b>AbstractRange{#s549} where #s549<:Dates.TimeType</b>) in Dates at <a href=\"https://github.com/JuliaLang/julia/tree/8ba726e44e1739f3cd16677f685ef4d298d4dc28//usr/share/julia/stdlib/v1.0/Dates/src/ranges.jl#L57\" target=\"_blank\">/home/vchuravy/src/julia/usr/share/julia/stdlib/v1.0/Dates/src/ranges.jl:57</a></li> <li> +(y::<b>Union{CompoundPeriod, Period}</b>, x::<b>AbstractArray{#s549,N} where N where #s549<:Dates.TimeType</b>) in Dates at <a href=\"https://github.com/JuliaLang/julia/tree/8ba726e44e1739f3cd16677f685ef4d298d4dc28//usr/share/julia/stdlib/v1.0/Dates/src/arithmetic.jl#L88\" target=\"_blank\">/home/vchuravy/src/julia/usr/share/julia/stdlib/v1.0/Dates/src/arithmetic.jl:88</a></li> <li> +(y::<b>Dates.TimeType</b>, x::<b>Union{DenseArray{#s549,N}, ReinterpretArray{#s549,N,S,A} where S where A<:Union{SubArray{T,N,A,I,true} where I<:Tuple{AbstractUnitRange,Vararg{Any,N} where N} where A<:DenseArray where N where T, DenseArray}, ReshapedArray{#s549,N,A,MI} where MI<:Tuple{Vararg{SignedMultiplicativeInverse{Int64},N} where N} where A<:Union{ReinterpretArray{T,N,S,A} where S where A<:Union{SubArray{T,N,A,I,true} where I<:Tuple{AbstractUnitRange,Vararg{Any,N} where N} where A<:DenseArray where N where T, DenseArray} where N where T, SubArray{T,N,A,I,true} where I<:Tuple{AbstractUnitRange,Vararg{Any,N} where N} where A<:DenseArray where N where T, DenseArray}, SubArray{#s549,N,A,I,L} where L where I<:Tuple{Vararg{Union{Int64, AbstractRange{Int64}, AbstractCartesianIndex},N} where N} where A<:Union{ReinterpretArray{T,N,S,A} where S where A<:Union{SubArray{T,N,A,I,true} where I<:Tuple{AbstractUnitRange,Vararg{Any,N} where N} where A<:DenseArray where N where T, DenseArray} where N where T, ReshapedArray{T,N,A,MI} where MI<:Tuple{Vararg{SignedMultiplicativeInverse{Int64},N} where N} where A<:Union{ReinterpretArray{T,N,S,A} where S where A<:Union{SubArray{T,N,A,I,true} where I<:Tuple{AbstractUnitRange,Vararg{Any,N} where N} where A<:DenseArray where N where T, DenseArray} where N where T, SubArray{T,N,A,I,true} where I<:Tuple{AbstractUnitRange,Vararg{Any,N} where N} where A<:DenseArray where N where T, DenseArray} where N where T, DenseArray}} where N where #s549<:Union{CompoundPeriod, Period}</b>) in Dates at <a href=\"https://github.com/JuliaLang/julia/tree/8ba726e44e1739f3cd16677f685ef4d298d4dc28//usr/share/julia/stdlib/v1.0/Dates/src/arithmetic.jl#L89\" target=\"_blank\">/home/vchuravy/src/julia/usr/share/julia/stdlib/v1.0/Dates/src/arithmetic.jl:89</a></li> <li> +(J::<b>LinearAlgebra.UniformScaling</b>, x::<b>Number</b>) in LinearAlgebra at <a href=\"https://github.com/JuliaLang/julia/tree/8ba726e44e1739f3cd16677f685ef4d298d4dc28//usr/share/julia/stdlib/v1.0/LinearAlgebra/src/uniformscaling.jl#L82\" target=\"_blank\">/home/vchuravy/src/julia/usr/share/julia/stdlib/v1.0/LinearAlgebra/src/uniformscaling.jl:82</a></li> <li> +(x::<b>Number</b>, J::<b>LinearAlgebra.UniformScaling</b>) in LinearAlgebra at <a href=\"https://github.com/JuliaLang/julia/tree/8ba726e44e1739f3cd16677f685ef4d298d4dc28//usr/share/julia/stdlib/v1.0/LinearAlgebra/src/uniformscaling.jl#L83\" target=\"_blank\">/home/vchuravy/src/julia/usr/share/julia/stdlib/v1.0/LinearAlgebra/src/uniformscaling.jl:83</a></li> <li> +(J1::<b>LinearAlgebra.UniformScaling</b>, J2::<b>LinearAlgebra.UniformScaling</b>) in LinearAlgebra at <a href=\"https://github.com/JuliaLang/julia/tree/8ba726e44e1739f3cd16677f685ef4d298d4dc28//usr/share/julia/stdlib/v1.0/LinearAlgebra/src/uniformscaling.jl#L87\" target=\"_blank\">/home/vchuravy/src/julia/usr/share/julia/stdlib/v1.0/LinearAlgebra/src/uniformscaling.jl:87</a></li> <li> +(J::<b>LinearAlgebra.UniformScaling</b>, B::<b>BitArray{2}</b>) in LinearAlgebra at <a href=\"https://github.com/JuliaLang/julia/tree/8ba726e44e1739f3cd16677f685ef4d298d4dc28//usr/share/julia/stdlib/v1.0/LinearAlgebra/src/uniformscaling.jl#L89\" target=\"_blank\">/home/vchuravy/src/julia/usr/share/julia/stdlib/v1.0/LinearAlgebra/src/uniformscaling.jl:89</a></li> <li> +(J::<b>LinearAlgebra.UniformScaling</b>, A::<b>AbstractArray{T,2} where T</b>) in LinearAlgebra at <a href=\"https://github.com/JuliaLang/julia/tree/8ba726e44e1739f3cd16677f685ef4d298d4dc28//usr/share/julia/stdlib/v1.0/LinearAlgebra/src/uniformscaling.jl#L90\" target=\"_blank\">/home/vchuravy/src/julia/usr/share/julia/stdlib/v1.0/LinearAlgebra/src/uniformscaling.jl:90</a></li> <li> +(a, b::<b>PyObject</b>) in PyCall at <a href=\"file:///home/vchuravy/.julia/packages/PyCall/WcrLS/src/pyoperators.jl\" target=\"_blank\">/home/vchuravy/.julia/packages/PyCall/WcrLS/src/pyoperators.jl:15</a></li> <li> +(a, b, c, xs...) in Base at <a href=\"https://github.com/JuliaLang/julia/tree/5d4eaca0c9fa3d555c79dbacdccb9169fdf64b65/base/operators.jl#L502\" target=\"_blank\">operators.jl:502</a></li> </ul>"
      ],
      "text/plain": [
       "# 167 methods for generic function \"+\":\n",
       "[1] +(x::Bool, z::Complex{Bool}) in Base at complex.jl:277\n",
       "[2] +(x::Bool, y::Bool) in Base at bool.jl:104\n",
       "[3] +(x::Bool) in Base at bool.jl:101\n",
       "[4] +(x::Bool, y::T) where T<:AbstractFloat in Base at bool.jl:112\n",
       "[5] +(x::Bool, z::Complex) in Base at complex.jl:284\n",
       "[6] +(a::Float16, b::Float16) in Base at float.jl:392\n",
       "[7] +(x::Float32, y::Float32) in Base at float.jl:394\n",
       "[8] +(x::Float64, y::Float64) in Base at float.jl:395\n",
       "[9] +(z::Complex{Bool}, x::Bool) in Base at complex.jl:278\n",
       "[10] +(z::Complex{Bool}, x::Real) in Base at complex.jl:292\n",
       "[11] +(::Missing, ::Missing) in Base at missing.jl:92\n",
       "[12] +(::Missing) in Base at missing.jl:79\n",
       "[13] +(::Missing, ::Number) in Base at missing.jl:93\n",
       "[14] +(level::Base.CoreLogging.LogLevel, inc::Integer) in Base.CoreLogging at logging.jl:106\n",
       "[15] +(c::BigInt, x::BigFloat) in Base.MPFR at mpfr.jl:353\n",
       "[16] +(a::BigInt, b::BigInt, c::BigInt, d::BigInt, e::BigInt) in Base.GMP at gmp.jl:443\n",
       "[17] +(a::BigInt, b::BigInt, c::BigInt, d::BigInt) in Base.GMP at gmp.jl:442\n",
       "[18] +(a::BigInt, b::BigInt, c::BigInt) in Base.GMP at gmp.jl:441\n",
       "[19] +(x::BigInt, y::BigInt) in Base.GMP at gmp.jl:412\n",
       "[20] +(x::BigInt, c::Union{UInt16, UInt32, UInt64, UInt8}) in Base.GMP at gmp.jl:449\n",
       "[21] +(x::BigInt, c::Union{Int16, Int32, Int64, Int8}) in Base.GMP at gmp.jl:455\n",
       "[22] +(a::BigFloat, b::BigFloat, c::BigFloat, d::BigFloat, e::BigFloat) in Base.MPFR at mpfr.jl:503\n",
       "[23] +(a::BigFloat, b::BigFloat, c::BigFloat, d::BigFloat) in Base.MPFR at mpfr.jl:496\n",
       "[24] +(a::BigFloat, b::BigFloat, c::BigFloat) in Base.MPFR at mpfr.jl:490\n",
       "[25] +(x::BigFloat, c::BigInt) in Base.MPFR at mpfr.jl:349\n",
       "[26] +(x::BigFloat, y::BigFloat) in Base.MPFR at mpfr.jl:318\n",
       "[27] +(x::BigFloat, c::Union{UInt16, UInt32, UInt64, UInt8}) in Base.MPFR at mpfr.jl:325\n",
       "[28] +(x::BigFloat, c::Union{Int16, Int32, Int64, Int8}) in Base.MPFR at mpfr.jl:333\n",
       "[29] +(x::BigFloat, c::Union{Float16, Float32, Float64}) in Base.MPFR at mpfr.jl:341\n",
       "[30] +(x::Dates.CompoundPeriod, y::Dates.CompoundPeriod) in Dates at /home/vchuravy/src/julia/usr/share/julia/stdlib/v1.0/Dates/src/periods.jl:349\n",
       "[31] +(x::Dates.CompoundPeriod, y::Dates.Period) in Dates at /home/vchuravy/src/julia/usr/share/julia/stdlib/v1.0/Dates/src/periods.jl:347\n",
       "[32] +(x::Dates.CompoundPeriod, y::Dates.TimeType) in Dates at /home/vchuravy/src/julia/usr/share/julia/stdlib/v1.0/Dates/src/periods.jl:385\n",
       "[33] +(x::Dates.Date, y::Dates.Day) in Dates at /home/vchuravy/src/julia/usr/share/julia/stdlib/v1.0/Dates/src/arithmetic.jl:78\n",
       "[34] +(x::Dates.Date, y::Dates.Week) in Dates at /home/vchuravy/src/julia/usr/share/julia/stdlib/v1.0/Dates/src/arithmetic.jl:76\n",
       "[35] +(dt::Dates.Date, z::Dates.Month) in Dates at /home/vchuravy/src/julia/usr/share/julia/stdlib/v1.0/Dates/src/arithmetic.jl:59\n",
       "[36] +(dt::Dates.Date, y::Dates.Year) in Dates at /home/vchuravy/src/julia/usr/share/julia/stdlib/v1.0/Dates/src/arithmetic.jl:32\n",
       "[37] +(dt::Dates.Date, t::Dates.Time) in Dates at /home/vchuravy/src/julia/usr/share/julia/stdlib/v1.0/Dates/src/arithmetic.jl:20\n",
       "[38] +(t::Dates.Time, dt::Dates.Date) in Dates at /home/vchuravy/src/julia/usr/share/julia/stdlib/v1.0/Dates/src/arithmetic.jl:24\n",
       "[39] +(x::Dates.Time, y::Dates.TimePeriod) in Dates at /home/vchuravy/src/julia/usr/share/julia/stdlib/v1.0/Dates/src/arithmetic.jl:82\n",
       "[40] +(dt::Dates.DateTime, z::Dates.Month) in Dates at /home/vchuravy/src/julia/usr/share/julia/stdlib/v1.0/Dates/src/arithmetic.jl:52\n",
       "[41] +(dt::Dates.DateTime, y::Dates.Year) in Dates at /home/vchuravy/src/julia/usr/share/julia/stdlib/v1.0/Dates/src/arithmetic.jl:28\n",
       "[42] +(x::Dates.DateTime, y::Dates.Period) in Dates at /home/vchuravy/src/julia/usr/share/julia/stdlib/v1.0/Dates/src/arithmetic.jl:80\n",
       "[43] +(B::BitArray{2}, J::LinearAlgebra.UniformScaling) in LinearAlgebra at /home/vchuravy/src/julia/usr/share/julia/stdlib/v1.0/LinearAlgebra/src/uniformscaling.jl:88\n",
       "[44] +(a::Pkg.Resolve.VersionWeights.VersionWeight, b::Pkg.Resolve.VersionWeights.VersionWeight) in Pkg.Resolve.VersionWeights at /home/vchuravy/src/julia/usr/share/julia/stdlib/v1.0/Pkg/src/resolve/VersionWeights.jl:26\n",
       "[45] +(a::Pkg.Resolve.MaxSum.FieldValues.FieldValue, b::Pkg.Resolve.MaxSum.FieldValues.FieldValue) in Pkg.Resolve.MaxSum.FieldValues at /home/vchuravy/src/julia/usr/share/julia/stdlib/v1.0/Pkg/src/resolve/FieldValues.jl:49\n",
       "[46] +(a::PyObject, b::PyObject) in PyCall at /home/vchuravy/.julia/packages/PyCall/WcrLS/src/pyoperators.jl:12\n",
       "[47] +(a::PyObject) in PyCall at /home/vchuravy/.julia/packages/PyCall/WcrLS/src/pyoperators.jl:42\n",
       "[48] +(a::PyObject, b) in PyCall at /home/vchuravy/.julia/packages/PyCall/WcrLS/src/pyoperators.jl:14\n",
       "[49] +(y::AbstractFloat, x::Bool) in Base at bool.jl:114\n",
       "[50] +(x::T, y::T) where T<:Union{Int128, Int16, Int32, Int64, Int8, UInt128, UInt16, UInt32, UInt64, UInt8} in Base at int.jl:53\n",
       "[51] +(c::Union{UInt16, UInt32, UInt64, UInt8}, x::BigInt) in Base.GMP at gmp.jl:450\n",
       "[52] +(c::Union{Int16, Int32, Int64, Int8}, x::BigInt) in Base.GMP at gmp.jl:456\n",
       "[53] +(a::Integer, b::Integer) in Base at int.jl:791\n",
       "[54] +(x::Integer, y::Ptr) in Base at pointer.jl:157\n",
       "[55] +(z::Complex, w::Complex) in Base at complex.jl:266\n",
       "[56] +(z::Complex, x::Bool) in Base at complex.jl:285\n",
       "[57] +(x::Real, z::Complex{Bool}) in Base at complex.jl:291\n",
       "[58] +(x::Real, z::Complex) in Base at complex.jl:303\n",
       "[59] +(z::Complex, x::Real) in Base at complex.jl:304\n",
       "[60] +(x::Rational, y::Rational) in Base at rational.jl:248\n",
       "[61] +(x::Integer, y::AbstractChar) in Base at char.jl:208\n",
       "[62] +(c::Union{UInt16, UInt32, UInt64, UInt8}, x::BigFloat) in Base.MPFR at mpfr.jl:329\n",
       "[63] +(c::Union{Int16, Int32, Int64, Int8}, x::BigFloat) in Base.MPFR at mpfr.jl:337\n",
       "[64] +(c::Union{Float16, Float32, Float64}, x::BigFloat) in Base.MPFR at mpfr.jl:345\n",
       "[65] +(x::AbstractIrrational, y::AbstractIrrational) in Base at irrationals.jl:133\n",
       "[66] +(x::Number) in Base at operators.jl:477\n",
       "[67] +(x::T, y::T) where T<:Number in Base at promotion.jl:411\n",
       "[68] +(x::Number, y::Number) in Base at promotion.jl:313\n",
       "[69] +(r1::OrdinalRange, r2::OrdinalRange) in Base at range.jl:978\n",
       "[70] +(r1::LinRange{T}, r2::LinRange{T}) where T in Base at range.jl:985\n",
       "[71] +(r1::StepRangeLen{T,R,S} where S, r2::StepRangeLen{T,R,S} where S) where {R<:TwicePrecision, T} in Base at twiceprecision.jl:554\n",
       "[72] +(r1::StepRangeLen{T,S,S1} where S1, r2::StepRangeLen{T,S,S1} where S1) where {T, S} in Base at range.jl:1001\n",
       "[73] +(r1::Union{LinRange, OrdinalRange, StepRangeLen}, r2::Union{LinRange, OrdinalRange, StepRangeLen}) in Base at range.jl:993\n",
       "[74] +(x::Ptr, y::Integer) in Base at pointer.jl:155\n",
       "[75] +(x::Base.TwicePrecision, y::Number) in Base at twiceprecision.jl:265\n",
       "[76] +(x::Number, y::Base.TwicePrecision) in Base at twiceprecision.jl:268\n",
       "[77] +(x::Base.TwicePrecision{T}, y::Base.TwicePrecision{T}) where T in Base at twiceprecision.jl:271\n",
       "[78] +(x::Base.TwicePrecision, y::Base.TwicePrecision) in Base at twiceprecision.jl:275\n",
       "[79] +(A::Array, Bs::Array...) in Base at arraymath.jl:44\n",
       "[80] +(A::BitArray, B::BitArray) in Base at bitarray.jl:1074\n",
       "[81] +(A::Array{T,2} where T, B::LinearAlgebra.Diagonal) in LinearAlgebra at /home/vchuravy/src/julia/usr/share/julia/stdlib/v1.0/LinearAlgebra/src/special.jl:88\n",
       "[82] +(A::Array{T,2} where T, B::LinearAlgebra.Bidiagonal) in LinearAlgebra at /home/vchuravy/src/julia/usr/share/julia/stdlib/v1.0/LinearAlgebra/src/special.jl:88\n",
       "[83] +(A::Array{T,2} where T, B::LinearAlgebra.Tridiagonal) in LinearAlgebra at /home/vchuravy/src/julia/usr/share/julia/stdlib/v1.0/LinearAlgebra/src/special.jl:88\n",
       "[84] +(A::Array{T,2} where T, B::LinearAlgebra.SymTridiagonal) in LinearAlgebra at /home/vchuravy/src/julia/usr/share/julia/stdlib/v1.0/LinearAlgebra/src/special.jl:97\n",
       "[85] +(A::Array{T,2} where T, B::LinearAlgebra.AbstractTriangular) in LinearAlgebra at /home/vchuravy/src/julia/usr/share/julia/stdlib/v1.0/LinearAlgebra/src/special.jl:125\n",
       "[86] +(A::Array, B::SparseArrays.SparseMatrixCSC) in SparseArrays at /home/vchuravy/src/julia/usr/share/julia/stdlib/v1.0/SparseArrays/src/sparsematrix.jl:1563\n",
       "[87] +(x::Union{DenseArray{#s549,N}, ReinterpretArray{#s549,N,S,A} where S where A<:Union{SubArray{T,N,A,I,true} where I<:Tuple{AbstractUnitRange,Vararg{Any,N} where N} where A<:DenseArray where N where T, DenseArray}, ReshapedArray{#s549,N,A,MI} where MI<:Tuple{Vararg{SignedMultiplicativeInverse{Int64},N} where N} where A<:Union{ReinterpretArray{T,N,S,A} where S where A<:Union{SubArray{T,N,A,I,true} where I<:Tuple{AbstractUnitRange,Vararg{Any,N} where N} where A<:DenseArray where N where T, DenseArray} where N where T, SubArray{T,N,A,I,true} where I<:Tuple{AbstractUnitRange,Vararg{Any,N} where N} where A<:DenseArray where N where T, DenseArray}, SubArray{#s549,N,A,I,L} where L where I<:Tuple{Vararg{Union{Int64, AbstractRange{Int64}, AbstractCartesianIndex},N} where N} where A<:Union{ReinterpretArray{T,N,S,A} where S where A<:Union{SubArray{T,N,A,I,true} where I<:Tuple{AbstractUnitRange,Vararg{Any,N} where N} where A<:DenseArray where N where T, DenseArray} where N where T, ReshapedArray{T,N,A,MI} where MI<:Tuple{Vararg{SignedMultiplicativeInverse{Int64},N} where N} where A<:Union{ReinterpretArray{T,N,S,A} where S where A<:Union{SubArray{T,N,A,I,true} where I<:Tuple{AbstractUnitRange,Vararg{Any,N} where N} where A<:DenseArray where N where T, DenseArray} where N where T, SubArray{T,N,A,I,true} where I<:Tuple{AbstractUnitRange,Vararg{Any,N} where N} where A<:DenseArray where N where T, DenseArray} where N where T, DenseArray}} where N where #s549<:Union{CompoundPeriod, Period}) in Dates at /home/vchuravy/src/julia/usr/share/julia/stdlib/v1.0/Dates/src/periods.jl:358\n",
       "[88] +(X::Union{DenseArray{#s549,N}, ReinterpretArray{#s549,N,S,A} where S where A<:Union{SubArray{T,N,A,I,true} where I<:Tuple{AbstractUnitRange,Vararg{Any,N} where N} where A<:DenseArray where N where T, DenseArray}, ReshapedArray{#s549,N,A,MI} where MI<:Tuple{Vararg{SignedMultiplicativeInverse{Int64},N} where N} where A<:Union{ReinterpretArray{T,N,S,A} where S where A<:Union{SubArray{T,N,A,I,true} where I<:Tuple{AbstractUnitRange,Vararg{Any,N} where N} where A<:DenseArray where N where T, DenseArray} where N where T, SubArray{T,N,A,I,true} where I<:Tuple{AbstractUnitRange,Vararg{Any,N} where N} where A<:DenseArray where N where T, DenseArray}, SubArray{#s549,N,A,I,L} where L where I<:Tuple{Vararg{Union{Int64, AbstractRange{Int64}, AbstractCartesianIndex},N} where N} where A<:Union{ReinterpretArray{T,N,S,A} where S where A<:Union{SubArray{T,N,A,I,true} where I<:Tuple{AbstractUnitRange,Vararg{Any,N} where N} where A<:DenseArray where N where T, DenseArray} where N where T, ReshapedArray{T,N,A,MI} where MI<:Tuple{Vararg{SignedMultiplicativeInverse{Int64},N} where N} where A<:Union{ReinterpretArray{T,N,S,A} where S where A<:Union{SubArray{T,N,A,I,true} where I<:Tuple{AbstractUnitRange,Vararg{Any,N} where N} where A<:DenseArray where N where T, DenseArray} where N where T, SubArray{T,N,A,I,true} where I<:Tuple{AbstractUnitRange,Vararg{Any,N} where N} where A<:DenseArray where N where T, DenseArray} where N where T, DenseArray}} where N where #s549<:Union{CompoundPeriod, Period}, Y::Union{DenseArray{#s548,N}, ReinterpretArray{#s548,N,S,A} where S where A<:Union{SubArray{T,N,A,I,true} where I<:Tuple{AbstractUnitRange,Vararg{Any,N} where N} where A<:DenseArray where N where T, DenseArray}, ReshapedArray{#s548,N,A,MI} where MI<:Tuple{Vararg{SignedMultiplicativeInverse{Int64},N} where N} where A<:Union{ReinterpretArray{T,N,S,A} where S where A<:Union{SubArray{T,N,A,I,true} where I<:Tuple{AbstractUnitRange,Vararg{Any,N} where N} where A<:DenseArray where N where T, DenseArray} where N where T, SubArray{T,N,A,I,true} where I<:Tuple{AbstractUnitRange,Vararg{Any,N} where N} where A<:DenseArray where N where T, DenseArray}, SubArray{#s548,N,A,I,L} where L where I<:Tuple{Vararg{Union{Int64, AbstractRange{Int64}, AbstractCartesianIndex},N} where N} where A<:Union{ReinterpretArray{T,N,S,A} where S where A<:Union{SubArray{T,N,A,I,true} where I<:Tuple{AbstractUnitRange,Vararg{Any,N} where N} where A<:DenseArray where N where T, DenseArray} where N where T, ReshapedArray{T,N,A,MI} where MI<:Tuple{Vararg{SignedMultiplicativeInverse{Int64},N} where N} where A<:Union{ReinterpretArray{T,N,S,A} where S where A<:Union{SubArray{T,N,A,I,true} where I<:Tuple{AbstractUnitRange,Vararg{Any,N} where N} where A<:DenseArray where N where T, DenseArray} where N where T, SubArray{T,N,A,I,true} where I<:Tuple{AbstractUnitRange,Vararg{Any,N} where N} where A<:DenseArray where N where T, DenseArray} where N where T, DenseArray}} where N where #s548<:Union{CompoundPeriod, Period}) in Dates at /home/vchuravy/src/julia/usr/share/julia/stdlib/v1.0/Dates/src/periods.jl:362\n",
       "[89] +(x::Union{DenseArray{#s549,N}, ReinterpretArray{#s549,N,S,A} where S where A<:Union{SubArray{T,N,A,I,true} where I<:Tuple{AbstractUnitRange,Vararg{Any,N} where N} where A<:DenseArray where N where T, DenseArray}, ReshapedArray{#s549,N,A,MI} where MI<:Tuple{Vararg{SignedMultiplicativeInverse{Int64},N} where N} where A<:Union{ReinterpretArray{T,N,S,A} where S where A<:Union{SubArray{T,N,A,I,true} where I<:Tuple{AbstractUnitRange,Vararg{Any,N} where N} where A<:DenseArray where N where T, DenseArray} where N where T, SubArray{T,N,A,I,true} where I<:Tuple{AbstractUnitRange,Vararg{Any,N} where N} where A<:DenseArray where N where T, DenseArray}, SubArray{#s549,N,A,I,L} where L where I<:Tuple{Vararg{Union{Int64, AbstractRange{Int64}, AbstractCartesianIndex},N} where N} where A<:Union{ReinterpretArray{T,N,S,A} where S where A<:Union{SubArray{T,N,A,I,true} where I<:Tuple{AbstractUnitRange,Vararg{Any,N} where N} where A<:DenseArray where N where T, DenseArray} where N where T, ReshapedArray{T,N,A,MI} where MI<:Tuple{Vararg{SignedMultiplicativeInverse{Int64},N} where N} where A<:Union{ReinterpretArray{T,N,S,A} where S where A<:Union{SubArray{T,N,A,I,true} where I<:Tuple{AbstractUnitRange,Vararg{Any,N} where N} where A<:DenseArray where N where T, DenseArray} where N where T, SubArray{T,N,A,I,true} where I<:Tuple{AbstractUnitRange,Vararg{Any,N} where N} where A<:DenseArray where N where T, DenseArray} where N where T, DenseArray}} where N where #s549<:Union{CompoundPeriod, Period}, y::Dates.TimeType) in Dates at /home/vchuravy/src/julia/usr/share/julia/stdlib/v1.0/Dates/src/arithmetic.jl:87\n",
       "[90] +(r::AbstractRange{#s549} where #s549<:Dates.TimeType, x::Dates.Period) in Dates at /home/vchuravy/src/julia/usr/share/julia/stdlib/v1.0/Dates/src/ranges.jl:58\n",
       "[91] +(A::LinearAlgebra.SymTridiagonal, B::LinearAlgebra.SymTridiagonal) in LinearAlgebra at /home/vchuravy/src/julia/usr/share/julia/stdlib/v1.0/LinearAlgebra/src/tridiag.jl:158\n",
       "[92] +(A::LinearAlgebra.Tridiagonal, B::LinearAlgebra.Tridiagonal) in LinearAlgebra at /home/vchuravy/src/julia/usr/share/julia/stdlib/v1.0/LinearAlgebra/src/tridiag.jl:644\n",
       "[93] +(A::LinearAlgebra.UpperTriangular, B::LinearAlgebra.UpperTriangular) in LinearAlgebra at /home/vchuravy/src/julia/usr/share/julia/stdlib/v1.0/LinearAlgebra/src/triangular.jl:487\n",
       "[94] +(A::LinearAlgebra.LowerTriangular, B::LinearAlgebra.LowerTriangular) in LinearAlgebra at /home/vchuravy/src/julia/usr/share/julia/stdlib/v1.0/LinearAlgebra/src/triangular.jl:488\n",
       "[95] +(A::LinearAlgebra.UpperTriangular, B::LinearAlgebra.UnitUpperTriangular) in LinearAlgebra at /home/vchuravy/src/julia/usr/share/julia/stdlib/v1.0/LinearAlgebra/src/triangular.jl:489\n",
       "[96] +(A::LinearAlgebra.LowerTriangular, B::LinearAlgebra.UnitLowerTriangular) in LinearAlgebra at /home/vchuravy/src/julia/usr/share/julia/stdlib/v1.0/LinearAlgebra/src/triangular.jl:490\n",
       "[97] +(A::LinearAlgebra.UnitUpperTriangular, B::LinearAlgebra.UpperTriangular) in LinearAlgebra at /home/vchuravy/src/julia/usr/share/julia/stdlib/v1.0/LinearAlgebra/src/triangular.jl:491\n",
       "[98] +(A::LinearAlgebra.UnitLowerTriangular, B::LinearAlgebra.LowerTriangular) in LinearAlgebra at /home/vchuravy/src/julia/usr/share/julia/stdlib/v1.0/LinearAlgebra/src/triangular.jl:492\n",
       "[99] +(A::LinearAlgebra.UnitUpperTriangular, B::LinearAlgebra.UnitUpperTriangular) in LinearAlgebra at /home/vchuravy/src/julia/usr/share/julia/stdlib/v1.0/LinearAlgebra/src/triangular.jl:493\n",
       "[100] +(A::LinearAlgebra.UnitLowerTriangular, B::LinearAlgebra.UnitLowerTriangular) in LinearAlgebra at /home/vchuravy/src/julia/usr/share/julia/stdlib/v1.0/LinearAlgebra/src/triangular.jl:494\n",
       "[101] +(A::LinearAlgebra.AbstractTriangular, B::LinearAlgebra.AbstractTriangular) in LinearAlgebra at /home/vchuravy/src/julia/usr/share/julia/stdlib/v1.0/LinearAlgebra/src/triangular.jl:495\n",
       "[102] +(Da::LinearAlgebra.Diagonal, Db::LinearAlgebra.Diagonal) in LinearAlgebra at /home/vchuravy/src/julia/usr/share/julia/stdlib/v1.0/LinearAlgebra/src/diagonal.jl:152\n",
       "[103] +(A::LinearAlgebra.Bidiagonal, B::LinearAlgebra.Bidiagonal) in LinearAlgebra at /home/vchuravy/src/julia/usr/share/julia/stdlib/v1.0/LinearAlgebra/src/bidiag.jl:304\n",
       "[104] +(UL::LinearAlgebra.UnitUpperTriangular, J::LinearAlgebra.UniformScaling) in LinearAlgebra at /home/vchuravy/src/julia/usr/share/julia/stdlib/v1.0/LinearAlgebra/src/uniformscaling.jl:104\n",
       "[105] +(UL::LinearAlgebra.UnitLowerTriangular, J::LinearAlgebra.UniformScaling) in LinearAlgebra at /home/vchuravy/src/julia/usr/share/julia/stdlib/v1.0/LinearAlgebra/src/uniformscaling.jl:104\n",
       "[106] +(A::SparseArrays.SparseMatrixCSC, J::LinearAlgebra.UniformScaling) in SparseArrays at /home/vchuravy/src/julia/usr/share/julia/stdlib/v1.0/SparseArrays/src/sparsematrix.jl:3465\n",
       "[107] +(A::AbstractArray{T,2} where T, J::LinearAlgebra.UniformScaling) in LinearAlgebra at /home/vchuravy/src/julia/usr/share/julia/stdlib/v1.0/LinearAlgebra/src/uniformscaling.jl:114\n",
       "[108] +(A::LinearAlgebra.Diagonal, B::LinearAlgebra.Bidiagonal) in LinearAlgebra at /home/vchuravy/src/julia/usr/share/julia/stdlib/v1.0/LinearAlgebra/src/special.jl:87\n",
       "[109] +(A::LinearAlgebra.Bidiagonal, B::LinearAlgebra.Diagonal) in LinearAlgebra at /home/vchuravy/src/julia/usr/share/julia/stdlib/v1.0/LinearAlgebra/src/special.jl:88\n",
       "[110] +(A::LinearAlgebra.Diagonal, B::LinearAlgebra.Tridiagonal) in LinearAlgebra at /home/vchuravy/src/julia/usr/share/julia/stdlib/v1.0/LinearAlgebra/src/special.jl:87\n",
       "[111] +(A::LinearAlgebra.Tridiagonal, B::LinearAlgebra.Diagonal) in LinearAlgebra at /home/vchuravy/src/julia/usr/share/julia/stdlib/v1.0/LinearAlgebra/src/special.jl:88\n",
       "[112] +(A::LinearAlgebra.Diagonal, B::Array{T,2} where T) in LinearAlgebra at /home/vchuravy/src/julia/usr/share/julia/stdlib/v1.0/LinearAlgebra/src/special.jl:87\n",
       "[113] +(A::LinearAlgebra.Bidiagonal, B::LinearAlgebra.Tridiagonal) in LinearAlgebra at /home/vchuravy/src/julia/usr/share/julia/stdlib/v1.0/LinearAlgebra/src/special.jl:87\n",
       "[114] +(A::LinearAlgebra.Tridiagonal, B::LinearAlgebra.Bidiagonal) in LinearAlgebra at /home/vchuravy/src/julia/usr/share/julia/stdlib/v1.0/LinearAlgebra/src/special.jl:88\n",
       "[115] +(A::LinearAlgebra.Bidiagonal, B::Array{T,2} where T) in LinearAlgebra at /home/vchuravy/src/julia/usr/share/julia/stdlib/v1.0/LinearAlgebra/src/special.jl:87\n",
       "[116] +(A::LinearAlgebra.Tridiagonal, B::Array{T,2} where T) in LinearAlgebra at /home/vchuravy/src/julia/usr/share/julia/stdlib/v1.0/LinearAlgebra/src/special.jl:87\n",
       "[117] +(A::LinearAlgebra.SymTridiagonal, B::LinearAlgebra.Tridiagonal) in LinearAlgebra at /home/vchuravy/src/julia/usr/share/julia/stdlib/v1.0/LinearAlgebra/src/special.jl:96\n",
       "[118] +(A::LinearAlgebra.Tridiagonal, B::LinearAlgebra.SymTridiagonal) in LinearAlgebra at /home/vchuravy/src/julia/usr/share/julia/stdlib/v1.0/LinearAlgebra/src/special.jl:97\n",
       "[119] +(A::LinearAlgebra.SymTridiagonal, B::Array{T,2} where T) in LinearAlgebra at /home/vchuravy/src/julia/usr/share/julia/stdlib/v1.0/LinearAlgebra/src/special.jl:96\n",
       "[120] +(A::LinearAlgebra.Diagonal, B::LinearAlgebra.SymTridiagonal) in LinearAlgebra at /home/vchuravy/src/julia/usr/share/julia/stdlib/v1.0/LinearAlgebra/src/special.jl:105\n",
       "[121] +(A::LinearAlgebra.SymTridiagonal, B::LinearAlgebra.Diagonal) in LinearAlgebra at /home/vchuravy/src/julia/usr/share/julia/stdlib/v1.0/LinearAlgebra/src/special.jl:106\n",
       "[122] +(A::LinearAlgebra.Bidiagonal, B::LinearAlgebra.SymTridiagonal) in LinearAlgebra at /home/vchuravy/src/julia/usr/share/julia/stdlib/v1.0/LinearAlgebra/src/special.jl:105\n",
       "[123] +(A::LinearAlgebra.SymTridiagonal, B::LinearAlgebra.Bidiagonal) in LinearAlgebra at /home/vchuravy/src/julia/usr/share/julia/stdlib/v1.0/LinearAlgebra/src/special.jl:106\n",
       "[124] +(A::LinearAlgebra.Diagonal, B::LinearAlgebra.UpperTriangular) in LinearAlgebra at /home/vchuravy/src/julia/usr/share/julia/stdlib/v1.0/LinearAlgebra/src/special.jl:117\n",
       "[125] +(A::LinearAlgebra.UpperTriangular, B::LinearAlgebra.Diagonal) in LinearAlgebra at /home/vchuravy/src/julia/usr/share/julia/stdlib/v1.0/LinearAlgebra/src/special.jl:118\n",
       "[126] +(A::LinearAlgebra.Diagonal, B::LinearAlgebra.UnitUpperTriangular) in LinearAlgebra at /home/vchuravy/src/julia/usr/share/julia/stdlib/v1.0/LinearAlgebra/src/special.jl:117\n",
       "[127] +(A::LinearAlgebra.UnitUpperTriangular, B::LinearAlgebra.Diagonal) in LinearAlgebra at /home/vchuravy/src/julia/usr/share/julia/stdlib/v1.0/LinearAlgebra/src/special.jl:118\n",
       "[128] +(A::LinearAlgebra.Diagonal, B::LinearAlgebra.LowerTriangular) in LinearAlgebra at /home/vchuravy/src/julia/usr/share/julia/stdlib/v1.0/LinearAlgebra/src/special.jl:117\n",
       "[129] +(A::LinearAlgebra.LowerTriangular, B::LinearAlgebra.Diagonal) in LinearAlgebra at /home/vchuravy/src/julia/usr/share/julia/stdlib/v1.0/LinearAlgebra/src/special.jl:118\n",
       "[130] +(A::LinearAlgebra.Diagonal, B::LinearAlgebra.UnitLowerTriangular) in LinearAlgebra at /home/vchuravy/src/julia/usr/share/julia/stdlib/v1.0/LinearAlgebra/src/special.jl:117\n",
       "[131] +(A::LinearAlgebra.UnitLowerTriangular, B::LinearAlgebra.Diagonal) in LinearAlgebra at /home/vchuravy/src/julia/usr/share/julia/stdlib/v1.0/LinearAlgebra/src/special.jl:118\n",
       "[132] +(A::LinearAlgebra.AbstractTriangular, B::LinearAlgebra.SymTridiagonal) in LinearAlgebra at /home/vchuravy/src/julia/usr/share/julia/stdlib/v1.0/LinearAlgebra/src/special.jl:124\n",
       "[133] +(A::LinearAlgebra.SymTridiagonal, B::LinearAlgebra.AbstractTriangular) in LinearAlgebra at /home/vchuravy/src/julia/usr/share/julia/stdlib/v1.0/LinearAlgebra/src/special.jl:125\n",
       "[134] +(A::LinearAlgebra.AbstractTriangular, B::LinearAlgebra.Tridiagonal) in LinearAlgebra at /home/vchuravy/src/julia/usr/share/julia/stdlib/v1.0/LinearAlgebra/src/special.jl:124\n",
       "[135] +(A::LinearAlgebra.Tridiagonal, B::LinearAlgebra.AbstractTriangular) in LinearAlgebra at /home/vchuravy/src/julia/usr/share/julia/stdlib/v1.0/LinearAlgebra/src/special.jl:125\n",
       "[136] +(A::LinearAlgebra.AbstractTriangular, B::LinearAlgebra.Bidiagonal) in LinearAlgebra at /home/vchuravy/src/julia/usr/share/julia/stdlib/v1.0/LinearAlgebra/src/special.jl:124\n",
       "[137] +(A::LinearAlgebra.Bidiagonal, B::LinearAlgebra.AbstractTriangular) in LinearAlgebra at /home/vchuravy/src/julia/usr/share/julia/stdlib/v1.0/LinearAlgebra/src/special.jl:125\n",
       "[138] +(A::LinearAlgebra.AbstractTriangular, B::Array{T,2} where T) in LinearAlgebra at /home/vchuravy/src/julia/usr/share/julia/stdlib/v1.0/LinearAlgebra/src/special.jl:124\n",
       "[139] +(A::SparseArrays.SparseMatrixCSC, B::SparseArrays.SparseMatrixCSC) in SparseArrays at /home/vchuravy/src/julia/usr/share/julia/stdlib/v1.0/SparseArrays/src/sparsematrix.jl:1559\n",
       "[140] +(A::SparseArrays.SparseMatrixCSC, B::Array) in SparseArrays at /home/vchuravy/src/julia/usr/share/julia/stdlib/v1.0/SparseArrays/src/sparsematrix.jl:1562\n",
       "[141] +(x::SparseArrays.AbstractSparseArray{Tv,Ti,1} where Ti where Tv, y::SparseArrays.AbstractSparseArray{Tv,Ti,1} where Ti where Tv) in SparseArrays at /home/vchuravy/src/julia/usr/share/julia/stdlib/v1.0/SparseArrays/src/sparsevector.jl:1290\n",
       "[142] +(x::AbstractArray{#s57,N} where N where #s57<:Number) in Base at abstractarraymath.jl:98\n",
       "[143] +(A::AbstractArray, B::AbstractArray) in Base at arraymath.jl:38\n",
       "[144] +(x::T, y::Integer) where T<:AbstractChar in Base at char.jl:207\n",
       "[145] +(index1::CartesianIndex{N}, index2::CartesianIndex{N}) where N in Base.IteratorsMD at multidimensional.jl:106\n",
       "[146] +(::Number, ::Missing) in Base at missing.jl:94\n",
       "[147] +(x::P, y::P) where P<:Dates.Period in Dates at /home/vchuravy/src/julia/usr/share/julia/stdlib/v1.0/Dates/src/periods.jl:69\n",
       "[148] +(x::Dates.Period, y::Dates.Period) in Dates at /home/vchuravy/src/julia/usr/share/julia/stdlib/v1.0/Dates/src/periods.jl:346\n",
       "[149] +(y::Dates.Period, x::Dates.CompoundPeriod) in Dates at /home/vchuravy/src/julia/usr/share/julia/stdlib/v1.0/Dates/src/periods.jl:348\n",
       "[150] +(x::Union{CompoundPeriod, Period}) in Dates at /home/vchuravy/src/julia/usr/share/julia/stdlib/v1.0/Dates/src/periods.jl:357\n",
       "[151] +(x::Dates.TimeType) in Dates at /home/vchuravy/src/julia/usr/share/julia/stdlib/v1.0/Dates/src/arithmetic.jl:8\n",
       "[152] +(a::Dates.TimeType, b::Dates.Period, c::Dates.Period) in Dates at /home/vchuravy/src/julia/usr/share/julia/stdlib/v1.0/Dates/src/periods.jl:376\n",
       "[153] +(a::Dates.TimeType, b::Dates.Period, c::Dates.Period, d::Dates.Period...) in Dates at /home/vchuravy/src/julia/usr/share/julia/stdlib/v1.0/Dates/src/periods.jl:377\n",
       "[154] +(x::Dates.TimeType, y::Dates.CompoundPeriod) in Dates at /home/vchuravy/src/julia/usr/share/julia/stdlib/v1.0/Dates/src/periods.jl:380\n",
       "[155] +(x::Dates.Instant) in Dates at /home/vchuravy/src/julia/usr/share/julia/stdlib/v1.0/Dates/src/arithmetic.jl:4\n",
       "[156] +(y::Dates.Period, x::Dates.TimeType) in Dates at /home/vchuravy/src/julia/usr/share/julia/stdlib/v1.0/Dates/src/arithmetic.jl:84\n",
       "[157] +(x::AbstractArray{#s549,N} where N where #s549<:Dates.TimeType, y::Union{CompoundPeriod, Period}) in Dates at /home/vchuravy/src/julia/usr/share/julia/stdlib/v1.0/Dates/src/arithmetic.jl:86\n",
       "[158] +(x::Dates.Period, r::AbstractRange{#s549} where #s549<:Dates.TimeType) in Dates at /home/vchuravy/src/julia/usr/share/julia/stdlib/v1.0/Dates/src/ranges.jl:57\n",
       "[159] +(y::Union{CompoundPeriod, Period}, x::AbstractArray{#s549,N} where N where #s549<:Dates.TimeType) in Dates at /home/vchuravy/src/julia/usr/share/julia/stdlib/v1.0/Dates/src/arithmetic.jl:88\n",
       "[160] +(y::Dates.TimeType, x::Union{DenseArray{#s549,N}, ReinterpretArray{#s549,N,S,A} where S where A<:Union{SubArray{T,N,A,I,true} where I<:Tuple{AbstractUnitRange,Vararg{Any,N} where N} where A<:DenseArray where N where T, DenseArray}, ReshapedArray{#s549,N,A,MI} where MI<:Tuple{Vararg{SignedMultiplicativeInverse{Int64},N} where N} where A<:Union{ReinterpretArray{T,N,S,A} where S where A<:Union{SubArray{T,N,A,I,true} where I<:Tuple{AbstractUnitRange,Vararg{Any,N} where N} where A<:DenseArray where N where T, DenseArray} where N where T, SubArray{T,N,A,I,true} where I<:Tuple{AbstractUnitRange,Vararg{Any,N} where N} where A<:DenseArray where N where T, DenseArray}, SubArray{#s549,N,A,I,L} where L where I<:Tuple{Vararg{Union{Int64, AbstractRange{Int64}, AbstractCartesianIndex},N} where N} where A<:Union{ReinterpretArray{T,N,S,A} where S where A<:Union{SubArray{T,N,A,I,true} where I<:Tuple{AbstractUnitRange,Vararg{Any,N} where N} where A<:DenseArray where N where T, DenseArray} where N where T, ReshapedArray{T,N,A,MI} where MI<:Tuple{Vararg{SignedMultiplicativeInverse{Int64},N} where N} where A<:Union{ReinterpretArray{T,N,S,A} where S where A<:Union{SubArray{T,N,A,I,true} where I<:Tuple{AbstractUnitRange,Vararg{Any,N} where N} where A<:DenseArray where N where T, DenseArray} where N where T, SubArray{T,N,A,I,true} where I<:Tuple{AbstractUnitRange,Vararg{Any,N} where N} where A<:DenseArray where N where T, DenseArray} where N where T, DenseArray}} where N where #s549<:Union{CompoundPeriod, Period}) in Dates at /home/vchuravy/src/julia/usr/share/julia/stdlib/v1.0/Dates/src/arithmetic.jl:89\n",
       "[161] +(J::LinearAlgebra.UniformScaling, x::Number) in LinearAlgebra at /home/vchuravy/src/julia/usr/share/julia/stdlib/v1.0/LinearAlgebra/src/uniformscaling.jl:82\n",
       "[162] +(x::Number, J::LinearAlgebra.UniformScaling) in LinearAlgebra at /home/vchuravy/src/julia/usr/share/julia/stdlib/v1.0/LinearAlgebra/src/uniformscaling.jl:83\n",
       "[163] +(J1::LinearAlgebra.UniformScaling, J2::LinearAlgebra.UniformScaling) in LinearAlgebra at /home/vchuravy/src/julia/usr/share/julia/stdlib/v1.0/LinearAlgebra/src/uniformscaling.jl:87\n",
       "[164] +(J::LinearAlgebra.UniformScaling, B::BitArray{2}) in LinearAlgebra at /home/vchuravy/src/julia/usr/share/julia/stdlib/v1.0/LinearAlgebra/src/uniformscaling.jl:89\n",
       "[165] +(J::LinearAlgebra.UniformScaling, A::AbstractArray{T,2} where T) in LinearAlgebra at /home/vchuravy/src/julia/usr/share/julia/stdlib/v1.0/LinearAlgebra/src/uniformscaling.jl:90\n",
       "[166] +(a, b::PyObject) in PyCall at /home/vchuravy/.julia/packages/PyCall/WcrLS/src/pyoperators.jl:15\n",
       "[167] +(a, b, c, xs...) in Base at operators.jl:502"
      ]
     },
     "execution_count": 27,
     "metadata": {},
     "output_type": "execute_result"
    }
   ],
   "source": [
    "methods(+)"
   ]
  },
  {
   "cell_type": "markdown",
   "metadata": {
    "slideshow": {
     "slide_type": "subslide"
    }
   },
   "source": [
    "## Macros\n",
    "\n",
    "Macros are syntax transformations and are a form of metaprogramming.\n",
    "In Julia they always start with `@`."
   ]
  },
  {
   "cell_type": "code",
   "execution_count": 28,
   "metadata": {
    "slideshow": {
     "slide_type": "fragment"
    }
   },
   "outputs": [
    {
     "name": "stdout",
     "output_type": "stream",
     "text": [
      "  0.008905 seconds (352 allocations: 19.016 KiB)\n"
     ]
    },
    {
     "data": {
      "text/plain": [
       "3.4258079903673506"
      ]
     },
     "execution_count": 28,
     "metadata": {},
     "output_type": "execute_result"
    }
   ],
   "source": [
    "@time sum(rand(10))"
   ]
  },
  {
   "cell_type": "code",
   "execution_count": 29,
   "metadata": {
    "slideshow": {
     "slide_type": "fragment"
    }
   },
   "outputs": [
    {
     "data": {
      "text/plain": [
       "quote\n",
       "    #= util.jl:154 =#\n",
       "    local #18#stats = (Base.gc_num)()\n",
       "    #= util.jl:155 =#\n",
       "    local #20#elapsedtime = (Base.time_ns)()\n",
       "    #= util.jl:156 =#\n",
       "    local #19#val = sum(rand(10))\n",
       "    #= util.jl:157 =#\n",
       "    #20#elapsedtime = (Base.time_ns)() - #20#elapsedtime\n",
       "    #= util.jl:158 =#\n",
       "    local #21#diff = (Base.GC_Diff)((Base.gc_num)(), #18#stats)\n",
       "    #= util.jl:159 =#\n",
       "    (Base.time_print)(#20#elapsedtime, (#21#diff).allocd, (#21#diff).total_time, (Base.gc_alloc_count)(#21#diff))\n",
       "    #= util.jl:161 =#\n",
       "    (Base.println)()\n",
       "    #= util.jl:162 =#\n",
       "    #19#val\n",
       "end"
      ]
     },
     "execution_count": 29,
     "metadata": {},
     "output_type": "execute_result"
    }
   ],
   "source": [
    "@macroexpand @time sum(rand(10))"
   ]
  },
  {
   "cell_type": "markdown",
   "metadata": {
    "slideshow": {
     "slide_type": "subslide"
    }
   },
   "source": [
    "## Broadcast and dotfusion\n",
    "If you are used to matlab than the following will look familiar.\n",
    "```julia\n",
    "A = rand(10)\n",
    "B = rand(10)\n",
    "A .= sin.(A) .+ B ./ A\n",
    "```\n",
    "Dots signify elementwise operations and we can fuse together these elementwise operations which will turn the above line to:\n",
    "\n",
    "```julia\n",
    "broadcast!((x, y, z) -> sin(x) + y / z, A, A, B, A)\n",
    "```\n",
    "\n",
    "This is similar to Matlab with a key difference being that it will work for user defined functions as well. Learn more at https://julialang.org/blog/2017/01/moredots"
   ]
  },
  {
   "cell_type": "markdown",
   "metadata": {
    "slideshow": {
     "slide_type": "slide"
    }
   },
   "source": [
    "# Understandable performance"
   ]
  },
  {
   "cell_type": "markdown",
   "metadata": {
    "slideshow": {
     "slide_type": "subslide"
    }
   },
   "source": [
    "## A note on benchmarking\n",
    "*Premature optimization is the root of all evil* & *If you don't measure you won't improve*\n",
    "\n",
    "### Tools\n",
    "1. BenchmarkTools.jl https://github.com/JuliaCI/BenchmarkTools.jl\n",
    "2. Profiler https://docs.julialang.org/en/latest/manual/profile/\n",
    "3. ProfileView.jl https://github.com/timholy/ProfileView.jl\n",
    "4. VTunes/Perf/OProfile https://docs.julialang.org/en/latest/manual/profile/#External-Profiling-1"
   ]
  },
  {
   "cell_type": "markdown",
   "metadata": {
    "slideshow": {
     "slide_type": "subslide"
    }
   },
   "source": [
    "## BenchmarkTools.jl\n",
    "Solid package that tries to eliminate common pitfalls in performance measurment.\n",
    "- `@benchmark` macro that will repeatedly evaluate your code to gain enough samples\n",
    "- Caveat: You probably want to escape `$` your input data"
   ]
  },
  {
   "cell_type": "code",
   "execution_count": 30,
   "metadata": {
    "slideshow": {
     "slide_type": "fragment"
    }
   },
   "outputs": [
    {
     "data": {
      "text/plain": [
       "BenchmarkTools.Trial: \n",
       "  memory estimate:  0 bytes\n",
       "  allocs estimate:  0\n",
       "  --------------\n",
       "  minimum time:     4.390 ms (0.00% GC)\n",
       "  median time:      5.117 ms (0.00% GC)\n",
       "  mean time:        5.439 ms (0.00% GC)\n",
       "  maximum time:     16.367 ms (0.00% GC)\n",
       "  --------------\n",
       "  samples:          918\n",
       "  evals/sample:     1"
      ]
     },
     "execution_count": 30,
     "metadata": {},
     "output_type": "execute_result"
    }
   ],
   "source": [
    "@benchmark sum($data)"
   ]
  },
  {
   "cell_type": "markdown",
   "metadata": {
    "slideshow": {
     "slide_type": "subslide"
    }
   },
   "source": [
    "![Compiler](compiler.png)"
   ]
  },
  {
   "cell_type": "markdown",
   "metadata": {
    "slideshow": {
     "slide_type": "subslide"
    }
   },
   "source": [
    "![Compiler Stages](compiler-stages.png)"
   ]
  },
  {
   "cell_type": "markdown",
   "metadata": {
    "slideshow": {
     "slide_type": "subslide"
    }
   },
   "source": [
    "## Figuring out what is happening\n",
    "The stages of the compiler\n",
    "- `@code_lowered`\n",
    "- `@code_typed` & `@code_warntype`\n",
    "- `@code_llvm`\n",
    "- `@code_native`\n",
    "\n",
    "Where is a function defined\n",
    "`@which` & `@edit`"
   ]
  },
  {
   "cell_type": "markdown",
   "metadata": {
    "slideshow": {
     "slide_type": "subslide"
    }
   },
   "source": [
    "# Let's revisit our example from earlier!"
   ]
  },
  {
   "cell_type": "code",
   "execution_count": 31,
   "metadata": {
    "slideshow": {
     "slide_type": "fragment"
    }
   },
   "outputs": [
    {
     "data": {
      "text/plain": [
       "mysum3 (generic function with 1 method)"
      ]
     },
     "execution_count": 31,
     "metadata": {},
     "output_type": "execute_result"
    }
   ],
   "source": [
    "function mysum3(data)\n",
    "  acc = 0\n",
    "  for x in data\n",
    "      acc += x\n",
    "  end\n",
    "  return acc\n",
    "end"
   ]
  },
  {
   "cell_type": "code",
   "execution_count": 32,
   "metadata": {
    "slideshow": {
     "slide_type": "subslide"
    }
   },
   "outputs": [
    {
     "data": {
      "text/plain": [
       "CodeInfo(\n",
       "\u001b[90m\u001b[77G│\u001b[1G\u001b[39m\u001b[90m2 \u001b[39m1 ─       acc = 0\n",
       "\u001b[90m\u001b[77G│\u001b[1G\u001b[39m\u001b[90m3 \u001b[39m│   %2  = data\n",
       "\u001b[90m\u001b[77G│\u001b[1G\u001b[39m\u001b[90m  \u001b[39m│         #temp# = (Base.iterate)(%2)\n",
       "\u001b[90m\u001b[77G│\u001b[1G\u001b[39m\u001b[90m  \u001b[39m│   %4  = #temp# === nothing\n",
       "\u001b[90m\u001b[77G│\u001b[1G\u001b[39m\u001b[90m  \u001b[39m│   %5  = (Base.not_int)(%4)\n",
       "\u001b[90m\u001b[77G│\u001b[1G\u001b[39m\u001b[90m  \u001b[39m└──       goto #4 if not %5\n",
       "\u001b[90m\u001b[77G│\u001b[1G\u001b[39m\u001b[90m  \u001b[39m2 ┄ %7  = #temp#\n",
       "\u001b[90m\u001b[77G│\u001b[1G\u001b[39m\u001b[90m  \u001b[39m│         x = (Core.getfield)(%7, 1)\n",
       "\u001b[90m\u001b[77G│\u001b[1G\u001b[39m\u001b[90m  \u001b[39m│   %9  = (Core.getfield)(%7, 2)\n",
       "\u001b[90m\u001b[77G│\u001b[1G\u001b[39m\u001b[90m4 \u001b[39m│         acc = acc + x\n",
       "\u001b[90m\u001b[77G│\u001b[1G\u001b[39m\u001b[90m  \u001b[39m│         #temp# = (Base.iterate)(%2, %9)\n",
       "\u001b[90m\u001b[77G│\u001b[1G\u001b[39m\u001b[90m  \u001b[39m│   %12 = #temp# === nothing\n",
       "\u001b[90m\u001b[77G│\u001b[1G\u001b[39m\u001b[90m  \u001b[39m│   %13 = (Base.not_int)(%12)\n",
       "\u001b[90m\u001b[77G│\u001b[1G\u001b[39m\u001b[90m  \u001b[39m└──       goto #4 if not %13\n",
       "\u001b[90m\u001b[77G│\u001b[1G\u001b[39m\u001b[90m  \u001b[39m3 ─       goto #2\n",
       "\u001b[90m\u001b[77G│\u001b[1G\u001b[39m\u001b[90m6 \u001b[39m4 ─       return acc\n",
       ")"
      ]
     },
     "execution_count": 32,
     "metadata": {},
     "output_type": "execute_result"
    }
   ],
   "source": [
    "@code_lowered mysum3(zeros(3))"
   ]
  },
  {
   "cell_type": "code",
   "execution_count": 33,
   "metadata": {
    "slideshow": {
     "slide_type": "subslide"
    }
   },
   "outputs": [
    {
     "data": {
      "text/plain": [
       "CodeInfo(\n",
       "\u001b[90m\u001b[77G│\u001b[1G\u001b[39m\u001b[90m2 \u001b[39m1 ─       (acc = 0)\u001b[90m::Const(0, false)\u001b[39m\n",
       "\u001b[90m\u001b[77G│\u001b[1G\u001b[39m\u001b[90m3 \u001b[39m│   %2  = data\u001b[36m::Array{Float64,1}\u001b[39m\n",
       "\u001b[90m\u001b[77G│\u001b[1G\u001b[39m\u001b[90m  \u001b[39m│         (#temp# = (Base.iterate)(%2))\u001b[90m::Union{Nothing, Tuple{Float64,Int64}}\u001b[39m\n",
       "\u001b[90m\u001b[77G│\u001b[1G\u001b[39m\u001b[90m  \u001b[39m│   %4  = (#temp# === nothing)\u001b[36m::Bool\u001b[39m\n",
       "\u001b[90m\u001b[77G│\u001b[1G\u001b[39m\u001b[90m  \u001b[39m│   %5  = (Base.not_int)(%4)\u001b[36m::Bool\u001b[39m\n",
       "\u001b[90m\u001b[77G│\u001b[1G\u001b[39m\u001b[90m  \u001b[39m└──       goto #4 if not %5\n",
       "\u001b[90m\u001b[77G│\u001b[1G\u001b[39m\u001b[90m  \u001b[39m2 ┄ %7  = #temp#::Tuple{Float64,Int64}\u001b[36m::Tuple{Float64,Int64}\u001b[39m\n",
       "\u001b[90m\u001b[77G│\u001b[1G\u001b[39m\u001b[90m  \u001b[39m│         (x = (Core.getfield)(%7, 1))\u001b[90m::Float64\u001b[39m\n",
       "\u001b[90m\u001b[77G│\u001b[1G\u001b[39m\u001b[90m  \u001b[39m│   %9  = (Core.getfield)(%7, 2)\u001b[36m::Int64\u001b[39m\n",
       "\u001b[90m\u001b[77G│\u001b[1G\u001b[39m\u001b[90m4 \u001b[39m│         (acc = acc + x)\u001b[90m::Float64\u001b[39m\n",
       "\u001b[90m\u001b[77G│\u001b[1G\u001b[39m\u001b[90m  \u001b[39m│         (#temp# = (Base.iterate)(%2, %9))\u001b[90m::Union{Nothing, Tuple{Float64,Int64}}\u001b[39m\n",
       "\u001b[90m\u001b[77G│\u001b[1G\u001b[39m\u001b[90m  \u001b[39m│   %12 = (#temp# === nothing)\u001b[36m::Bool\u001b[39m\n",
       "\u001b[90m\u001b[77G│\u001b[1G\u001b[39m\u001b[90m  \u001b[39m│   %13 = (Base.not_int)(%12)\u001b[36m::Bool\u001b[39m\n",
       "\u001b[90m\u001b[77G│\u001b[1G\u001b[39m\u001b[90m  \u001b[39m└──       goto #4 if not %13\n",
       "\u001b[90m\u001b[77G│\u001b[1G\u001b[39m\u001b[90m  \u001b[39m3 ─       goto #2\n",
       "\u001b[90m\u001b[77G│\u001b[1G\u001b[39m\u001b[90m6 \u001b[39m4 ─       return acc\n",
       ") => Union{Float64, Int64}"
      ]
     },
     "execution_count": 33,
     "metadata": {},
     "output_type": "execute_result"
    }
   ],
   "source": [
    "@code_typed optimize=false mysum3(zeros(3))"
   ]
  },
  {
   "cell_type": "code",
   "execution_count": 34,
   "metadata": {
    "slideshow": {
     "slide_type": "subslide"
    }
   },
   "outputs": [
    {
     "data": {
      "text/plain": [
       "CodeInfo(\n",
       "\u001b[90m\u001b[58G│╻╷╷  iterate\u001b[1G\u001b[39m\u001b[90m3 \u001b[39m1 ── %1  = (Base.arraylen)(data)\u001b[36m::Int64\u001b[39m\n",
       "\u001b[90m\u001b[58G││╻╷   iterate\u001b[1G\u001b[39m\u001b[90m  \u001b[39m│    %2  = (Base.sle_int)(0, %1)\u001b[36m::Bool\u001b[39m\n",
       "\u001b[90m\u001b[58G│││╻    <\u001b[1G\u001b[39m\u001b[90m  \u001b[39m│    %3  = (Base.bitcast)(UInt64, %1)\u001b[36m::UInt64\u001b[39m\n",
       "\u001b[90m\u001b[58G││││╻    <\u001b[1G\u001b[39m\u001b[90m  \u001b[39m│    %4  = (Base.ult_int)(0x0000000000000000, %3)\u001b[36m::Bool\u001b[39m\n",
       "\u001b[90m\u001b[58G││││╻    &\u001b[1G\u001b[39m\u001b[90m  \u001b[39m│    %5  = (Base.and_int)(%2, %4)\u001b[36m::Bool\u001b[39m\n",
       "\u001b[90m\u001b[58G│││  \u001b[1G\u001b[39m\u001b[90m  \u001b[39m└───       goto #3 if not %5\n",
       "\u001b[90m\u001b[58G│││╻    getindex\u001b[1G\u001b[39m\u001b[90m  \u001b[39m2 ── %7  = (Base.arrayref)(false, data, 1)\u001b[36m::Float64\u001b[39m\n",
       "\u001b[90m\u001b[58G│││  \u001b[1G\u001b[39m\u001b[90m  \u001b[39m└───       goto #4\n",
       "\u001b[90m\u001b[58G│││  \u001b[1G\u001b[39m\u001b[90m  \u001b[39m3 ──       goto #4\n",
       "\u001b[90m\u001b[58G││   \u001b[1G\u001b[39m\u001b[90m  \u001b[39m4 ┄─ %10 = φ (#2 => false, #3 => true)\u001b[36m::Bool\u001b[39m\n",
       "\u001b[90m\u001b[58G││   \u001b[1G\u001b[39m\u001b[90m  \u001b[39m│    %11 = φ (#2 => %7)\u001b[36m::Float64\u001b[39m\n",
       "\u001b[90m\u001b[58G││   \u001b[1G\u001b[39m\u001b[90m  \u001b[39m│    %12 = φ (#2 => 2)\u001b[36m::Int64\u001b[39m\n",
       "\u001b[90m\u001b[58G││   \u001b[1G\u001b[39m\u001b[90m  \u001b[39m└───       goto #5\n",
       "\u001b[90m\u001b[58G│    \u001b[1G\u001b[39m\u001b[90m  \u001b[39m5 ── %14 = (Base.not_int)(%10)\u001b[36m::Bool\u001b[39m\n",
       "\u001b[90m\u001b[58G│    \u001b[1G\u001b[39m\u001b[90m  \u001b[39m└───       goto #11 if not %14\n",
       "\u001b[90m\u001b[58G│    \u001b[1G\u001b[39m\u001b[90m  \u001b[39m6 ┄─ %16 = φ (#5 => 0.0, #10 => %19)\u001b[36m::Float64\u001b[39m\n",
       "\u001b[90m\u001b[58G│    \u001b[1G\u001b[39m\u001b[90m  \u001b[39m│    %17 = φ (#5 => %11, #10 => %33)\u001b[36m::Float64\u001b[39m\n",
       "\u001b[90m\u001b[58G│    \u001b[1G\u001b[39m\u001b[90m  \u001b[39m│    %18 = φ (#5 => %12, #10 => %34)\u001b[36m::Int64\u001b[39m\n",
       "\u001b[90m\u001b[58G│╻    +\u001b[1G\u001b[39m\u001b[90m4 \u001b[39m│    %19 = (Base.add_float)(%16, %17)\u001b[36m::Float64\u001b[39m\n",
       "\u001b[90m\u001b[58G││╻    rem\u001b[1G\u001b[39m\u001b[90m  \u001b[39m│    %20 = (Base.bitcast)(UInt64, %18)\u001b[36m::UInt64\u001b[39m\n",
       "\u001b[90m\u001b[58G││╻    -\u001b[1G\u001b[39m\u001b[90m  \u001b[39m│    %21 = π (0x0000000000000001, \u001b[36mUInt64\u001b[39m)\n",
       "\u001b[90m\u001b[58G│││╻    -\u001b[1G\u001b[39m\u001b[90m  \u001b[39m│    %22 = (Base.sub_int)(%20, %21)\u001b[36m::UInt64\u001b[39m\n",
       "\u001b[90m\u001b[58G││╻    length\u001b[1G\u001b[39m\u001b[90m  \u001b[39m│    %23 = (Base.arraylen)(data)\u001b[36m::Int64\u001b[39m\n",
       "\u001b[90m\u001b[58G│││╻╷   >=\u001b[1G\u001b[39m\u001b[90m  \u001b[39m│    %24 = (Base.sle_int)(0, %23)\u001b[36m::Bool\u001b[39m\n",
       "\u001b[90m\u001b[58G││││╻    reinterpret\u001b[1G\u001b[39m\u001b[90m  \u001b[39m│    %25 = (Base.bitcast)(UInt64, %23)\u001b[36m::UInt64\u001b[39m\n",
       "\u001b[90m\u001b[58G│││╻    <\u001b[1G\u001b[39m\u001b[90m  \u001b[39m│    %26 = (Base.ult_int)(%22, %25)\u001b[36m::Bool\u001b[39m\n",
       "\u001b[90m\u001b[58G│││╻    &\u001b[1G\u001b[39m\u001b[90m  \u001b[39m│    %27 = (Base.and_int)(%24, %26)\u001b[36m::Bool\u001b[39m\n",
       "\u001b[90m\u001b[58G││   \u001b[1G\u001b[39m\u001b[90m  \u001b[39m└───       goto #8 if not %27\n",
       "\u001b[90m\u001b[58G││╻    getindex\u001b[1G\u001b[39m\u001b[90m  \u001b[39m7 ── %29 = (Base.arrayref)(false, data, %18)\u001b[36m::Float64\u001b[39m\n",
       "\u001b[90m\u001b[58G││╻    +\u001b[1G\u001b[39m\u001b[90m  \u001b[39m│    %30 = (Base.add_int)(%18, 1)\u001b[36m::Int64\u001b[39m\n",
       "\u001b[90m\u001b[58G││   \u001b[1G\u001b[39m\u001b[90m  \u001b[39m└───       goto #9\n",
       "\u001b[90m\u001b[58G││   \u001b[1G\u001b[39m\u001b[90m  \u001b[39m8 ──       goto #9\n",
       "\u001b[90m\u001b[58G│    \u001b[1G\u001b[39m\u001b[90m  \u001b[39m9 ┄─ %33 = φ (#7 => %29)\u001b[36m::Float64\u001b[39m\n",
       "\u001b[90m\u001b[58G│    \u001b[1G\u001b[39m\u001b[90m  \u001b[39m│    %34 = φ (#7 => %30)\u001b[36m::Int64\u001b[39m\n",
       "\u001b[90m\u001b[58G│    \u001b[1G\u001b[39m\u001b[90m  \u001b[39m│    %35 = φ (#7 => false, #8 => true)\u001b[36m::Bool\u001b[39m\n",
       "\u001b[90m\u001b[58G│    \u001b[1G\u001b[39m\u001b[90m  \u001b[39m│    %36 = (Base.not_int)(%35)\u001b[36m::Bool\u001b[39m\n",
       "\u001b[90m\u001b[58G│    \u001b[1G\u001b[39m\u001b[90m  \u001b[39m└───       goto #11 if not %36\n",
       "\u001b[90m\u001b[58G│    \u001b[1G\u001b[39m\u001b[90m  \u001b[39m10 ─       goto #6\n",
       "\u001b[90m\u001b[58G│    \u001b[1G\u001b[39m\u001b[90m6 \u001b[39m11 ─ %39 = φ (#9 => %19, #5 => 0.0)\u001b[36m::Float64\u001b[39m\n",
       "\u001b[90m\u001b[58G│    \u001b[1G\u001b[39m\u001b[90m  \u001b[39m└───       return %39\n",
       ") => Float64"
      ]
     },
     "execution_count": 34,
     "metadata": {},
     "output_type": "execute_result"
    }
   ],
   "source": [
    "@code_typed optimize=true mysum(zeros(3))"
   ]
  },
  {
   "cell_type": "code",
   "execution_count": 35,
   "metadata": {
    "slideshow": {
     "slide_type": "subslide"
    }
   },
   "outputs": [
    {
     "name": "stdout",
     "output_type": "stream",
     "text": [
      "Body\u001b[91m\u001b[1m::Union{Float64, Int64}\u001b[22m\u001b[39m\n",
      "\u001b[90m\u001b[57G│╻╷╷   iterate\u001b[1G\u001b[39m\u001b[90m3 \u001b[39m1 ── %1  = (Base.arraylen)(data)\u001b[36m::Int64\u001b[39m\n",
      "\u001b[90m\u001b[57G││╻╷    iterate\u001b[1G\u001b[39m\u001b[90m  \u001b[39m│    %2  = (Base.sle_int)(0, %1)\u001b[36m::Bool\u001b[39m\n",
      "\u001b[90m\u001b[57G│││╻     <\u001b[1G\u001b[39m\u001b[90m  \u001b[39m│    %3  = (Base.bitcast)(UInt64, %1)\u001b[36m::UInt64\u001b[39m\n",
      "\u001b[90m\u001b[57G││││╻     <\u001b[1G\u001b[39m\u001b[90m  \u001b[39m│    %4  = (Base.ult_int)(0x0000000000000000, %3)\u001b[36m::Bool\u001b[39m\n",
      "\u001b[90m\u001b[57G││││╻     &\u001b[1G\u001b[39m\u001b[90m  \u001b[39m│    %5  = (Base.and_int)(%2, %4)\u001b[36m::Bool\u001b[39m\n",
      "\u001b[90m\u001b[57G│││   \u001b[1G\u001b[39m\u001b[90m  \u001b[39m└───       goto #3 if not %5\n",
      "\u001b[90m\u001b[57G│││╻     getindex\u001b[1G\u001b[39m\u001b[90m  \u001b[39m2 ── %7  = (Base.arrayref)(false, data, 1)\u001b[36m::Float64\u001b[39m\n",
      "\u001b[90m\u001b[57G│││   \u001b[1G\u001b[39m\u001b[90m  \u001b[39m└───       goto #4\n",
      "\u001b[90m\u001b[57G│││   \u001b[1G\u001b[39m\u001b[90m  \u001b[39m3 ──       goto #4\n",
      "\u001b[90m\u001b[57G││    \u001b[1G\u001b[39m\u001b[90m  \u001b[39m4 ┄─ %10 = φ (#2 => false, #3 => true)\u001b[36m::Bool\u001b[39m\n",
      "\u001b[90m\u001b[57G││    \u001b[1G\u001b[39m\u001b[90m  \u001b[39m│    %11 = φ (#2 => %7)\u001b[36m::Float64\u001b[39m\n",
      "\u001b[90m\u001b[57G││    \u001b[1G\u001b[39m\u001b[90m  \u001b[39m│    %12 = φ (#2 => 2)\u001b[36m::Int64\u001b[39m\n",
      "\u001b[90m\u001b[57G││    \u001b[1G\u001b[39m\u001b[90m  \u001b[39m└───       goto #5\n",
      "\u001b[90m\u001b[57G│     \u001b[1G\u001b[39m\u001b[90m  \u001b[39m5 ── %14 = (Base.not_int)(%10)\u001b[36m::Bool\u001b[39m\n",
      "\u001b[90m\u001b[57G│     \u001b[1G\u001b[39m\u001b[90m  \u001b[39m└───       goto #16 if not %14\n",
      "\u001b[90m\u001b[57G│     \u001b[1G\u001b[39m\u001b[90m  \u001b[39m6 ┄─ %16 = φ (#5 => 0, #15 => %32)\u001b[91m\u001b[1m::Union{Float64, Int64}\u001b[22m\u001b[39m\n",
      "\u001b[90m\u001b[57G│     \u001b[1G\u001b[39m\u001b[90m  \u001b[39m│    %17 = φ (#5 => %11, #15 => %46)\u001b[36m::Float64\u001b[39m\n",
      "\u001b[90m\u001b[57G│     \u001b[1G\u001b[39m\u001b[90m  \u001b[39m│    %18 = φ (#5 => %12, #15 => %47)\u001b[36m::Int64\u001b[39m\n",
      "\u001b[90m\u001b[57G│     \u001b[1G\u001b[39m\u001b[90m4 \u001b[39m│    %19 = (isa)(%16, Float64)\u001b[36m::Bool\u001b[39m\n",
      "\u001b[90m\u001b[57G│     \u001b[1G\u001b[39m\u001b[90m  \u001b[39m└───       goto #8 if not %19\n",
      "\u001b[90m\u001b[57G│     \u001b[1G\u001b[39m\u001b[90m  \u001b[39m7 ── %21 = π (%16, \u001b[36mFloat64\u001b[39m)\n",
      "\u001b[90m\u001b[57G│╻     +\u001b[1G\u001b[39m\u001b[90m  \u001b[39m│    %22 = (Base.add_float)(%21, %17)\u001b[36m::Float64\u001b[39m\n",
      "\u001b[90m\u001b[57G│     \u001b[1G\u001b[39m\u001b[90m  \u001b[39m└───       goto #11\n",
      "\u001b[90m\u001b[57G│     \u001b[1G\u001b[39m\u001b[90m  \u001b[39m8 ── %24 = (isa)(%16, Int64)\u001b[36m::Bool\u001b[39m\n",
      "\u001b[90m\u001b[57G│     \u001b[1G\u001b[39m\u001b[90m  \u001b[39m└───       goto #10 if not %24\n",
      "\u001b[90m\u001b[57G│     \u001b[1G\u001b[39m\u001b[90m  \u001b[39m9 ── %26 = π (%16, \u001b[36mInt64\u001b[39m)\n",
      "\u001b[90m\u001b[57G││╻╷╷╷  promote\u001b[1G\u001b[39m\u001b[90m  \u001b[39m│    %27 = (Base.sitofp)(Float64, %26)\u001b[36m::Float64\u001b[39m\n",
      "\u001b[90m\u001b[57G││╻     +\u001b[1G\u001b[39m\u001b[90m  \u001b[39m│    %28 = (Base.add_float)(%27, %17)\u001b[36m::Float64\u001b[39m\n",
      "\u001b[90m\u001b[57G│     \u001b[1G\u001b[39m\u001b[90m  \u001b[39m└───       goto #11\n",
      "\u001b[90m\u001b[57G│     \u001b[1G\u001b[39m\u001b[90m  \u001b[39m10 ─       (Core.throw)(ErrorException(\"fatal error in type inference (type bound)\"))\n",
      "\u001b[90m\u001b[57G│     \u001b[1G\u001b[39m\u001b[90m  \u001b[39m└───       $(Expr(:unreachable))\n",
      "\u001b[90m\u001b[57G│     \u001b[1G\u001b[39m\u001b[90m  \u001b[39m11 ┄ %32 = φ (#7 => %22, #9 => %28)\u001b[36m::Float64\u001b[39m\n",
      "\u001b[90m\u001b[57G││╻     rem\u001b[1G\u001b[39m\u001b[90m  \u001b[39m│    %33 = (Base.bitcast)(UInt64, %18)\u001b[36m::UInt64\u001b[39m\n",
      "\u001b[90m\u001b[57G││╻     -\u001b[1G\u001b[39m\u001b[90m  \u001b[39m│    %34 = π (0x0000000000000001, \u001b[36mUInt64\u001b[39m)\n",
      "\u001b[90m\u001b[57G│││╻     -\u001b[1G\u001b[39m\u001b[90m  \u001b[39m│    %35 = (Base.sub_int)(%33, %34)\u001b[36m::UInt64\u001b[39m\n",
      "\u001b[90m\u001b[57G││╻     length\u001b[1G\u001b[39m\u001b[90m  \u001b[39m│    %36 = (Base.arraylen)(data)\u001b[36m::Int64\u001b[39m\n",
      "\u001b[90m\u001b[57G│││╻╷    >=\u001b[1G\u001b[39m\u001b[90m  \u001b[39m│    %37 = (Base.sle_int)(0, %36)\u001b[36m::Bool\u001b[39m\n",
      "\u001b[90m\u001b[57G││││╻     reinterpret\u001b[1G\u001b[39m\u001b[90m  \u001b[39m│    %38 = (Base.bitcast)(UInt64, %36)\u001b[36m::UInt64\u001b[39m\n",
      "\u001b[90m\u001b[57G│││╻     <\u001b[1G\u001b[39m\u001b[90m  \u001b[39m│    %39 = (Base.ult_int)(%35, %38)\u001b[36m::Bool\u001b[39m\n",
      "\u001b[90m\u001b[57G│││╻     &\u001b[1G\u001b[39m\u001b[90m  \u001b[39m│    %40 = (Base.and_int)(%37, %39)\u001b[36m::Bool\u001b[39m\n",
      "\u001b[90m\u001b[57G││    \u001b[1G\u001b[39m\u001b[90m  \u001b[39m└───       goto #13 if not %40\n",
      "\u001b[90m\u001b[57G││╻     getindex\u001b[1G\u001b[39m\u001b[90m  \u001b[39m12 ─ %42 = (Base.arrayref)(false, data, %18)\u001b[36m::Float64\u001b[39m\n",
      "\u001b[90m\u001b[57G││╻     +\u001b[1G\u001b[39m\u001b[90m  \u001b[39m│    %43 = (Base.add_int)(%18, 1)\u001b[36m::Int64\u001b[39m\n",
      "\u001b[90m\u001b[57G││    \u001b[1G\u001b[39m\u001b[90m  \u001b[39m└───       goto #14\n",
      "\u001b[90m\u001b[57G││    \u001b[1G\u001b[39m\u001b[90m  \u001b[39m13 ─       goto #14\n",
      "\u001b[90m\u001b[57G│     \u001b[1G\u001b[39m\u001b[90m  \u001b[39m14 ┄ %46 = φ (#12 => %42)\u001b[36m::Float64\u001b[39m\n",
      "\u001b[90m\u001b[57G│     \u001b[1G\u001b[39m\u001b[90m  \u001b[39m│    %47 = φ (#12 => %43)\u001b[36m::Int64\u001b[39m\n",
      "\u001b[90m\u001b[57G│     \u001b[1G\u001b[39m\u001b[90m  \u001b[39m│    %48 = φ (#12 => false, #13 => true)\u001b[36m::Bool\u001b[39m\n",
      "\u001b[90m\u001b[57G│     \u001b[1G\u001b[39m\u001b[90m  \u001b[39m│    %49 = (Base.not_int)(%48)\u001b[36m::Bool\u001b[39m\n",
      "\u001b[90m\u001b[57G│     \u001b[1G\u001b[39m\u001b[90m  \u001b[39m└───       goto #16 if not %49\n",
      "\u001b[90m\u001b[57G│     \u001b[1G\u001b[39m\u001b[90m  \u001b[39m15 ─       goto #6\n",
      "\u001b[90m\u001b[57G│     \u001b[1G\u001b[39m\u001b[90m6 \u001b[39m16 ─ %52 = φ (#14 => %32, #5 => 0)\u001b[91m\u001b[1m::Union{Float64, Int64}\u001b[22m\u001b[39m\n",
      "\u001b[90m\u001b[57G│     \u001b[1G\u001b[39m\u001b[90m  \u001b[39m└───       return %52\n"
     ]
    }
   ],
   "source": [
    "@code_warntype mysum3(zeros(3))"
   ]
  },
  {
   "cell_type": "markdown",
   "metadata": {
    "slideshow": {
     "slide_type": "subslide"
    }
   },
   "source": [
    "# And even lower! \n",
    "\n",
    "```\n",
    "@code_llvm optimize=false mysum(data)\n",
    "\n",
    "@code_llvm optimize=true mysum(data)\n",
    "\n",
    "@code_native mysum(data)\n",
    "```"
   ]
  },
  {
   "cell_type": "markdown",
   "metadata": {
    "slideshow": {
     "slide_type": "slide"
    }
   },
   "source": [
    "# From performance to generic code\n",
    "- Up until now I have been heavily focused on performance\n",
    "- Mostly because I am a low-level person and this excites me!\n",
    "- Performance was the reason why I came to Julia, but I stayed because of the features\n",
    "- Let's talk about composable and generic code."
   ]
  },
  {
   "cell_type": "markdown",
   "metadata": {
    "slideshow": {
     "slide_type": "slide"
    }
   },
   "source": [
    "# AD in 5min\n",
    "- In Julia there is no notion of privileged code\n",
    "- User code can be as fast as code in the base language\n",
    "- This enables powerful (and fast) high-level abstractions\n",
    "- Automatic-Differentiation is a technique that powers all of modern ML"
   ]
  },
  {
   "cell_type": "markdown",
   "metadata": {
    "slideshow": {
     "slide_type": "subslide"
    }
   },
   "source": [
    "# Autodiff:  <br> Calculus  from another angle \n",
    "(and the special role played by Julia's multiple dispatch and compiler technology)\n",
    "\n",
    "(based on a lecture given by Alan Edelman, 2017)\n"
   ]
  },
  {
   "cell_type": "markdown",
   "metadata": {
    "slideshow": {
     "slide_type": "subslide"
    }
   },
   "source": [
    "the first time I heard about automatic differentiation, it was easy for me to imagine what it was.  I was wrong.  In my head, I thought it was straightforward symbolic differentiation applied to code.  I kind of imagined it was like executing Mathematica or Maple, or even just automatically doing what I learned to do in my calculus class. \n",
    "  \n",
    "![symbolic](http://www2.bc.cc.ca.us/resperic/math6a/lectures/ch5/1/IntegralTable.gif)\n"
   ]
  },
  {
   "cell_type": "markdown",
   "metadata": {
    "slideshow": {
     "slide_type": "subslide"
    }
   },
   "source": [
    "  .... and anyway if it was not that, then it must be finite differences, like one learns in a numerical computing class.\n",
    "![finite differences](http://image.mathcaptain.com/cms/images/122/Diff%202.png)"
   ]
  },
  {
   "cell_type": "markdown",
   "metadata": {
    "slideshow": {
     "slide_type": "subslide"
    }
   },
   "source": [
    "## Babylonian sqrt\n",
    "\n",
    "I would like to use a simple example, computation of sqrt(x), where for me how autodiff works came as both a mathematical surprise, and a computing wonder.  The example is  the Babylonian algorithm, known to man for millenia, to compute sqrt(x):  \n",
    "\n",
    "\n",
    " > Repeat $ t \\leftarrow  (t+x/t) / 2 $ until $t$ converges to $\\sqrt{x}$.\n",
    " \n",
    " Each iteration has one add and two divides. For illustration purposes, 10 iterations suffice."
   ]
  },
  {
   "cell_type": "code",
   "execution_count": 36,
   "metadata": {
    "slideshow": {
     "slide_type": "subslide"
    }
   },
   "outputs": [
    {
     "data": {
      "text/plain": [
       "Babylonian (generic function with 2 methods)"
      ]
     },
     "execution_count": 36,
     "metadata": {},
     "output_type": "execute_result"
    }
   ],
   "source": [
    "function Babylonian(x, N = 10) \n",
    "    t = (1 + x) / 2\n",
    "    for i in 2:N\n",
    "        t = (t + x/t) / 2\n",
    "    end    \n",
    "    t\n",
    "end  "
   ]
  },
  {
   "cell_type": "code",
   "execution_count": 37,
   "metadata": {
    "slideshow": {
     "slide_type": "fragment"
    }
   },
   "outputs": [
    {
     "data": {
      "text/plain": [
       "10.0"
      ]
     },
     "execution_count": 37,
     "metadata": {},
     "output_type": "execute_result"
    }
   ],
   "source": [
    "Babylonian(100)"
   ]
  },
  {
   "cell_type": "markdown",
   "metadata": {
    "slideshow": {
     "slide_type": "fragment"
    }
   },
   "source": [
    "Check that it works:"
   ]
  },
  {
   "cell_type": "code",
   "execution_count": 38,
   "metadata": {
    "slideshow": {
     "slide_type": "fragment"
    }
   },
   "outputs": [
    {
     "data": {
      "text/plain": [
       "(1.414213562373095, 1.4142135623730951)"
      ]
     },
     "execution_count": 38,
     "metadata": {},
     "output_type": "execute_result"
    }
   ],
   "source": [
    "x=2; Babylonian(x),√x  # Type \\sqrt+<tab> to get the symbol"
   ]
  },
  {
   "cell_type": "markdown",
   "metadata": {
    "slideshow": {
     "slide_type": "slide"
    }
   },
   "source": [
    "and now the derivative (almost by magic)"
   ]
  },
  {
   "cell_type": "code",
   "execution_count": 39,
   "metadata": {
    "slideshow": {
     "slide_type": "subslide"
    }
   },
   "outputs": [],
   "source": [
    "struct Dual <: Number\n",
    "    x::Float64\n",
    "    dx::Float64\n",
    "end"
   ]
  },
  {
   "cell_type": "markdown",
   "metadata": {
    "slideshow": {
     "slide_type": "fragment"
    }
   },
   "source": [
    "Sum Rule: (x+y)' = x' + y' <br>\n",
    "Quotient Rule: (x/y)' = (yx'-xy') / y^2"
   ]
  },
  {
   "cell_type": "code",
   "execution_count": 40,
   "metadata": {
    "slideshow": {
     "slide_type": "fragment"
    }
   },
   "outputs": [
    {
     "data": {
      "text/plain": [
       "promote_rule (generic function with 134 methods)"
      ]
     },
     "execution_count": 40,
     "metadata": {},
     "output_type": "execute_result"
    }
   ],
   "source": [
    "import Base: +, -, *, /, convert, promote_rule\n",
    "+(x::Dual, y::Dual) = Dual(x.x + y.x, x.dx + y.dx)\n",
    "-(x::Dual, y::Dual) = Dual(x.x - y.x, x.dx - y.dx)\n",
    "*(x::Dual, y::Dual) = Dual(x.x * y.x, x.dx * y.x + x.x*y.dx)\n",
    "/(x::Dual, y::Dual) = Dual(x.x / y.x, (y.x*x.dx - x.x*y.dx)/y.x^2)\n",
    "convert(::Type{Dual}, x::Real) = Dual(x, zero(x))\n",
    "promote_rule(::Type{Dual}, ::Type{<:Number}) = Dual"
   ]
  },
  {
   "cell_type": "code",
   "execution_count": 41,
   "metadata": {
    "slideshow": {
     "slide_type": "subslide"
    }
   },
   "outputs": [
    {
     "data": {
      "text/plain": [
       "(Dual(5.0, 0.1), (5.0, 0.1))"
      ]
     },
     "execution_count": 41,
     "metadata": {},
     "output_type": "execute_result"
    }
   ],
   "source": [
    "x=25.\n",
    "Babylonian(Dual(x,1)), (√x,.5/√x)"
   ]
  },
  {
   "cell_type": "markdown",
   "metadata": {
    "slideshow": {
     "slide_type": "subslide"
    }
   },
   "source": [
    "# Aside:\n",
    "- If you want to do AD in Julia use ForwardDiff.jl instead of rolling your own\n",
    "- We can also get a symbolic derivative (see SymPy.jl)"
   ]
  },
  {
   "cell_type": "markdown",
   "metadata": {
    "slideshow": {
     "slide_type": "subslide"
    }
   },
   "source": [
    "# What just happened?"
   ]
  },
  {
   "cell_type": "code",
   "execution_count": 42,
   "metadata": {
    "slideshow": {
     "slide_type": "fragment"
    }
   },
   "outputs": [
    {
     "data": {
      "text/plain": [
       "dBabylonian (generic function with 2 methods)"
      ]
     },
     "execution_count": 42,
     "metadata": {},
     "output_type": "execute_result"
    }
   ],
   "source": [
    "function dBabylonian(x, N = 10) \n",
    "    t = (1+x)/2\n",
    "    t′ = 1/2\n",
    "    for i = 2:N;  \n",
    "        t = (t+x/t)/2; \n",
    "        t′= (t′+(t-x*t′)/t^2)/2; \n",
    "    end    \n",
    "    t′\n",
    "end  "
   ]
  },
  {
   "cell_type": "code",
   "execution_count": 43,
   "metadata": {
    "slideshow": {
     "slide_type": "fragment"
    }
   },
   "outputs": [
    {
     "data": {
      "text/plain": [
       "(0.35355339059327373, 0.35355339059327373)"
      ]
     },
     "execution_count": 43,
     "metadata": {},
     "output_type": "execute_result"
    }
   ],
   "source": [
    "x = 2; dBabylonian(x), .5/√x"
   ]
  },
  {
   "cell_type": "code",
   "execution_count": 44,
   "metadata": {
    "slideshow": {
     "slide_type": "fragment"
    }
   },
   "outputs": [
    {
     "data": {
      "text/plain": [
       "Dual(1.414213562373095, 0.35355339059327373)"
      ]
     },
     "execution_count": 44,
     "metadata": {},
     "output_type": "execute_result"
    }
   ],
   "source": [
    "Babylonian(Dual(x,1))"
   ]
  },
  {
   "cell_type": "markdown",
   "metadata": {
    "slideshow": {
     "slide_type": "subslide"
    }
   },
   "source": [
    "# Aside 2:\n",
    "There is actually a performance bug here...,\n",
    "LLVM SLP vectoriser is to aggressive and over-optimises our `Babylonian`."
   ]
  },
  {
   "cell_type": "code",
   "execution_count": 45,
   "metadata": {
    "slideshow": {
     "slide_type": "fragment"
    }
   },
   "outputs": [
    {
     "data": {
      "text/plain": [
       "BenchmarkTools.Trial: \n",
       "  memory estimate:  0 bytes\n",
       "  allocs estimate:  0\n",
       "  --------------\n",
       "  minimum time:     12.792 ns (0.00% GC)\n",
       "  median time:      14.221 ns (0.00% GC)\n",
       "  mean time:        19.775 ns (0.00% GC)\n",
       "  maximum time:     144.916 ns (0.00% GC)\n",
       "  --------------\n",
       "  samples:          10000\n",
       "  evals/sample:     998"
      ]
     },
     "execution_count": 45,
     "metadata": {},
     "output_type": "execute_result"
    }
   ],
   "source": [
    "@benchmark Babylonian(25.0)"
   ]
  },
  {
   "cell_type": "code",
   "execution_count": 46,
   "metadata": {
    "slideshow": {
     "slide_type": "subslide"
    }
   },
   "outputs": [
    {
     "data": {
      "text/plain": [
       "BenchmarkTools.Trial: \n",
       "  memory estimate:  0 bytes\n",
       "  allocs estimate:  0\n",
       "  --------------\n",
       "  minimum time:     72.305 ns (0.00% GC)\n",
       "  median time:      79.464 ns (0.00% GC)\n",
       "  mean time:        101.681 ns (0.00% GC)\n",
       "  maximum time:     1.449 μs (0.00% GC)\n",
       "  --------------\n",
       "  samples:          10000\n",
       "  evals/sample:     971"
      ]
     },
     "execution_count": 46,
     "metadata": {},
     "output_type": "execute_result"
    }
   ],
   "source": [
    "@benchmark Babylonian(Dual(25.0, 1.0))"
   ]
  },
  {
   "cell_type": "code",
   "execution_count": 47,
   "metadata": {
    "slideshow": {
     "slide_type": "fragment"
    }
   },
   "outputs": [
    {
     "data": {
      "text/plain": [
       "BenchmarkTools.Trial: \n",
       "  memory estimate:  0 bytes\n",
       "  allocs estimate:  0\n",
       "  --------------\n",
       "  minimum time:     34.924 ns (0.00% GC)\n",
       "  median time:      37.538 ns (0.00% GC)\n",
       "  mean time:        44.416 ns (0.00% GC)\n",
       "  maximum time:     543.122 ns (0.00% GC)\n",
       "  --------------\n",
       "  samples:          10000\n",
       "  evals/sample:     993"
      ]
     },
     "execution_count": 47,
     "metadata": {},
     "output_type": "execute_result"
    }
   ],
   "source": [
    "@benchmark dBabylonian(25.0)"
   ]
  },
  {
   "cell_type": "markdown",
   "metadata": {
    "slideshow": {
     "slide_type": "subslide"
    }
   },
   "source": [
    "## Dual Number Notation\n",
    "\n",
    "Instead of D(a,b) we can write a + b ϵ, where ϵ satisfies ϵ^2=0.  (Some people like to recall imaginary numbers where an i is introduced with i^2=-1.) \n",
    "\n",
    "Others like to think of how engineers just drop the O(ϵ^2) terms.\n",
    "\n",
    "The four rules are\n",
    "\n",
    "$ (a+b\\epsilon) \\pm (c+d\\epsilon) = (a+c) \\pm (b+d)\\epsilon$\n",
    "\n",
    "$ (a+b\\epsilon) * (c+d\\epsilon) = (ac) + (bc+ad)\\epsilon$\n",
    "\n",
    "$ (a+b\\epsilon) / (c+d\\epsilon) = (a/c) + (bc-ad)/d^2 \\epsilon $\n"
   ]
  },
  {
   "cell_type": "code",
   "execution_count": 48,
   "metadata": {
    "slideshow": {
     "slide_type": "fragment"
    }
   },
   "outputs": [],
   "source": [
    "Base.show(io::IO,x::Dual) = print(io,x.x,\" + \",x.dx,\" ϵ\")"
   ]
  },
  {
   "cell_type": "code",
   "execution_count": 49,
   "metadata": {
    "slideshow": {
     "slide_type": "fragment"
    }
   },
   "outputs": [
    {
     "data": {
      "text/plain": [
       "0.0 + 1.0 ϵ"
      ]
     },
     "execution_count": 49,
     "metadata": {},
     "output_type": "execute_result"
    }
   ],
   "source": [
    "const ϵ = Dual(0, 1)"
   ]
  },
  {
   "cell_type": "code",
   "execution_count": 50,
   "metadata": {
    "slideshow": {
     "slide_type": "subslide"
    }
   },
   "outputs": [
    {
     "data": {
      "text/plain": [
       "3.0 + 4.0 ϵ"
      ]
     },
     "execution_count": 50,
     "metadata": {},
     "output_type": "execute_result"
    }
   ],
   "source": [
    "(1+ϵ)*(3+ϵ)"
   ]
  },
  {
   "cell_type": "code",
   "execution_count": 51,
   "metadata": {
    "slideshow": {
     "slide_type": "fragment"
    }
   },
   "outputs": [
    {
     "data": {
      "text/plain": [
       "1.0 + -1.0 ϵ"
      ]
     },
     "execution_count": 51,
     "metadata": {},
     "output_type": "execute_result"
    }
   ],
   "source": [
    "1/(1+ϵ)  # Exact power series:  1-ϵ+ϵ²-ϵ³-..."
   ]
  },
  {
   "cell_type": "code",
   "execution_count": 52,
   "metadata": {
    "slideshow": {
     "slide_type": "fragment"
    }
   },
   "outputs": [
    {
     "data": {
      "text/plain": [
       "1.0 + 10.0 ϵ"
      ]
     },
     "execution_count": 52,
     "metadata": {},
     "output_type": "execute_result"
    }
   ],
   "source": [
    "(1+ϵ)^10 ## Note this just works (we didn't train powers)!!"
   ]
  },
  {
   "cell_type": "markdown",
   "metadata": {
    "slideshow": {
     "slide_type": "slide"
    }
   },
   "source": [
    "# Distributed and GPU computing\n",
    "Before you think about going to the GPU or distributed make sure that your single-core performance is stellar!\n",
    "\n",
    "Secret Weapons:\n",
    "- [StructOfArrays.jl](https://github.com/simonster/StructsOfArrays.jl)\n",
    "- [StaticArrays.jl](https://github.com/JuliaArrays/StaticArrays.jl)\n",
    "\n",
    "Julia has support for parallelism in the standard library and through packages:\n",
    "- Distributed\n",
    "- [DistributedArrays.jl](https://github.com/JuliaParallel/DistributedArrays.jl)\n",
    "- [MPI.jl](https://github.com/JuliaParallel/MPI.jl)\n",
    "- ..."
   ]
  },
  {
   "cell_type": "code",
   "execution_count": 53,
   "metadata": {
    "slideshow": {
     "slide_type": "subslide"
    }
   },
   "outputs": [],
   "source": [
    "using Distributed"
   ]
  },
  {
   "cell_type": "code",
   "execution_count": 54,
   "metadata": {
    "slideshow": {
     "slide_type": "fragment"
    }
   },
   "outputs": [
    {
     "data": {
      "text/plain": [
       "4-element Array{Int64,1}:\n",
       " 2\n",
       " 3\n",
       " 4\n",
       " 5"
      ]
     },
     "execution_count": 54,
     "metadata": {},
     "output_type": "execute_result"
    }
   ],
   "source": [
    "addprocs(4)"
   ]
  },
  {
   "cell_type": "markdown",
   "metadata": {
    "slideshow": {
     "slide_type": "fragment"
    }
   },
   "source": [
    "we now have one master process and four worker processes"
   ]
  },
  {
   "cell_type": "code",
   "execution_count": 55,
   "metadata": {
    "slideshow": {
     "slide_type": "fragment"
    }
   },
   "outputs": [
    {
     "data": {
      "text/plain": [
       "5"
      ]
     },
     "execution_count": 55,
     "metadata": {},
     "output_type": "execute_result"
    }
   ],
   "source": [
    "nprocs()"
   ]
  },
  {
   "cell_type": "code",
   "execution_count": 56,
   "metadata": {
    "slideshow": {
     "slide_type": "fragment"
    }
   },
   "outputs": [
    {
     "data": {
      "text/plain": [
       "4"
      ]
     },
     "execution_count": 56,
     "metadata": {},
     "output_type": "execute_result"
    }
   ],
   "source": [
    "nworkers()"
   ]
  },
  {
   "cell_type": "code",
   "execution_count": 57,
   "metadata": {
    "slideshow": {
     "slide_type": "fragment"
    }
   },
   "outputs": [
    {
     "data": {
      "text/plain": [
       "4-element Array{Int64,1}:\n",
       " 2\n",
       " 3\n",
       " 4\n",
       " 5"
      ]
     },
     "execution_count": 57,
     "metadata": {},
     "output_type": "execute_result"
    }
   ],
   "source": [
    "workers()"
   ]
  },
  {
   "cell_type": "code",
   "execution_count": 79,
   "metadata": {
    "slideshow": {
     "slide_type": "subslide"
    }
   },
   "outputs": [
    {
     "data": {
      "text/plain": [
       "Future(2, 1, 67, nothing)"
      ]
     },
     "execution_count": 79,
     "metadata": {},
     "output_type": "execute_result"
    }
   ],
   "source": [
    "f_id = remotecall(myid, 2)"
   ]
  },
  {
   "cell_type": "code",
   "execution_count": 80,
   "metadata": {
    "slideshow": {
     "slide_type": "fragment"
    }
   },
   "outputs": [
    {
     "data": {
      "text/plain": [
       "Future(2, 1, 67, nothing)"
      ]
     },
     "execution_count": 80,
     "metadata": {},
     "output_type": "execute_result"
    }
   ],
   "source": [
    "wait(f_id)"
   ]
  },
  {
   "cell_type": "code",
   "execution_count": 81,
   "metadata": {
    "slideshow": {
     "slide_type": "fragment"
    }
   },
   "outputs": [
    {
     "data": {
      "text/plain": [
       "2"
      ]
     },
     "execution_count": 81,
     "metadata": {},
     "output_type": "execute_result"
    }
   ],
   "source": [
    "# Note: `fetch` will `wait` on the value being available\n",
    "fetch(f_id)"
   ]
  },
  {
   "cell_type": "markdown",
   "metadata": {
    "slideshow": {
     "slide_type": "subslide"
    }
   },
   "source": [
    "`wait` and `fetch` require multiple messages to be send over the network. For efficiency two variants are provided.\n",
    "- `remotecall_wait` = `wait(remotecall())`\n",
    "- `remotecall_fetch` = `fetch(remotecall())`"
   ]
  },
  {
   "cell_type": "code",
   "execution_count": 61,
   "metadata": {
    "slideshow": {
     "slide_type": "fragment"
    }
   },
   "outputs": [
    {
     "data": {
      "text/plain": [
       "Future(4, 1, 8, nothing)"
      ]
     },
     "execution_count": 61,
     "metadata": {},
     "output_type": "execute_result"
    }
   ],
   "source": [
    "remotecall_wait(x->2x, 4, 2) # Closures get serialized"
   ]
  },
  {
   "cell_type": "code",
   "execution_count": 62,
   "metadata": {
    "slideshow": {
     "slide_type": "fragment"
    }
   },
   "outputs": [
    {
     "ename": "LoadError",
     "evalue": "On worker 3:\nUndefVarError: #g not defined\ndeserialize_datatype at /home/vchuravy/src/julia/usr/share/julia/stdlib/v1.0/Serialization/src/Serialization.jl:1051\nhandle_deserialize at /home/vchuravy/src/julia/usr/share/julia/stdlib/v1.0/Serialization/src/Serialization.jl:743\ndeserialize at /home/vchuravy/src/julia/usr/share/julia/stdlib/v1.0/Serialization/src/Serialization.jl:703\nhandle_deserialize at /home/vchuravy/src/julia/usr/share/julia/stdlib/v1.0/Serialization/src/Serialization.jl:750\ndeserialize_msg at /home/vchuravy/src/julia/usr/share/julia/stdlib/v1.0/Serialization/src/Serialization.jl:703\n#invokelatest#1 at ./essentials.jl:686 [inlined]\ninvokelatest at ./essentials.jl:685 [inlined]\nmessage_handler_loop at /home/vchuravy/src/julia/usr/share/julia/stdlib/v1.0/Distributed/src/process_messages.jl:160\nprocess_tcp_streams at /home/vchuravy/src/julia/usr/share/julia/stdlib/v1.0/Distributed/src/process_messages.jl:117\n#105 at ./task.jl:259",
     "output_type": "error",
     "traceback": [
      "On worker 3:\nUndefVarError: #g not defined\ndeserialize_datatype at /home/vchuravy/src/julia/usr/share/julia/stdlib/v1.0/Serialization/src/Serialization.jl:1051\nhandle_deserialize at /home/vchuravy/src/julia/usr/share/julia/stdlib/v1.0/Serialization/src/Serialization.jl:743\ndeserialize at /home/vchuravy/src/julia/usr/share/julia/stdlib/v1.0/Serialization/src/Serialization.jl:703\nhandle_deserialize at /home/vchuravy/src/julia/usr/share/julia/stdlib/v1.0/Serialization/src/Serialization.jl:750\ndeserialize_msg at /home/vchuravy/src/julia/usr/share/julia/stdlib/v1.0/Serialization/src/Serialization.jl:703\n#invokelatest#1 at ./essentials.jl:686 [inlined]\ninvokelatest at ./essentials.jl:685 [inlined]\nmessage_handler_loop at /home/vchuravy/src/julia/usr/share/julia/stdlib/v1.0/Distributed/src/process_messages.jl:160\nprocess_tcp_streams at /home/vchuravy/src/julia/usr/share/julia/stdlib/v1.0/Distributed/src/process_messages.jl:117\n#105 at ./task.jl:259",
      "",
      "Stacktrace:",
      " [1] #remotecall_fetch#149 at /home/vchuravy/src/julia/usr/share/julia/stdlib/v1.0/Distributed/src/remotecall.jl:379 [inlined]",
      " [2] remotecall_fetch(::Function, ::Distributed.Worker, ::Int64) at /home/vchuravy/src/julia/usr/share/julia/stdlib/v1.0/Distributed/src/remotecall.jl:371",
      " [3] #remotecall_fetch#152(::Base.Iterators.Pairs{Union{},Union{},Tuple{},NamedTuple{(),Tuple{}}}, ::Function, ::Function, ::Int64, ::Int64) at /home/vchuravy/src/julia/usr/share/julia/stdlib/v1.0/Distributed/src/remotecall.jl:392",
      " [4] remotecall_fetch(::Function, ::Int64, ::Int64) at /home/vchuravy/src/julia/usr/share/julia/stdlib/v1.0/Distributed/src/remotecall.jl:392",
      " [5] top-level scope at none:0"
     ]
    }
   ],
   "source": [
    "g(x) = 2x\n",
    "remotecall_fetch(g, 3, 2)"
   ]
  },
  {
   "cell_type": "code",
   "execution_count": 63,
   "metadata": {
    "slideshow": {
     "slide_type": "subslide"
    }
   },
   "outputs": [
    {
     "data": {
      "text/plain": [
       "4"
      ]
     },
     "execution_count": 63,
     "metadata": {},
     "output_type": "execute_result"
    }
   ],
   "source": [
    "@everywhere h(x) = 2x\n",
    "remotecall_fetch(h, 3, 2)"
   ]
  },
  {
   "cell_type": "markdown",
   "metadata": {
    "slideshow": {
     "slide_type": "subslide"
    }
   },
   "source": [
    "# An excursion: Tasks"
   ]
  },
  {
   "cell_type": "code",
   "execution_count": 64,
   "metadata": {
    "slideshow": {
     "slide_type": "fragment"
    }
   },
   "outputs": [
    {
     "name": "stdout",
     "output_type": "stream",
     "text": [
      "Hello workshop!\n",
      "Today is reverse day!\n"
     ]
    },
    {
     "data": {
      "text/plain": [
       "Task (done) @0x00007fa9d13539d0"
      ]
     },
     "execution_count": 64,
     "metadata": {},
     "output_type": "execute_result"
    }
   ],
   "source": [
    "@sync begin\n",
    "    @async (sleep(3); println(\"Today is reverse day!\"))\n",
    "    @async (sleep(2); println(\" workshop!\"))\n",
    "    @async print(\"Hello\")\n",
    "end"
   ]
  },
  {
   "cell_type": "code",
   "execution_count": 65,
   "metadata": {
    "slideshow": {
     "slide_type": "fragment"
    }
   },
   "outputs": [
    {
     "name": "stdout",
     "output_type": "stream",
     "text": [
      "      From worker 2:\tHello from worker 2\n",
      "      From worker 3:\tHello from worker 3\n",
      "      From worker 4:\tHello from worker 4\n",
      "      From worker 5:\tHello from worker 5\n"
     ]
    }
   ],
   "source": [
    "@sync begin\n",
    "    for wid in workers()\n",
    "        @async remotecall_wait(println, wid, \"Hello from worker \", string(wid))\n",
    "    end\n",
    "end"
   ]
  },
  {
   "cell_type": "markdown",
   "metadata": {
    "slideshow": {
     "slide_type": "subslide"
    }
   },
   "source": [
    "Use `@verywhere` to execute a top-level block on each process"
   ]
  },
  {
   "cell_type": "code",
   "execution_count": 82,
   "metadata": {
    "slideshow": {
     "slide_type": "fragment"
    }
   },
   "outputs": [],
   "source": [
    "@everywhere begin\n",
    "    using Pkg\n",
    "    Pkg.activate(@__DIR__)\n",
    "end"
   ]
  },
  {
   "cell_type": "code",
   "execution_count": 68,
   "metadata": {
    "slideshow": {
     "slide_type": "fragment"
    }
   },
   "outputs": [],
   "source": [
    "# Define on all processes the variable bar\n",
    "@everywhere bar = 1"
   ]
  },
  {
   "cell_type": "code",
   "execution_count": 69,
   "metadata": {
    "slideshow": {
     "slide_type": "fragment"
    }
   },
   "outputs": [],
   "source": [
    "foo =  10\n",
    "@everywhere baz = $foo"
   ]
  },
  {
   "cell_type": "code",
   "execution_count": 83,
   "metadata": {
    "slideshow": {
     "slide_type": "subslide"
    }
   },
   "outputs": [],
   "source": [
    "@everywhere using DistributedArrays"
   ]
  },
  {
   "cell_type": "code",
   "execution_count": 87,
   "metadata": {
    "slideshow": {
     "slide_type": "fragment"
    }
   },
   "outputs": [
    {
     "data": {
      "text/plain": [
       "64×64 DArray{Float64,2,Array{Float64,2}}:\n",
       " 1.0  1.0  1.0  1.0  1.0  1.0  1.0  1.0  …  1.0  1.0  1.0  1.0  1.0  1.0  1.0\n",
       " 1.0  1.0  1.0  1.0  1.0  1.0  1.0  1.0     1.0  1.0  1.0  1.0  1.0  1.0  1.0\n",
       " 1.0  1.0  1.0  1.0  1.0  1.0  1.0  1.0     1.0  1.0  1.0  1.0  1.0  1.0  1.0\n",
       " 1.0  1.0  1.0  1.0  1.0  1.0  1.0  1.0     1.0  1.0  1.0  1.0  1.0  1.0  1.0\n",
       " 1.0  1.0  1.0  1.0  1.0  1.0  1.0  1.0     1.0  1.0  1.0  1.0  1.0  1.0  1.0\n",
       " 1.0  1.0  1.0  1.0  1.0  1.0  1.0  1.0  …  1.0  1.0  1.0  1.0  1.0  1.0  1.0\n",
       " 1.0  1.0  1.0  1.0  1.0  1.0  1.0  1.0     1.0  1.0  1.0  1.0  1.0  1.0  1.0\n",
       " 1.0  1.0  1.0  1.0  1.0  1.0  1.0  1.0     1.0  1.0  1.0  1.0  1.0  1.0  1.0\n",
       " 1.0  1.0  1.0  1.0  1.0  1.0  1.0  1.0     1.0  1.0  1.0  1.0  1.0  1.0  1.0\n",
       " 1.0  1.0  1.0  1.0  1.0  1.0  1.0  1.0     1.0  1.0  1.0  1.0  1.0  1.0  1.0\n",
       " 1.0  1.0  1.0  1.0  1.0  1.0  1.0  1.0  …  1.0  1.0  1.0  1.0  1.0  1.0  1.0\n",
       " 1.0  1.0  1.0  1.0  1.0  1.0  1.0  1.0     1.0  1.0  1.0  1.0  1.0  1.0  1.0\n",
       " 1.0  1.0  1.0  1.0  1.0  1.0  1.0  1.0     1.0  1.0  1.0  1.0  1.0  1.0  1.0\n",
       " ⋮                        ⋮              ⋱                 ⋮                 \n",
       " 1.0  1.0  1.0  1.0  1.0  1.0  1.0  1.0     1.0  1.0  1.0  1.0  1.0  1.0  1.0\n",
       " 1.0  1.0  1.0  1.0  1.0  1.0  1.0  1.0     1.0  1.0  1.0  1.0  1.0  1.0  1.0\n",
       " 1.0  1.0  1.0  1.0  1.0  1.0  1.0  1.0     1.0  1.0  1.0  1.0  1.0  1.0  1.0\n",
       " 1.0  1.0  1.0  1.0  1.0  1.0  1.0  1.0  …  1.0  1.0  1.0  1.0  1.0  1.0  1.0\n",
       " 1.0  1.0  1.0  1.0  1.0  1.0  1.0  1.0     1.0  1.0  1.0  1.0  1.0  1.0  1.0\n",
       " 1.0  1.0  1.0  1.0  1.0  1.0  1.0  1.0     1.0  1.0  1.0  1.0  1.0  1.0  1.0\n",
       " 1.0  1.0  1.0  1.0  1.0  1.0  1.0  1.0     1.0  1.0  1.0  1.0  1.0  1.0  1.0\n",
       " 1.0  1.0  1.0  1.0  1.0  1.0  1.0  1.0     1.0  1.0  1.0  1.0  1.0  1.0  1.0\n",
       " 1.0  1.0  1.0  1.0  1.0  1.0  1.0  1.0  …  1.0  1.0  1.0  1.0  1.0  1.0  1.0\n",
       " 1.0  1.0  1.0  1.0  1.0  1.0  1.0  1.0     1.0  1.0  1.0  1.0  1.0  1.0  1.0\n",
       " 1.0  1.0  1.0  1.0  1.0  1.0  1.0  1.0     1.0  1.0  1.0  1.0  1.0  1.0  1.0\n",
       " 1.0  1.0  1.0  1.0  1.0  1.0  1.0  1.0     1.0  1.0  1.0  1.0  1.0  1.0  1.0"
      ]
     },
     "execution_count": 87,
     "metadata": {},
     "output_type": "execute_result"
    }
   ],
   "source": [
    "# Distribute local array across processes\n",
    "dA = distribute(ones(64, 64))"
   ]
  },
  {
   "cell_type": "code",
   "execution_count": 102,
   "metadata": {
    "slideshow": {
     "slide_type": "subslide"
    }
   },
   "outputs": [],
   "source": [
    "# Convert a distributedArray to a local one\n",
    "convert(Array, dA);"
   ]
  },
  {
   "cell_type": "code",
   "execution_count": 89,
   "metadata": {
    "slideshow": {
     "slide_type": "fragment"
    }
   },
   "outputs": [
    {
     "data": {
      "text/plain": [
       "0×0 Array{Float64,2}"
      ]
     },
     "execution_count": 89,
     "metadata": {},
     "output_type": "execute_result"
    }
   ],
   "source": [
    "# access the process local part of the DArray\n",
    "localpart(dA)\n",
    "dA[:L]"
   ]
  },
  {
   "cell_type": "code",
   "execution_count": 94,
   "metadata": {
    "slideshow": {
     "slide_type": "fragment"
    }
   },
   "outputs": [
    {
     "data": {
      "text/plain": [
       "(1:0, 1:0)"
      ]
     },
     "execution_count": 94,
     "metadata": {},
     "output_type": "execute_result"
    }
   ],
   "source": [
    "# Which indexes are local?\n",
    "localindices(dA)"
   ]
  },
  {
   "cell_type": "code",
   "execution_count": 95,
   "metadata": {
    "slideshow": {
     "slide_type": "subslide"
    }
   },
   "outputs": [
    {
     "data": {
      "text/plain": [
       "(250, 250)"
      ]
     },
     "execution_count": 95,
     "metadata": {},
     "output_type": "execute_result"
    }
   ],
   "source": [
    "# Construct a distributed array\n",
    "dA = dfill(0.0, 500, 500)\n",
    "remotecall_fetch(()->size(localpart(dA)), 2)"
   ]
  },
  {
   "cell_type": "code",
   "execution_count": 98,
   "metadata": {
    "slideshow": {
     "slide_type": "fragment"
    }
   },
   "outputs": [
    {
     "data": {
      "text/plain": [
       "(251:500, 1:250)"
      ]
     },
     "execution_count": 98,
     "metadata": {},
     "output_type": "execute_result"
    }
   ],
   "source": [
    "remotecall_fetch(localindices, 3, dA)"
   ]
  },
  {
   "cell_type": "code",
   "execution_count": 100,
   "metadata": {
    "slideshow": {
     "slide_type": "fragment"
    }
   },
   "outputs": [
    {
     "data": {
      "text/plain": [
       "(128, 32)"
      ]
     },
     "execution_count": 100,
     "metadata": {},
     "output_type": "execute_result"
    }
   ],
   "source": [
    "# Darray(init, dims, [procs, dist])\n",
    "dA = dfill(1.0, (128, 128), workers(), [1, nworkers()]);\n",
    "remotecall_fetch(()->size(localpart(dA)), 2)"
   ]
  },
  {
   "cell_type": "code",
   "execution_count": 101,
   "metadata": {
    "slideshow": {
     "slide_type": "subslide"
    }
   },
   "outputs": [
    {
     "data": {
      "text/plain": [
       "mymap! (generic function with 1 method)"
      ]
     },
     "execution_count": 101,
     "metadata": {},
     "output_type": "execute_result"
    }
   ],
   "source": [
    "function mymap!(f::F, dest::DArray, src::DArray) where F\n",
    "    @sync for p in procs(dest)\n",
    "        @async remotecall_wait(p) do\n",
    "            map!(f, localpart(dest), src[localindexes(dest)...])\n",
    "            nothing\n",
    "        end\n",
    "    end\n",
    "    return dest\n",
    "end"
   ]
  }
 ],
 "metadata": {
  "celltoolbar": "Slideshow",
  "kernelspec": {
   "display_name": "Julia 1.0.0",
   "language": "julia",
   "name": "julia-1.0"
  },
  "language_info": {
   "file_extension": ".jl",
   "mimetype": "application/julia",
   "name": "julia",
   "version": "1.0.0"
  },
  "rise": {
   "scroll": true,
   "theme": "Serif"
  }
 },
 "nbformat": 4,
 "nbformat_minor": 2
}
