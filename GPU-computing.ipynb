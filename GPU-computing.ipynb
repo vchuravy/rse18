{
 "cells": [
  {
   "cell_type": "code",
   "execution_count": 1,
   "metadata": {},
   "outputs": [
    {
     "name": "stdout",
     "output_type": "stream",
     "text": [
      "\u001b[32m\u001b[1m  Updating\u001b[22m\u001b[39m registry at `~/.julia/registries/General`\n",
      "\u001b[32m\u001b[1m  Updating\u001b[22m\u001b[39m git-repo `https://github.com/JuliaRegistries/General.git`\n",
      "\u001b[?25l\u001b[2K\u001b[?25h\u001b[32m\u001b[1mPrecompiling\u001b[22m\u001b[39m project...\n"
     ]
    }
   ],
   "source": [
    "using Pkg\n",
    "Pkg.activate(joinpath(@__DIR__, \"gpuenv\"))\n",
    "Pkg.instantiate()\n",
    "pkg\"precompile\""
   ]
  },
  {
   "cell_type": "markdown",
   "metadata": {},
   "source": [
    "# CUDA programming in Julia\n",
    "- CUDAdrv.jl: Device managment\n",
    "- CUDAnative.jl: Native code compilation\n",
    "- CuArrays.jl: High-level abstraction\n",
    "\n",
    "We support both an array interface for the common numerical routines and expose the ability to hand-write cuda kernels in Julia"
   ]
  },
  {
   "cell_type": "markdown",
   "metadata": {},
   "source": [
    "# Writing native cuda code"
   ]
  },
  {
   "cell_type": "code",
   "execution_count": 2,
   "metadata": {},
   "outputs": [
    {
     "data": {
      "text/plain": [
       "\u001b[32m\u001b[1mTest Passed\u001b[22m\u001b[39m"
      ]
     },
     "execution_count": 2,
     "metadata": {},
     "output_type": "execute_result"
    }
   ],
   "source": [
    "using CuArrays, CUDAnative\n",
    "\n",
    "using Test\n",
    "\n",
    "function vadd(a, b, c)\n",
    "    i = (blockIdx().x-1) * blockDim().x + threadIdx().x\n",
    "    c[i] = a[i] + b[i]\n",
    "end\n",
    "\n",
    "dims = (3,4)\n",
    "a = round.(rand(Float32, dims) * 100)\n",
    "b = round.(rand(Float32, dims) * 100)\n",
    "\n",
    "d_a = CuArray(a)\n",
    "d_b = CuArray(b)\n",
    "d_c = similar(d_a)\n",
    "\n",
    "len = prod(dims)\n",
    "@cuda threads=len vadd(d_a, d_b, d_c)\n",
    "c = Array(d_c)\n",
    "@test a+b ≈ c"
   ]
  },
  {
   "cell_type": "markdown",
   "metadata": {},
   "source": [
    "# High-Level interface"
   ]
  },
  {
   "cell_type": "code",
   "execution_count": 3,
   "metadata": {},
   "outputs": [
    {
     "data": {
      "text/plain": [
       "1024-element CuArray{Float64,1}:\n",
       " 2.0\n",
       " 2.0\n",
       " 2.0\n",
       " 2.0\n",
       " 2.0\n",
       " 2.0\n",
       " 2.0\n",
       " 2.0\n",
       " 2.0\n",
       " 2.0\n",
       " 2.0\n",
       " 2.0\n",
       " 2.0\n",
       " ⋮  \n",
       " 2.0\n",
       " 2.0\n",
       " 2.0\n",
       " 2.0\n",
       " 2.0\n",
       " 2.0\n",
       " 2.0\n",
       " 2.0\n",
       " 2.0\n",
       " 2.0\n",
       " 2.0\n",
       " 2.0"
      ]
     },
     "execution_count": 3,
     "metadata": {},
     "output_type": "execute_result"
    }
   ],
   "source": [
    "A = CuArray(ones(1024))\n",
    "B = CuArray(ones(1024))\n",
    "\n",
    "C = A .+ B"
   ]
  },
  {
   "cell_type": "code",
   "execution_count": 4,
   "metadata": {},
   "outputs": [],
   "source": []
  },
  {
   "cell_type": "markdown",
   "metadata": {},
   "source": [
    "# DistributedArrays and CuArray"
   ]
  },
  {
   "cell_type": "code",
   "execution_count": 5,
   "metadata": {},
   "outputs": [],
   "source": [
    "using Distributed\n",
    "addprocs(2)\n",
    "\n",
    "@everywhere begin\n",
    "    using Pkg\n",
    "    Pkg.activate(joinpath(@__DIR__, \"gpuenv\"))\n",
    "    using DistributedArrays\n",
    "    using CuArrays\n",
    "end\n",
    "\n"
   ]
  },
  {
   "cell_type": "code",
   "execution_count": 6,
   "metadata": {},
   "outputs": [
    {
     "data": {
      "text/plain": [
       "2-element Array{Nothing,1}:\n",
       " nothing\n",
       " nothing"
      ]
     },
     "execution_count": 6,
     "metadata": {},
     "output_type": "execute_result"
    }
   ],
   "source": [
    "asyncmap(workers()) do p\n",
    "         remotecall_fetch(() -> CUDAnative.device!(p), p)\n",
    "end"
   ]
  },
  {
   "cell_type": "code",
   "execution_count": 7,
   "metadata": {},
   "outputs": [],
   "source": [
    "using CuArrays\n",
    "# temp fix\n",
    "CuArrays.poolidx(n) = n == 0 ? 1 : ceil(Int, log2(n))+1"
   ]
  },
  {
   "cell_type": "code",
   "execution_count": 8,
   "metadata": {},
   "outputs": [
    {
     "data": {
      "text/plain": [
       "400×400 DArray{Float32,2,CuArray{Float32,2}}:\n",
       " 0.740219    0.172658   0.821089   …  0.548135   0.243916  0.727783 \n",
       " 0.920994    0.458052   0.810904      0.588987   0.477883  0.266962 \n",
       " 0.0390205   0.174865   0.685981      0.361033   0.838053  0.719861 \n",
       " 0.968963    0.311784   0.991953      0.134364   0.457187  0.256853 \n",
       " 0.925141    0.368595   0.665371      0.638219   0.897029  0.179975 \n",
       " 0.44635     0.135313   0.463454   …  0.240648   0.726386  0.313926 \n",
       " 0.667319    0.273761   0.185223      0.206423   0.210963  0.425871 \n",
       " 0.109931    0.735437   0.0184075     0.287933   0.678794  0.706352 \n",
       " 0.470219    0.462143   0.538282      0.275517   0.51972   0.733093 \n",
       " 0.513194    0.993498   0.512975      0.36218    0.173922  0.351693 \n",
       " 0.776175    0.745678   0.923918   …  0.0489085  0.901649  0.196911 \n",
       " 0.294766    0.363851   0.335562      0.0849137  0.400561  0.0804158\n",
       " 0.71401     0.820029   0.0619504     0.764376   0.344917  0.1903   \n",
       " ⋮                                 ⋱                                \n",
       " 0.47473     0.171489   0.75852       0.348855   0.821163  0.478319 \n",
       " 0.627908    0.592857   0.791923      0.247011   0.813234  0.539982 \n",
       " 0.0956433   0.0984003  0.874778   …  0.612969   0.928096  0.69855  \n",
       " 0.794547    0.571019   0.203783      0.421624   0.139713  0.745764 \n",
       " 0.0748714   0.550923   0.38048       0.989792   0.596987  0.0604732\n",
       " 0.320907    0.708749   0.0171458     0.901435   0.527846  0.149454 \n",
       " 0.773808    0.221649   0.298929      0.586945   0.552458  0.112005 \n",
       " 0.00606964  0.153465   0.743644   …  0.732296   0.755606  0.32746  \n",
       " 0.906608    0.288097   0.979733      0.51162    0.569107  0.410381 \n",
       " 0.239184    0.823617   0.0878698     0.901991   0.325874  0.0495338\n",
       " 0.158382    0.990808   0.235526      0.516194   0.642153  0.603309 \n",
       " 0.743923    0.776851   0.0310503     0.658767   0.31398   0.66749  "
      ]
     },
     "execution_count": 8,
     "metadata": {},
     "output_type": "execute_result"
    }
   ],
   "source": [
    "A = DArray((400, 400)) do I\n",
    "        m, n = map(length, I)\n",
    "        reshape(CuArrays.CURAND.curand(Float32, m*n), m, n)\n",
    "    end"
   ]
  },
  {
   "cell_type": "code",
   "execution_count": 9,
   "metadata": {},
   "outputs": [
    {
     "data": {
      "text/plain": [
       "79737.1f0"
      ]
     },
     "execution_count": 9,
     "metadata": {},
     "output_type": "execute_result"
    }
   ],
   "source": [
    "sum(A)"
   ]
  },
  {
   "cell_type": "code",
   "execution_count": 10,
   "metadata": {
    "scrolled": true
   },
   "outputs": [],
   "source": [
    "# A .+ sin.(A)"
   ]
  }
 ],
 "metadata": {
  "kernelspec": {
   "display_name": "Julia 1.0.0",
   "language": "julia",
   "name": "julia-1.0"
  },
  "language_info": {
   "file_extension": ".jl",
   "mimetype": "application/julia",
   "name": "julia",
   "version": "1.0.0"
  }
 },
 "nbformat": 4,
 "nbformat_minor": 2
}
